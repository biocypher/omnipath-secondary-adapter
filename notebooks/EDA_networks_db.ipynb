{
 "cells": [
  {
   "cell_type": "markdown",
   "metadata": {},
   "source": [
    "# Exploratory Data Analysis: Networks Dataframe (from Omnipath database)"
   ]
  },
  {
   "cell_type": "markdown",
   "metadata": {},
   "source": [
    "[//]: # (------------------------------------------    DO NOT MODIFY THIS    ------------------------------------------)\n",
    "<style type=\"text/css\">\n",
    ".tg  {border-collapse:collapse;\n",
    "      border-spacing:0;\n",
    "     }\n",
    ".tg td{border-color:black;\n",
    "       border-style:solid;\n",
    "       border-width:1px;\n",
    "       font-family:Arial, sans-serif;\n",
    "       font-size:14px;\n",
    "       overflow:hidden;\n",
    "       padding:10px 5px;\n",
    "       word-break:normal;\n",
    "      }\n",
    ".tg th{border-color:black;\n",
    "       border-style:solid;\n",
    "       border-width:1px;\n",
    "       font-family:Arial, sans-serif;\n",
    "       font-size:14px;\n",
    "       font-weight:normal;\n",
    "       overflow:hidden;\n",
    "       padding:10px 5px;\n",
    "       word-break:normal;\n",
    "      }\n",
    ".tg .tg-fymr{border-color:inherit;\n",
    "             font-weight:bold;\n",
    "             text-align:left;\n",
    "             vertical-align:top\n",
    "            }\n",
    ".tg .tg-0pky{border-color:inherit;\n",
    "             text-align:left;\n",
    "             vertical-align:top\n",
    "            }\n",
    "[//]: # (--------------------------------------------------------------------------------------------------------------)\n",
    "\n",
    "[//]: # (-------------------------------------    FILL THIS OUT WITH YOUR DATA    -------------------------------------)\n",
    "</style>\n",
    "<table class=\"tg\">\n",
    "    <tbody>\n",
    "      <tr>\n",
    "        <td class=\"tg-fymr\" style=\"font-weight: bold\">Title:</td>\n",
    "        <td class=\"tg-0pky\">Exploratory Data Analysis: Networks Dataframe (from Omnipath database)</td>\n",
    "      </tr>\n",
    "      <tr>\n",
    "        <td class=\"tg-fymr\" style=\"font-weight: bold\">Authors:</td>\n",
    "        <td class=\"tg-0pky\">\n",
    "            <a href=\"https://github.com/ecarrenolozano\" target=\"_blank\" rel=\"noopener noreferrer\">Edwin Carreño</a>\n",
    "        </td>\n",
    "      </tr>\n",
    "      <tr>\n",
    "        <td class=\"tg-fymr\" style=\"font-weight: bold\">Affiliations:</td>\n",
    "        <td class=\"tg-0pky\">\n",
    "            <a href=\"https://www.ssc.uni-heidelberg.de/en\" target=\"_blank\" rel=\"noopener noreferrer\">Scientific Software Center</a>,\n",
    "            <a href=\"https://saezlab.org/\" target=\"_blank\" rel=\"noopener noreferrer\">Saez-Rodriguez Group</a>\n",
    "        </td>\n",
    "      </tr>\n",
    "      <tr>\n",
    "        <td class=\"tg-fymr\" style=\"font-weight: bold\">Date Created:</td>\n",
    "        <td class=\"tg-0pky\">19.03.2025</td>\n",
    "      </tr>\n",
    "      <tr>\n",
    "        <td class=\"tg-fymr\" style=\"font-weight: bold\">Description:</td>\n",
    "        <td class=\"tg-0pky\">Extraction of metadata for building database tables </td>\n",
    "      </tr>\n",
    "    </tbody>\n",
    "</table>\n",
    "\n",
    "[//]: # (--------------------------------------------------------------------------------------------------------------)"
   ]
  },
  {
   "cell_type": "markdown",
   "metadata": {},
   "source": [
    "## Overview\n",
    "\n",
    "This notebook should help to understand the information contained in the \"Networks\" dataset from the Omnipath database."
   ]
  },
  {
   "cell_type": "markdown",
   "metadata": {},
   "source": [
    "## Setup (if required)\n",
    "\n",
    "If your code require to install dependencies before your main code, please add the commands to install the dependencies."
   ]
  },
  {
   "cell_type": "markdown",
   "metadata": {},
   "source": [
    "### Pandas installation"
   ]
  },
  {
   "cell_type": "code",
   "execution_count": 1,
   "metadata": {},
   "outputs": [
    {
     "name": "stdout",
     "output_type": "stream",
     "text": [
      "Note: you may need to restart the kernel to use updated packages.\n"
     ]
    }
   ],
   "source": [
    "%pip install pandas -q"
   ]
  },
  {
   "cell_type": "markdown",
   "metadata": {
    "vscode": {
     "languageId": "plaintext"
    }
   },
   "source": [
    "## Importing Libraries\n",
    "\n",
    "Recommendations:\n",
    "\n",
    "- Respect the order of the imports, they are indicated by the numbers *1, 2, 3*.\n",
    "- One import per line is recommended, with this we can track easily any modified line when we use git.\n",
    "- Absolute imports are recommended (see *3. Local application/library specific imports* below), they improve readability and give better error messages.\n",
    "- You should put a blank line between each group of imports."
   ]
  },
  {
   "cell_type": "code",
   "execution_count": 2,
   "metadata": {},
   "outputs": [],
   "source": [
    "# 1. Standard library imports\n",
    "import os\n",
    "\n",
    "# 2. Related third party imports\n",
    "import numpy as np\n",
    "import pandas as pd\n",
    "\n",
    "# 3. Local application/library specific imports\n",
    "# import <mypackage>.<MyClass>         # this is an example\n",
    "# from <mypackage> import <MyClass>    # this is another example"
   ]
  },
  {
   "cell_type": "markdown",
   "metadata": {
    "jp-MarkdownHeadingCollapsed": true
   },
   "source": [
    "## Introduction\n",
    "\n",
    "TO DO\n"
   ]
  },
  {
   "cell_type": "markdown",
   "metadata": {},
   "source": [
    "## Section 1. Load \"Networks\" dataset"
   ]
  },
  {
   "cell_type": "markdown",
   "metadata": {},
   "source": [
    "### Section 1.1. Setting dataset path"
   ]
  },
  {
   "cell_type": "code",
   "execution_count": 5,
   "metadata": {},
   "outputs": [],
   "source": [
    "dataset_path_networks = os.path.join(\n",
    "    \"../data/omnipath_networks/omnipath_webservice_interactions__latest.tsv.gz\"\n",
    ")\n"
   ]
  },
  {
   "cell_type": "code",
   "execution_count": 6,
   "metadata": {},
   "outputs": [
    {
     "name": "stdout",
     "output_type": "stream",
     "text": [
      "This file exist? True\n"
     ]
    }
   ],
   "source": [
    "print(\"This file exist? {}\".format(os.path.exists(dataset_path_networks)))"
   ]
  },
  {
   "cell_type": "markdown",
   "metadata": {},
   "source": [
    "### Section 1.2. Load dataset as Pandas DataFrame"
   ]
  },
  {
   "cell_type": "markdown",
   "metadata": {},
   "source": [
    "#### Configuring Pandas view"
   ]
  },
  {
   "cell_type": "code",
   "execution_count": 7,
   "metadata": {},
   "outputs": [],
   "source": [
    "pd.set_option(\"display.max_colwidth\", None)\n",
    "pd.set_option(\"display.max_columns\", None)"
   ]
  },
  {
   "cell_type": "markdown",
   "metadata": {},
   "source": [
    "#### Load data into Pandas Dataframe (without predefined data types)\n",
    "\n",
    "By default the option *keep_default_na* is True, it means that Pandas will interpret empty values or null values as NaN values."
   ]
  },
  {
   "cell_type": "code",
   "execution_count": 8,
   "metadata": {},
   "outputs": [],
   "source": [
    "networks_df = pd.read_table(dataset_path_networks, sep=\"\\t\", keep_default_na=True)"
   ]
  },
  {
   "cell_type": "code",
   "execution_count": 10,
   "metadata": {
    "scrolled": true
   },
   "outputs": [
    {
     "name": "stdout",
     "output_type": "stream",
     "text": [
      "<class 'pandas.core.frame.DataFrame'>\n",
      "RangeIndex: 11 entries, 0 to 10\n",
      "Data columns (total 36 columns):\n",
      " #   Column                 Non-Null Count  Dtype \n",
      "---  ------                 --------------  ----- \n",
      " 0   source                 11 non-null     object\n",
      " 1   target                 11 non-null     object\n",
      " 2   source_genesymbol      11 non-null     object\n",
      " 3   target_genesymbol      11 non-null     object\n",
      " 4   is_directed            11 non-null     int64 \n",
      " 5   is_stimulation         11 non-null     int64 \n",
      " 6   is_inhibition          11 non-null     int64 \n",
      " 7   consensus_direction    11 non-null     int64 \n",
      " 8   consensus_stimulation  11 non-null     int64 \n",
      " 9   consensus_inhibition   11 non-null     int64 \n",
      " 10  sources                11 non-null     object\n",
      " 11  references             1 non-null      object\n",
      " 12  omnipath               11 non-null     bool  \n",
      " 13  kinaseextra            11 non-null     bool  \n",
      " 14  ligrecextra            11 non-null     bool  \n",
      " 15  pathwayextra           11 non-null     bool  \n",
      " 16  mirnatarget            11 non-null     bool  \n",
      " 17  dorothea               11 non-null     bool  \n",
      " 18  collectri              11 non-null     bool  \n",
      " 19  tf_target              11 non-null     bool  \n",
      " 20  lncrna_mrna            11 non-null     bool  \n",
      " 21  tf_mirna               11 non-null     bool  \n",
      " 22  small_molecule         11 non-null     bool  \n",
      " 23  dorothea_curated       9 non-null      object\n",
      " 24  dorothea_chipseq       9 non-null      object\n",
      " 25  dorothea_tfbs          9 non-null      object\n",
      " 26  dorothea_coexp         9 non-null      object\n",
      " 27  dorothea_level         9 non-null      object\n",
      " 28  type                   11 non-null     object\n",
      " 29  curation_effort        11 non-null     int64 \n",
      " 30  extra_attrs            11 non-null     object\n",
      " 31  evidences              11 non-null     object\n",
      " 32  ncbi_tax_id_source     11 non-null     int64 \n",
      " 33  entity_type_source     11 non-null     object\n",
      " 34  ncbi_tax_id_target     11 non-null     int64 \n",
      " 35  entity_type_target     11 non-null     object\n",
      "dtypes: bool(11), int64(9), object(16)\n",
      "memory usage: 2.4+ KB\n"
     ]
    }
   ],
   "source": [
    "networks_df.info()"
   ]
  },
  {
   "cell_type": "markdown",
   "metadata": {},
   "source": [
    "## Section 2. Metadata\n",
    "\n",
    "We are interested in having a table with the following information:\n",
    "\n",
    "\n",
    "- Column name.\n",
    "- Data Type.\n",
    "- A certain colum could contain null values.\n",
    "- Number of unique  values.\n",
    "\n",
    "That could be done using the next cell:"
   ]
  },
  {
   "cell_type": "markdown",
   "metadata": {},
   "source": [
    "### Section 2.1. Overview"
   ]
  },
  {
   "cell_type": "code",
   "execution_count": null,
   "metadata": {},
   "outputs": [],
   "source": []
  },
  {
   "cell_type": "markdown",
   "metadata": {},
   "source": [
    "### Section 2.2. Unique values per column"
   ]
  },
  {
   "cell_type": "code",
   "execution_count": 11,
   "metadata": {},
   "outputs": [
    {
     "data": {
      "text/html": [
       "<div>\n",
       "<style scoped>\n",
       "    .dataframe tbody tr th:only-of-type {\n",
       "        vertical-align: middle;\n",
       "    }\n",
       "\n",
       "    .dataframe tbody tr th {\n",
       "        vertical-align: top;\n",
       "    }\n",
       "\n",
       "    .dataframe thead th {\n",
       "        text-align: right;\n",
       "    }\n",
       "</style>\n",
       "<table border=\"1\" class=\"dataframe\">\n",
       "  <thead>\n",
       "    <tr style=\"text-align: right;\">\n",
       "      <th></th>\n",
       "      <th>Column Name</th>\n",
       "      <th>Data Type</th>\n",
       "      <th>Nullable</th>\n",
       "      <th>Unique Values</th>\n",
       "    </tr>\n",
       "  </thead>\n",
       "  <tbody>\n",
       "    <tr>\n",
       "      <th>0</th>\n",
       "      <td>source</td>\n",
       "      <td>object</td>\n",
       "      <td>False</td>\n",
       "      <td>8</td>\n",
       "    </tr>\n",
       "    <tr>\n",
       "      <th>1</th>\n",
       "      <td>target</td>\n",
       "      <td>object</td>\n",
       "      <td>False</td>\n",
       "      <td>8</td>\n",
       "    </tr>\n",
       "    <tr>\n",
       "      <th>2</th>\n",
       "      <td>source_genesymbol</td>\n",
       "      <td>object</td>\n",
       "      <td>False</td>\n",
       "      <td>8</td>\n",
       "    </tr>\n",
       "    <tr>\n",
       "      <th>3</th>\n",
       "      <td>target_genesymbol</td>\n",
       "      <td>object</td>\n",
       "      <td>False</td>\n",
       "      <td>9</td>\n",
       "    </tr>\n",
       "    <tr>\n",
       "      <th>4</th>\n",
       "      <td>is_directed</td>\n",
       "      <td>int64</td>\n",
       "      <td>False</td>\n",
       "      <td>1</td>\n",
       "    </tr>\n",
       "    <tr>\n",
       "      <th>5</th>\n",
       "      <td>is_stimulation</td>\n",
       "      <td>int64</td>\n",
       "      <td>False</td>\n",
       "      <td>1</td>\n",
       "    </tr>\n",
       "    <tr>\n",
       "      <th>6</th>\n",
       "      <td>is_inhibition</td>\n",
       "      <td>int64</td>\n",
       "      <td>False</td>\n",
       "      <td>1</td>\n",
       "    </tr>\n",
       "    <tr>\n",
       "      <th>7</th>\n",
       "      <td>consensus_direction</td>\n",
       "      <td>int64</td>\n",
       "      <td>False</td>\n",
       "      <td>1</td>\n",
       "    </tr>\n",
       "    <tr>\n",
       "      <th>8</th>\n",
       "      <td>consensus_stimulation</td>\n",
       "      <td>int64</td>\n",
       "      <td>False</td>\n",
       "      <td>1</td>\n",
       "    </tr>\n",
       "    <tr>\n",
       "      <th>9</th>\n",
       "      <td>consensus_inhibition</td>\n",
       "      <td>int64</td>\n",
       "      <td>False</td>\n",
       "      <td>1</td>\n",
       "    </tr>\n",
       "    <tr>\n",
       "      <th>10</th>\n",
       "      <td>sources</td>\n",
       "      <td>object</td>\n",
       "      <td>False</td>\n",
       "      <td>4</td>\n",
       "    </tr>\n",
       "    <tr>\n",
       "      <th>11</th>\n",
       "      <td>references</td>\n",
       "      <td>object</td>\n",
       "      <td>True</td>\n",
       "      <td>1</td>\n",
       "    </tr>\n",
       "    <tr>\n",
       "      <th>12</th>\n",
       "      <td>omnipath</td>\n",
       "      <td>bool</td>\n",
       "      <td>False</td>\n",
       "      <td>1</td>\n",
       "    </tr>\n",
       "    <tr>\n",
       "      <th>13</th>\n",
       "      <td>kinaseextra</td>\n",
       "      <td>bool</td>\n",
       "      <td>False</td>\n",
       "      <td>2</td>\n",
       "    </tr>\n",
       "    <tr>\n",
       "      <th>14</th>\n",
       "      <td>ligrecextra</td>\n",
       "      <td>bool</td>\n",
       "      <td>False</td>\n",
       "      <td>1</td>\n",
       "    </tr>\n",
       "    <tr>\n",
       "      <th>15</th>\n",
       "      <td>pathwayextra</td>\n",
       "      <td>bool</td>\n",
       "      <td>False</td>\n",
       "      <td>1</td>\n",
       "    </tr>\n",
       "    <tr>\n",
       "      <th>16</th>\n",
       "      <td>mirnatarget</td>\n",
       "      <td>bool</td>\n",
       "      <td>False</td>\n",
       "      <td>1</td>\n",
       "    </tr>\n",
       "    <tr>\n",
       "      <th>17</th>\n",
       "      <td>dorothea</td>\n",
       "      <td>bool</td>\n",
       "      <td>False</td>\n",
       "      <td>2</td>\n",
       "    </tr>\n",
       "    <tr>\n",
       "      <th>18</th>\n",
       "      <td>collectri</td>\n",
       "      <td>bool</td>\n",
       "      <td>False</td>\n",
       "      <td>1</td>\n",
       "    </tr>\n",
       "    <tr>\n",
       "      <th>19</th>\n",
       "      <td>tf_target</td>\n",
       "      <td>bool</td>\n",
       "      <td>False</td>\n",
       "      <td>2</td>\n",
       "    </tr>\n",
       "    <tr>\n",
       "      <th>20</th>\n",
       "      <td>lncrna_mrna</td>\n",
       "      <td>bool</td>\n",
       "      <td>False</td>\n",
       "      <td>1</td>\n",
       "    </tr>\n",
       "    <tr>\n",
       "      <th>21</th>\n",
       "      <td>tf_mirna</td>\n",
       "      <td>bool</td>\n",
       "      <td>False</td>\n",
       "      <td>1</td>\n",
       "    </tr>\n",
       "    <tr>\n",
       "      <th>22</th>\n",
       "      <td>small_molecule</td>\n",
       "      <td>bool</td>\n",
       "      <td>False</td>\n",
       "      <td>1</td>\n",
       "    </tr>\n",
       "    <tr>\n",
       "      <th>23</th>\n",
       "      <td>dorothea_curated</td>\n",
       "      <td>object</td>\n",
       "      <td>True</td>\n",
       "      <td>2</td>\n",
       "    </tr>\n",
       "    <tr>\n",
       "      <th>24</th>\n",
       "      <td>dorothea_chipseq</td>\n",
       "      <td>object</td>\n",
       "      <td>True</td>\n",
       "      <td>2</td>\n",
       "    </tr>\n",
       "    <tr>\n",
       "      <th>25</th>\n",
       "      <td>dorothea_tfbs</td>\n",
       "      <td>object</td>\n",
       "      <td>True</td>\n",
       "      <td>1</td>\n",
       "    </tr>\n",
       "    <tr>\n",
       "      <th>26</th>\n",
       "      <td>dorothea_coexp</td>\n",
       "      <td>object</td>\n",
       "      <td>True</td>\n",
       "      <td>1</td>\n",
       "    </tr>\n",
       "    <tr>\n",
       "      <th>27</th>\n",
       "      <td>dorothea_level</td>\n",
       "      <td>object</td>\n",
       "      <td>True</td>\n",
       "      <td>1</td>\n",
       "    </tr>\n",
       "    <tr>\n",
       "      <th>28</th>\n",
       "      <td>type</td>\n",
       "      <td>object</td>\n",
       "      <td>False</td>\n",
       "      <td>2</td>\n",
       "    </tr>\n",
       "    <tr>\n",
       "      <th>29</th>\n",
       "      <td>curation_effort</td>\n",
       "      <td>int64</td>\n",
       "      <td>False</td>\n",
       "      <td>2</td>\n",
       "    </tr>\n",
       "    <tr>\n",
       "      <th>30</th>\n",
       "      <td>extra_attrs</td>\n",
       "      <td>object</td>\n",
       "      <td>False</td>\n",
       "      <td>3</td>\n",
       "    </tr>\n",
       "    <tr>\n",
       "      <th>31</th>\n",
       "      <td>evidences</td>\n",
       "      <td>object</td>\n",
       "      <td>False</td>\n",
       "      <td>6</td>\n",
       "    </tr>\n",
       "    <tr>\n",
       "      <th>32</th>\n",
       "      <td>ncbi_tax_id_source</td>\n",
       "      <td>int64</td>\n",
       "      <td>False</td>\n",
       "      <td>3</td>\n",
       "    </tr>\n",
       "    <tr>\n",
       "      <th>33</th>\n",
       "      <td>entity_type_source</td>\n",
       "      <td>object</td>\n",
       "      <td>False</td>\n",
       "      <td>1</td>\n",
       "    </tr>\n",
       "    <tr>\n",
       "      <th>34</th>\n",
       "      <td>ncbi_tax_id_target</td>\n",
       "      <td>int64</td>\n",
       "      <td>False</td>\n",
       "      <td>3</td>\n",
       "    </tr>\n",
       "    <tr>\n",
       "      <th>35</th>\n",
       "      <td>entity_type_target</td>\n",
       "      <td>object</td>\n",
       "      <td>False</td>\n",
       "      <td>1</td>\n",
       "    </tr>\n",
       "  </tbody>\n",
       "</table>\n",
       "</div>"
      ],
      "text/plain": [
       "              Column Name Data Type  Nullable  Unique Values\n",
       "0                  source    object     False              8\n",
       "1                  target    object     False              8\n",
       "2       source_genesymbol    object     False              8\n",
       "3       target_genesymbol    object     False              9\n",
       "4             is_directed     int64     False              1\n",
       "5          is_stimulation     int64     False              1\n",
       "6           is_inhibition     int64     False              1\n",
       "7     consensus_direction     int64     False              1\n",
       "8   consensus_stimulation     int64     False              1\n",
       "9    consensus_inhibition     int64     False              1\n",
       "10                sources    object     False              4\n",
       "11             references    object      True              1\n",
       "12               omnipath      bool     False              1\n",
       "13            kinaseextra      bool     False              2\n",
       "14            ligrecextra      bool     False              1\n",
       "15           pathwayextra      bool     False              1\n",
       "16            mirnatarget      bool     False              1\n",
       "17               dorothea      bool     False              2\n",
       "18              collectri      bool     False              1\n",
       "19              tf_target      bool     False              2\n",
       "20            lncrna_mrna      bool     False              1\n",
       "21               tf_mirna      bool     False              1\n",
       "22         small_molecule      bool     False              1\n",
       "23       dorothea_curated    object      True              2\n",
       "24       dorothea_chipseq    object      True              2\n",
       "25          dorothea_tfbs    object      True              1\n",
       "26         dorothea_coexp    object      True              1\n",
       "27         dorothea_level    object      True              1\n",
       "28                   type    object     False              2\n",
       "29        curation_effort     int64     False              2\n",
       "30            extra_attrs    object     False              3\n",
       "31              evidences    object     False              6\n",
       "32     ncbi_tax_id_source     int64     False              3\n",
       "33     entity_type_source    object     False              1\n",
       "34     ncbi_tax_id_target     int64     False              3\n",
       "35     entity_type_target    object     False              1"
      ]
     },
     "execution_count": 11,
     "metadata": {},
     "output_type": "execute_result"
    }
   ],
   "source": [
    "metadata = pd.DataFrame(\n",
    "    {\n",
    "        \"Column Name\": networks_df.columns,\n",
    "        \"Data Type\": networks_df.dtypes.values,\n",
    "        \"Nullable\": networks_df.isnull().any().values,\n",
    "        \"Unique Values\": [networks_df[col].nunique() for col in networks_df.columns],\n",
    "    }\n",
    ")\n",
    "\n",
    "metadata"
   ]
  },
  {
   "cell_type": "markdown",
   "metadata": {},
   "source": [
    "To know all the unique values in a certain column, just type the column's name in the variable *field*:"
   ]
  },
  {
   "cell_type": "code",
   "execution_count": 12,
   "metadata": {},
   "outputs": [
    {
     "name": "stdout",
     "output_type": "stream",
     "text": [
      "List of unique values in field: type\n",
      "\t['post_translational', 'transcriptional']\n"
     ]
    }
   ],
   "source": [
    "field = \"type\"\n",
    "\n",
    "print(\n",
    "    \"List of unique values in field: {}\\n\\t{}\".format(\n",
    "        field, sorted(networks_df[field].unique())\n",
    "    )\n",
    ")"
   ]
  },
  {
   "cell_type": "markdown",
   "metadata": {},
   "source": [
    "## Section 3. Free Exploratory Analysis\n",
    "\n",
    "In this section you can explore the data as you want, it means you can filter, select columns, counting values, etc. Feel free to explore as much you want."
   ]
  },
  {
   "cell_type": "code",
   "execution_count": null,
   "metadata": {},
   "outputs": [],
   "source": []
  },
  {
   "cell_type": "markdown",
   "metadata": {},
   "source": [
    "### Counting Null values"
   ]
  },
  {
   "cell_type": "code",
   "execution_count": 13,
   "metadata": {},
   "outputs": [
    {
     "data": {
      "text/plain": [
       "0     NaN\n",
       "1     NaN\n",
       "2     NaN\n",
       "3     NaN\n",
       "4     NaN\n",
       "6     NaN\n",
       "7     NaN\n",
       "8     NaN\n",
       "9     NaN\n",
       "10    NaN\n",
       "Name: references, dtype: object"
      ]
     },
     "execution_count": 13,
     "metadata": {},
     "output_type": "execute_result"
    }
   ],
   "source": [
    "networks_df.references[networks_df[\"references\"].isnull()]"
   ]
  },
  {
   "cell_type": "markdown",
   "metadata": {},
   "source": [
    "### Counting Null "
   ]
  },
  {
   "cell_type": "code",
   "execution_count": 14,
   "metadata": {},
   "outputs": [
    {
     "data": {
      "text/plain": [
       "np.int64(10)"
      ]
     },
     "execution_count": 14,
     "metadata": {},
     "output_type": "execute_result"
    }
   ],
   "source": [
    "num_nulls_in_dorothea_curated = networks_df[\"references\"].isnull().sum()\n",
    "num_nulls_in_dorothea_curated"
   ]
  },
  {
   "cell_type": "markdown",
   "metadata": {},
   "source": [
    "### Counting True values"
   ]
  },
  {
   "cell_type": "code",
   "execution_count": 15,
   "metadata": {},
   "outputs": [
    {
     "data": {
      "text/plain": [
       "np.int64(8)"
      ]
     },
     "execution_count": 15,
     "metadata": {},
     "output_type": "execute_result"
    }
   ],
   "source": [
    "num_True_in_dorothea_curated = (networks_df.dorothea_curated == True).sum()\n",
    "num_True_in_dorothea_curated"
   ]
  },
  {
   "cell_type": "markdown",
   "metadata": {},
   "source": [
    "### Counting \"True\" values"
   ]
  },
  {
   "cell_type": "code",
   "execution_count": 16,
   "metadata": {},
   "outputs": [
    {
     "data": {
      "text/plain": [
       "np.int64(0)"
      ]
     },
     "execution_count": 16,
     "metadata": {},
     "output_type": "execute_result"
    }
   ],
   "source": [
    "num_true_in_dorothea_curated = (networks_df.dorothea_curated == \"True\").sum()\n",
    "num_true_in_dorothea_curated"
   ]
  },
  {
   "cell_type": "markdown",
   "metadata": {},
   "source": [
    "### Counting 1 values"
   ]
  },
  {
   "cell_type": "code",
   "execution_count": 17,
   "metadata": {},
   "outputs": [
    {
     "data": {
      "text/plain": [
       "np.int64(0)"
      ]
     },
     "execution_count": 17,
     "metadata": {},
     "output_type": "execute_result"
    }
   ],
   "source": [
    "num_one_in_dorothea_curated = (networks_df.dorothea_curated == \"1\").sum()\n",
    "num_one_in_dorothea_curated"
   ]
  },
  {
   "cell_type": "markdown",
   "metadata": {},
   "source": [
    "### Counting False values"
   ]
  },
  {
   "cell_type": "code",
   "execution_count": 18,
   "metadata": {},
   "outputs": [
    {
     "data": {
      "text/plain": [
       "np.int64(1)"
      ]
     },
     "execution_count": 18,
     "metadata": {},
     "output_type": "execute_result"
    }
   ],
   "source": [
    "num_False_in_dorothea_curated = (networks_df.dorothea_curated == False).sum()\n",
    "num_False_in_dorothea_curated"
   ]
  },
  {
   "cell_type": "markdown",
   "metadata": {},
   "source": [
    "### Counting \"False\" values"
   ]
  },
  {
   "cell_type": "code",
   "execution_count": null,
   "metadata": {},
   "outputs": [],
   "source": [
    "num_false_in_dorothea_curated = (networks_df.dorothea_curated == \"False\").sum()\n",
    "num_false_in_dorothea_curated"
   ]
  },
  {
   "cell_type": "markdown",
   "metadata": {},
   "source": [
    "### Filtering"
   ]
  },
  {
   "cell_type": "code",
   "execution_count": null,
   "metadata": {},
   "outputs": [],
   "source": [
    "filtered = networks_df[\n",
    "    (networks_df[\"source\"] == \"Q16254\") & (networks_df[\"target\"] == \"O43683\")\n",
    "]\n",
    "# filtered[[\"source\", \"target\", \"is_stimulation\", \"omnipath\"]]\n",
    "\n",
    "filtered"
   ]
  },
  {
   "cell_type": "code",
   "execution_count": null,
   "metadata": {},
   "outputs": [],
   "source": [
    "omnipath_df = networks_df[(networks_df[\"omnipath\"]) == True]\n",
    "omnipath_df.info()"
   ]
  },
  {
   "cell_type": "code",
   "execution_count": null,
   "metadata": {},
   "outputs": [],
   "source": [
    "omnipath_df[(omnipath_df[\"source\"]) == (omnipath_df[\"target\"])]"
   ]
  },
  {
   "cell_type": "code",
   "execution_count": null,
   "metadata": {},
   "outputs": [],
   "source": []
  },
  {
   "cell_type": "code",
   "execution_count": null,
   "metadata": {},
   "outputs": [],
   "source": []
  },
  {
   "cell_type": "code",
   "execution_count": null,
   "metadata": {},
   "outputs": [],
   "source": []
  },
  {
   "cell_type": "code",
   "execution_count": null,
   "metadata": {},
   "outputs": [],
   "source": []
  },
  {
   "cell_type": "code",
   "execution_count": null,
   "metadata": {},
   "outputs": [],
   "source": []
  },
  {
   "cell_type": "code",
   "execution_count": null,
   "metadata": {},
   "outputs": [],
   "source": []
  },
  {
   "cell_type": "markdown",
   "metadata": {},
   "source": [
    "## Section 4. Load the dataset with predefined data types."
   ]
  },
  {
   "cell_type": "code",
   "execution_count": null,
   "metadata": {},
   "outputs": [],
   "source": [
    "# Data types for interactions\n",
    "dtype = {\n",
    "    \"source\": \"string\",\n",
    "    \"target\": \"string\",\n",
    "    \"source_genesymbol\": \"string\",\n",
    "    \"target_genesymbol\": \"string\",\n",
    "    \"is_directed\": \"boolean\",\n",
    "    \"is_stimulation\": \"boolean\",\n",
    "    \"is_inhibition\": \"boolean\",\n",
    "    \"consensus_direction\": \"boolean\",\n",
    "    \"consensus_stimulation\": \"boolean\",\n",
    "    \"consensus_inhibition\": \"boolean\",\n",
    "    \"sources\": \"string\",\n",
    "    \"references\": \"string\",\n",
    "    \"omnipath\": \"boolean\",\n",
    "    \"kinaseextra\": \"boolean\",\n",
    "    \"ligrecextra\": \"boolean\",\n",
    "    \"pathwayextra\": \"boolean\",\n",
    "    \"mirnatarget\": \"boolean\",\n",
    "    \"dorothea\": \"boolean\",\n",
    "    \"collectri\": \"boolean\",\n",
    "    \"tf_target\": \"boolean\",\n",
    "    \"lncrna_mrna\": \"boolean\",\n",
    "    \"tf_mirna\": \"boolean\",\n",
    "    \"small_molecule\": \"boolean\",\n",
    "    \"dorothea_curated\": \"boolean\",\n",
    "    \"dorothea_chipseq\": \"boolean\",\n",
    "    \"dorothea_tfbs\": \"boolean\",\n",
    "    \"dorothea_coexp\": \"boolean\",\n",
    "    \"dorothea_level\": \"string\",\n",
    "    \"type\": \"string\",\n",
    "    \"curation_effort\": \"Int64\",\n",
    "    \"extra_attrs\": \"string\",\n",
    "    \"evidences\": \"string\",\n",
    "    \"ncbi_tax_id_source\": \"Int64\",\n",
    "    \"entity_type_source\": \"string\",\n",
    "    \"ncbi_tax_id_target\": \"Int64\",\n",
    "    \"entity_type_target\": \"string\",\n",
    "}"
   ]
  },
  {
   "cell_type": "code",
   "execution_count": 37,
   "metadata": {},
   "outputs": [],
   "source": [
    "networks_df = pd.read_table(dataset_path_networks, dtype=dtype)"
   ]
  },
  {
   "cell_type": "code",
   "execution_count": 38,
   "metadata": {},
   "outputs": [
    {
     "name": "stdout",
     "output_type": "stream",
     "text": [
      "<class 'pandas.core.frame.DataFrame'>\n",
      "RangeIndex: 1217900 entries, 0 to 1217899\n",
      "Data columns (total 36 columns):\n",
      " #   Column                 Non-Null Count    Dtype  \n",
      "---  ------                 --------------    -----  \n",
      " 0   source                 1217900 non-null  string \n",
      " 1   target                 1217900 non-null  string \n",
      " 2   source_genesymbol      1217900 non-null  string \n",
      " 3   target_genesymbol      1217900 non-null  string \n",
      " 4   is_directed            1217900 non-null  boolean\n",
      " 5   is_stimulation         1217900 non-null  boolean\n",
      " 6   is_inhibition          1217900 non-null  boolean\n",
      " 7   consensus_direction    1217900 non-null  boolean\n",
      " 8   consensus_stimulation  1217900 non-null  boolean\n",
      " 9   consensus_inhibition   1217900 non-null  boolean\n",
      " 10  sources                1217900 non-null  string \n",
      " 11  references             413020 non-null   string \n",
      " 12  omnipath               1217900 non-null  boolean\n",
      " 13  kinaseextra            1217900 non-null  boolean\n",
      " 14  ligrecextra            1217900 non-null  boolean\n",
      " 15  pathwayextra           1217900 non-null  boolean\n",
      " 16  mirnatarget            1217900 non-null  boolean\n",
      " 17  dorothea               1217900 non-null  boolean\n",
      " 18  collectri              1217900 non-null  boolean\n",
      " 19  tf_target              1217900 non-null  boolean\n",
      " 20  lncrna_mrna            1217900 non-null  boolean\n",
      " 21  tf_mirna               1217900 non-null  boolean\n",
      " 22  small_molecule         1217900 non-null  boolean\n",
      " 23  dorothea_curated       666310 non-null   boolean\n",
      " 24  dorothea_chipseq       666310 non-null   boolean\n",
      " 25  dorothea_tfbs          666310 non-null   boolean\n",
      " 26  dorothea_coexp         666310 non-null   boolean\n",
      " 27  dorothea_level         666310 non-null   string \n",
      " 28  type                   1217900 non-null  string \n",
      " 29  curation_effort        1217900 non-null  Int64  \n",
      " 30  extra_attrs            1217900 non-null  string \n",
      " 31  evidences              1217900 non-null  string \n",
      " 32  ncbi_tax_id_source     1217900 non-null  Int64  \n",
      " 33  entity_type_source     1217900 non-null  string \n",
      " 34  ncbi_tax_id_target     1217900 non-null  Int64  \n",
      " 35  entity_type_target     1217900 non-null  string \n",
      "dtypes: Int64(3), boolean(21), string(12)\n",
      "memory usage: 191.6 MB\n"
     ]
    }
   ],
   "source": [
    "networks_df.info()"
   ]
  },
  {
   "cell_type": "markdown",
   "metadata": {},
   "source": [
    "Note that by specifying the datatypes the size of the dataset in memory has been reduced **21.83%**."
   ]
  },
  {
   "cell_type": "code",
   "execution_count": null,
   "metadata": {},
   "outputs": [],
   "source": []
  },
  {
   "cell_type": "code",
   "execution_count": null,
   "metadata": {},
   "outputs": [],
   "source": []
  }
 ],
 "metadata": {
  "kernelspec": {
   "display_name": "Python (env_biocypher)",
   "language": "python",
   "name": "env_biocypher"
  },
  "language_info": {
   "codemirror_mode": {
    "name": "ipython",
    "version": 3
   },
   "file_extension": ".py",
   "mimetype": "text/x-python",
   "name": "python",
   "nbconvert_exporter": "python",
   "pygments_lexer": "ipython3",
   "version": "3.10.16"
  }
 },
 "nbformat": 4,
 "nbformat_minor": 4
}
