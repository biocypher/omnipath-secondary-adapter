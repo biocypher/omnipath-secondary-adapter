{
 "cells": [
  {
   "cell_type": "markdown",
   "metadata": {},
   "source": [
    "# Exploratory Data Analysis: Intercell Dataframe (from Omnipath database)"
   ]
  },
  {
   "cell_type": "markdown",
   "metadata": {},
   "source": [
    "[//]: # (------------------------------------------    DO NOT MODIFY THIS    ------------------------------------------)\n",
    "<style type=\"text/css\">\n",
    ".tg  {border-collapse:collapse;\n",
    "      border-spacing:0;\n",
    "     }\n",
    ".tg td{border-color:black;\n",
    "       border-style:solid;\n",
    "       border-width:1px;\n",
    "       font-family:Arial, sans-serif;\n",
    "       font-size:14px;\n",
    "       overflow:hidden;\n",
    "       padding:10px 5px;\n",
    "       word-break:normal;\n",
    "      }\n",
    ".tg th{border-color:black;\n",
    "       border-style:solid;\n",
    "       border-width:1px;\n",
    "       font-family:Arial, sans-serif;\n",
    "       font-size:14px;\n",
    "       font-weight:normal;\n",
    "       overflow:hidden;\n",
    "       padding:10px 5px;\n",
    "       word-break:normal;\n",
    "      }\n",
    ".tg .tg-fymr{border-color:inherit;\n",
    "             font-weight:bold;\n",
    "             text-align:left;\n",
    "             vertical-align:top\n",
    "            }\n",
    ".tg .tg-0pky{border-color:inherit;\n",
    "             text-align:left;\n",
    "             vertical-align:top\n",
    "            }\n",
    "[//]: # (--------------------------------------------------------------------------------------------------------------)\n",
    "\n",
    "[//]: # (-------------------------------------    FILL THIS OUT WITH YOUR DATA    -------------------------------------)\n",
    "</style>\n",
    "<table class=\"tg\">\n",
    "    <tbody>\n",
    "      <tr>\n",
    "        <td class=\"tg-fymr\" style=\"font-weight: bold\">Title:</td>\n",
    "        <td class=\"tg-0pky\">Exploratory Data Analysis: Intercell Dataframe (from Omnipath database)</td>\n",
    "      </tr>\n",
    "      <tr>\n",
    "        <td class=\"tg-fymr\" style=\"font-weight: bold\">Authors:</td>\n",
    "        <td class=\"tg-0pky\">\n",
    "            <a href=\"https://github.com/ecarrenolozano\" target=\"_blank\" rel=\"noopener noreferrer\">Edwin Carreño</a>\n",
    "        </td>\n",
    "      </tr>\n",
    "      <tr>\n",
    "        <td class=\"tg-fymr\" style=\"font-weight: bold\">Affiliations:</td>\n",
    "        <td class=\"tg-0pky\">\n",
    "            <a href=\"https://www.ssc.uni-heidelberg.de/en\" target=\"_blank\" rel=\"noopener noreferrer\">Scientific Software Center</a>,\n",
    "            <a href=\"https://saezlab.org/\" target=\"_blank\" rel=\"noopener noreferrer\">Saez-Rodriguez Group</a>\n",
    "        </td>\n",
    "      </tr>\n",
    "      <tr>\n",
    "        <td class=\"tg-fymr\" style=\"font-weight: bold\">Date Created:</td>\n",
    "        <td class=\"tg-0pky\">22.04.2025</td>\n",
    "      </tr>\n",
    "      <tr>\n",
    "        <td class=\"tg-fymr\" style=\"font-weight: bold\">Description:</td>\n",
    "        <td class=\"tg-0pky\">Extraction of metadata for building database tables </td>\n",
    "      </tr>\n",
    "    </tbody>\n",
    "</table>\n",
    "\n",
    "[//]: # (--------------------------------------------------------------------------------------------------------------)"
   ]
  },
  {
   "cell_type": "markdown",
   "metadata": {},
   "source": [
    "## Overview\n",
    "\n",
    "This notebook should help to understand the information contained in the \"Intercell\" dataset from the Omnipath database."
   ]
  },
  {
   "cell_type": "markdown",
   "metadata": {},
   "source": [
    "## Setup (if required)\n",
    "\n",
    "If your code require to install dependencies before your main code, please add the commands to install the dependencies."
   ]
  },
  {
   "cell_type": "markdown",
   "metadata": {},
   "source": [
    "### Pandas installation"
   ]
  },
  {
   "cell_type": "code",
   "execution_count": 2,
   "metadata": {},
   "outputs": [
    {
     "name": "stdout",
     "output_type": "stream",
     "text": [
      "Note: you may need to restart the kernel to use updated packages.\n"
     ]
    }
   ],
   "source": [
    "%pip install pandas -q"
   ]
  },
  {
   "cell_type": "markdown",
   "metadata": {
    "vscode": {
     "languageId": "plaintext"
    }
   },
   "source": [
    "## Importing Libraries\n",
    "\n",
    "Recommendations:\n",
    "\n",
    "- Respect the order of the imports, they are indicated by the numbers *1, 2, 3*.\n",
    "- One import per line is recommended, with this we can track easily any modified line when we use git.\n",
    "- Absolute imports are recommended (see *3. Local application/library specific imports* below), they improve readability and give better error messages.\n",
    "- You should put a blank line between each group of imports."
   ]
  },
  {
   "cell_type": "code",
   "execution_count": 3,
   "metadata": {},
   "outputs": [],
   "source": [
    "# 1. Standard library imports\n",
    "import os\n",
    "\n",
    "# 2. Related third party imports\n",
    "import numpy as np\n",
    "import pandas as pd\n",
    "\n",
    "# 3. Local application/library specific imports\n",
    "# import <mypackage>.<MyClass>         # this is an example\n",
    "# from <mypackage> import <MyClass>    # this is another example "
   ]
  },
  {
   "cell_type": "markdown",
   "metadata": {
    "jp-MarkdownHeadingCollapsed": true
   },
   "source": [
    "## Introduction\n",
    "\n",
    "TO DO\n"
   ]
  },
  {
   "cell_type": "markdown",
   "metadata": {},
   "source": [
    "## Section 1. Load \"Networks\" dataset"
   ]
  },
  {
   "cell_type": "markdown",
   "metadata": {},
   "source": [
    "### Section 1.1. Setting dataset path"
   ]
  },
  {
   "cell_type": "code",
   "execution_count": 26,
   "metadata": {},
   "outputs": [],
   "source": [
    "dataset_path_annotations = os.path.join(\"../data/omnipath_annotations/omnipath_webservice_annotations__latest.tsv.gz\")"
   ]
  },
  {
   "cell_type": "code",
   "execution_count": 27,
   "metadata": {},
   "outputs": [
    {
     "name": "stdout",
     "output_type": "stream",
     "text": [
      "This file exist? True\n"
     ]
    }
   ],
   "source": [
    "print(\"This file exist? {}\".format(os.path.exists(dataset_path_annotations)))"
   ]
  },
  {
   "cell_type": "markdown",
   "metadata": {},
   "source": [
    "### Section 1.2. Load dataset as Pandas DataFrame"
   ]
  },
  {
   "cell_type": "markdown",
   "metadata": {},
   "source": [
    "#### Configuring Pandas view"
   ]
  },
  {
   "cell_type": "code",
   "execution_count": 6,
   "metadata": {},
   "outputs": [],
   "source": [
    "pd.set_option('display.max_colwidth', None)\n",
    "pd.set_option('display.max_columns', None)  "
   ]
  },
  {
   "cell_type": "markdown",
   "metadata": {},
   "source": [
    "#### Load data into Pandas Dataframe (without predefined data types)\n",
    "\n",
    "By default the option *keep_default_na* is True, it means that Pandas will interpret empty values or null values as NaN values."
   ]
  },
  {
   "cell_type": "code",
   "execution_count": 28,
   "metadata": {},
   "outputs": [],
   "source": [
    "annotations_df = pd.read_table(dataset_path_annotations, sep=\"\\t\", keep_default_na=True)"
   ]
  },
  {
   "cell_type": "code",
   "execution_count": 30,
   "metadata": {},
   "outputs": [
    {
     "data": {
      "text/html": [
       "<div>\n",
       "<style scoped>\n",
       "    .dataframe tbody tr th:only-of-type {\n",
       "        vertical-align: middle;\n",
       "    }\n",
       "\n",
       "    .dataframe tbody tr th {\n",
       "        vertical-align: top;\n",
       "    }\n",
       "\n",
       "    .dataframe thead th {\n",
       "        text-align: right;\n",
       "    }\n",
       "</style>\n",
       "<table border=\"1\" class=\"dataframe\">\n",
       "  <thead>\n",
       "    <tr style=\"text-align: right;\">\n",
       "      <th></th>\n",
       "      <th>uniprot</th>\n",
       "      <th>genesymbol</th>\n",
       "      <th>entity_type</th>\n",
       "      <th>source</th>\n",
       "      <th>label</th>\n",
       "      <th>value</th>\n",
       "      <th>record_id</th>\n",
       "    </tr>\n",
       "  </thead>\n",
       "  <tbody>\n",
       "    <tr>\n",
       "      <th>0</th>\n",
       "      <td>P01137</td>\n",
       "      <td>TGFB1</td>\n",
       "      <td>protein</td>\n",
       "      <td>CellChatDB</td>\n",
       "      <td>role</td>\n",
       "      <td>ligand</td>\n",
       "      <td>0</td>\n",
       "    </tr>\n",
       "    <tr>\n",
       "      <th>1</th>\n",
       "      <td>P01137</td>\n",
       "      <td>TGFB1</td>\n",
       "      <td>protein</td>\n",
       "      <td>CellChatDB</td>\n",
       "      <td>pathway</td>\n",
       "      <td>TGFb</td>\n",
       "      <td>0</td>\n",
       "    </tr>\n",
       "    <tr>\n",
       "      <th>2</th>\n",
       "      <td>P01137</td>\n",
       "      <td>TGFB1</td>\n",
       "      <td>protein</td>\n",
       "      <td>CellChatDB</td>\n",
       "      <td>category</td>\n",
       "      <td>Secreted Signaling</td>\n",
       "      <td>0</td>\n",
       "    </tr>\n",
       "    <tr>\n",
       "      <th>3</th>\n",
       "      <td>COMPLEX:P36897_P37173</td>\n",
       "      <td>COMPLEX:TGFBR1_TGFBR2</td>\n",
       "      <td>complex</td>\n",
       "      <td>CellChatDB</td>\n",
       "      <td>role</td>\n",
       "      <td>receptor</td>\n",
       "      <td>1</td>\n",
       "    </tr>\n",
       "    <tr>\n",
       "      <th>4</th>\n",
       "      <td>COMPLEX:P36897_P37173</td>\n",
       "      <td>COMPLEX:TGFBR1_TGFBR2</td>\n",
       "      <td>complex</td>\n",
       "      <td>CellChatDB</td>\n",
       "      <td>pathway</td>\n",
       "      <td>TGFb</td>\n",
       "      <td>1</td>\n",
       "    </tr>\n",
       "    <tr>\n",
       "      <th>5</th>\n",
       "      <td>COMPLEX:P36897_P37173</td>\n",
       "      <td>COMPLEX:TGFBR1_TGFBR2</td>\n",
       "      <td>complex</td>\n",
       "      <td>CellChatDB</td>\n",
       "      <td>category</td>\n",
       "      <td>Secreted Signaling</td>\n",
       "      <td>1</td>\n",
       "    </tr>\n",
       "    <tr>\n",
       "      <th>6</th>\n",
       "      <td>P19883</td>\n",
       "      <td>FST</td>\n",
       "      <td>protein</td>\n",
       "      <td>CellChatDB</td>\n",
       "      <td>role</td>\n",
       "      <td>agonist</td>\n",
       "      <td>2</td>\n",
       "    </tr>\n",
       "    <tr>\n",
       "      <th>7</th>\n",
       "      <td>P19883</td>\n",
       "      <td>FST</td>\n",
       "      <td>protein</td>\n",
       "      <td>CellChatDB</td>\n",
       "      <td>pathway</td>\n",
       "      <td>NODAL</td>\n",
       "      <td>2</td>\n",
       "    </tr>\n",
       "    <tr>\n",
       "      <th>8</th>\n",
       "      <td>P19883</td>\n",
       "      <td>FST</td>\n",
       "      <td>protein</td>\n",
       "      <td>CellChatDB</td>\n",
       "      <td>category</td>\n",
       "      <td>Secreted Signaling</td>\n",
       "      <td>2</td>\n",
       "    </tr>\n",
       "    <tr>\n",
       "      <th>9</th>\n",
       "      <td>P19883</td>\n",
       "      <td>FST</td>\n",
       "      <td>protein</td>\n",
       "      <td>CellChatDB</td>\n",
       "      <td>role</td>\n",
       "      <td>antagonist</td>\n",
       "      <td>3</td>\n",
       "    </tr>\n",
       "  </tbody>\n",
       "</table>\n",
       "</div>"
      ],
      "text/plain": [
       "                 uniprot             genesymbol entity_type      source  \\\n",
       "0                 P01137                  TGFB1     protein  CellChatDB   \n",
       "1                 P01137                  TGFB1     protein  CellChatDB   \n",
       "2                 P01137                  TGFB1     protein  CellChatDB   \n",
       "3  COMPLEX:P36897_P37173  COMPLEX:TGFBR1_TGFBR2     complex  CellChatDB   \n",
       "4  COMPLEX:P36897_P37173  COMPLEX:TGFBR1_TGFBR2     complex  CellChatDB   \n",
       "5  COMPLEX:P36897_P37173  COMPLEX:TGFBR1_TGFBR2     complex  CellChatDB   \n",
       "6                 P19883                    FST     protein  CellChatDB   \n",
       "7                 P19883                    FST     protein  CellChatDB   \n",
       "8                 P19883                    FST     protein  CellChatDB   \n",
       "9                 P19883                    FST     protein  CellChatDB   \n",
       "\n",
       "      label               value  record_id  \n",
       "0      role              ligand          0  \n",
       "1   pathway                TGFb          0  \n",
       "2  category  Secreted Signaling          0  \n",
       "3      role            receptor          1  \n",
       "4   pathway                TGFb          1  \n",
       "5  category  Secreted Signaling          1  \n",
       "6      role             agonist          2  \n",
       "7   pathway               NODAL          2  \n",
       "8  category  Secreted Signaling          2  \n",
       "9      role          antagonist          3  "
      ]
     },
     "execution_count": 30,
     "metadata": {},
     "output_type": "execute_result"
    }
   ],
   "source": [
    "annotations_df.head(10)"
   ]
  },
  {
   "cell_type": "code",
   "execution_count": 31,
   "metadata": {
    "scrolled": true
   },
   "outputs": [
    {
     "name": "stdout",
     "output_type": "stream",
     "text": [
      "<class 'pandas.core.frame.DataFrame'>\n",
      "RangeIndex: 30954980 entries, 0 to 30954979\n",
      "Data columns (total 7 columns):\n",
      " #   Column       Dtype \n",
      "---  ------       ----- \n",
      " 0   uniprot      object\n",
      " 1   genesymbol   object\n",
      " 2   entity_type  object\n",
      " 3   source       object\n",
      " 4   label        object\n",
      " 5   value        object\n",
      " 6   record_id    int64 \n",
      "dtypes: int64(1), object(6)\n",
      "memory usage: 1.6+ GB\n"
     ]
    }
   ],
   "source": [
    "annotations_df.info()"
   ]
  },
  {
   "cell_type": "markdown",
   "metadata": {},
   "source": [
    "## Section 2. Metadata\n",
    "\n",
    "We are interested in having a table with the following information:\n",
    "\n",
    "\n",
    "- Column name.\n",
    "- Data Type.\n",
    "- A certain colum could contain null values.\n",
    "- Number of unique  values.\n",
    "\n",
    "That could be done using the next cell:"
   ]
  },
  {
   "cell_type": "markdown",
   "metadata": {},
   "source": [
    "### Section 2.1. Overview"
   ]
  },
  {
   "cell_type": "code",
   "execution_count": 32,
   "metadata": {},
   "outputs": [
    {
     "data": {
      "text/html": [
       "<div>\n",
       "<style scoped>\n",
       "    .dataframe tbody tr th:only-of-type {\n",
       "        vertical-align: middle;\n",
       "    }\n",
       "\n",
       "    .dataframe tbody tr th {\n",
       "        vertical-align: top;\n",
       "    }\n",
       "\n",
       "    .dataframe thead th {\n",
       "        text-align: right;\n",
       "    }\n",
       "</style>\n",
       "<table border=\"1\" class=\"dataframe\">\n",
       "  <thead>\n",
       "    <tr style=\"text-align: right;\">\n",
       "      <th></th>\n",
       "      <th>Column Name</th>\n",
       "      <th>Data Type</th>\n",
       "      <th>Nullable</th>\n",
       "      <th>Unique Values</th>\n",
       "    </tr>\n",
       "  </thead>\n",
       "  <tbody>\n",
       "    <tr>\n",
       "      <th>0</th>\n",
       "      <td>uniprot</td>\n",
       "      <td>object</td>\n",
       "      <td>False</td>\n",
       "      <td>57995</td>\n",
       "    </tr>\n",
       "    <tr>\n",
       "      <th>1</th>\n",
       "      <td>genesymbol</td>\n",
       "      <td>object</td>\n",
       "      <td>False</td>\n",
       "      <td>57777</td>\n",
       "    </tr>\n",
       "    <tr>\n",
       "      <th>2</th>\n",
       "      <td>entity_type</td>\n",
       "      <td>object</td>\n",
       "      <td>False</td>\n",
       "      <td>4</td>\n",
       "    </tr>\n",
       "    <tr>\n",
       "      <th>3</th>\n",
       "      <td>source</td>\n",
       "      <td>object</td>\n",
       "      <td>False</td>\n",
       "      <td>81</td>\n",
       "    </tr>\n",
       "    <tr>\n",
       "      <th>4</th>\n",
       "      <td>label</td>\n",
       "      <td>object</td>\n",
       "      <td>False</td>\n",
       "      <td>160</td>\n",
       "    </tr>\n",
       "    <tr>\n",
       "      <th>5</th>\n",
       "      <td>value</td>\n",
       "      <td>object</td>\n",
       "      <td>True</td>\n",
       "      <td>831767</td>\n",
       "    </tr>\n",
       "    <tr>\n",
       "      <th>6</th>\n",
       "      <td>record_id</td>\n",
       "      <td>int64</td>\n",
       "      <td>False</td>\n",
       "      <td>5522266</td>\n",
       "    </tr>\n",
       "  </tbody>\n",
       "</table>\n",
       "</div>"
      ],
      "text/plain": [
       "   Column Name Data Type  Nullable  Unique Values\n",
       "0      uniprot    object     False          57995\n",
       "1   genesymbol    object     False          57777\n",
       "2  entity_type    object     False              4\n",
       "3       source    object     False             81\n",
       "4        label    object     False            160\n",
       "5        value    object      True         831767\n",
       "6    record_id     int64     False        5522266"
      ]
     },
     "execution_count": 32,
     "metadata": {},
     "output_type": "execute_result"
    }
   ],
   "source": [
    "metadata = pd.DataFrame({\n",
    "    'Column Name': annotations_df.columns,\n",
    "    'Data Type': annotations_df.dtypes.values,\n",
    "    'Nullable': annotations_df.isnull().any().values,\n",
    "    'Unique Values': [annotations_df[col].nunique() for col in annotations_df.columns]\n",
    "})\n",
    "\n",
    "metadata"
   ]
  },
  {
   "cell_type": "markdown",
   "metadata": {},
   "source": [
    "### Section 2.2. Unique values per column"
   ]
  },
  {
   "cell_type": "markdown",
   "metadata": {},
   "source": [
    "To know all the unique values in a certain column, just type the column's name in the variable *field*:"
   ]
  },
  {
   "cell_type": "code",
   "execution_count": 34,
   "metadata": {},
   "outputs": [
    {
     "name": "stdout",
     "output_type": "stream",
     "text": [
      "List of unique values in field: entity_type\n",
      "\t['protein' 'complex' 'small_molecule' 'mirna']\n"
     ]
    }
   ],
   "source": [
    "field = \"entity_type\"\n",
    "\n",
    "print(\"List of unique values in field: {}\\n\\t{}\".format(field, annotations_df[field].unique()))"
   ]
  },
  {
   "cell_type": "markdown",
   "metadata": {},
   "source": [
    "## Section 3. Free Exploratory Analysis\n",
    "\n",
    "In this section you can explore the data as you want, it means you can filter, select columns, counting values, etc. Feel free to explore as much you want."
   ]
  },
  {
   "cell_type": "code",
   "execution_count": null,
   "metadata": {},
   "outputs": [],
   "source": []
  },
  {
   "cell_type": "markdown",
   "metadata": {},
   "source": [
    "### Counting Null values"
   ]
  },
  {
   "cell_type": "code",
   "execution_count": null,
   "metadata": {},
   "outputs": [
    {
     "data": {
      "text/plain": [
       "6        NaN\n",
       "7        NaN\n",
       "8        NaN\n",
       "9        NaN\n",
       "10       NaN\n",
       "        ... \n",
       "91829    NaN\n",
       "91884    NaN\n",
       "91909    NaN\n",
       "91913    NaN\n",
       "91917    NaN\n",
       "Name: references, Length: 32120, dtype: object"
      ]
     },
     "execution_count": 11,
     "metadata": {},
     "output_type": "execute_result"
    }
   ],
   "source": [
    "annotations_df.references[annotations_df['references'].isnull()]"
   ]
  },
  {
   "cell_type": "markdown",
   "metadata": {},
   "source": [
    "### Counting Null "
   ]
  },
  {
   "cell_type": "code",
   "execution_count": 12,
   "metadata": {},
   "outputs": [
    {
     "data": {
      "text/plain": [
       "np.int64(32120)"
      ]
     },
     "execution_count": 12,
     "metadata": {},
     "output_type": "execute_result"
    }
   ],
   "source": [
    "num_nulls_in_references = intercell_df['references'].isnull().sum()\n",
    "num_nulls_in_references"
   ]
  },
  {
   "cell_type": "markdown",
   "metadata": {},
   "source": [
    "### Counting True values"
   ]
  },
  {
   "cell_type": "code",
   "execution_count": null,
   "metadata": {},
   "outputs": [
    {
     "data": {
      "text/plain": [
       "np.int64(0)"
      ]
     },
     "execution_count": 13,
     "metadata": {},
     "output_type": "execute_result"
    }
   ],
   "source": [
    "num_True_in_references = (annotations_df.references==True).sum()\n",
    "num_True_in_references"
   ]
  },
  {
   "cell_type": "markdown",
   "metadata": {},
   "source": [
    "### Counting \"True\" values"
   ]
  },
  {
   "cell_type": "code",
   "execution_count": 14,
   "metadata": {},
   "outputs": [
    {
     "data": {
      "text/plain": [
       "np.int64(0)"
      ]
     },
     "execution_count": 14,
     "metadata": {},
     "output_type": "execute_result"
    }
   ],
   "source": [
    "num_true_in_references = (intercell_df.references==\"True\").sum()\n",
    "num_true_in_references"
   ]
  },
  {
   "cell_type": "markdown",
   "metadata": {},
   "source": [
    "### Counting 1 values"
   ]
  },
  {
   "cell_type": "code",
   "execution_count": 15,
   "metadata": {},
   "outputs": [
    {
     "data": {
      "text/plain": [
       "np.int64(0)"
      ]
     },
     "execution_count": 15,
     "metadata": {},
     "output_type": "execute_result"
    }
   ],
   "source": [
    "num_one_in_references = (intercell_df.references==\"1\").sum()\n",
    "num_one_in_references"
   ]
  },
  {
   "cell_type": "markdown",
   "metadata": {},
   "source": [
    "### Counting False values"
   ]
  },
  {
   "cell_type": "code",
   "execution_count": 16,
   "metadata": {},
   "outputs": [
    {
     "data": {
      "text/plain": [
       "np.int64(0)"
      ]
     },
     "execution_count": 16,
     "metadata": {},
     "output_type": "execute_result"
    }
   ],
   "source": [
    "num_False_in_references= (intercell_df.references==False).sum()\n",
    "num_False_in_references"
   ]
  },
  {
   "cell_type": "markdown",
   "metadata": {},
   "source": [
    "### Counting \"False\" values"
   ]
  },
  {
   "cell_type": "code",
   "execution_count": 17,
   "metadata": {},
   "outputs": [
    {
     "data": {
      "text/plain": [
       "np.int64(0)"
      ]
     },
     "execution_count": 17,
     "metadata": {},
     "output_type": "execute_result"
    }
   ],
   "source": [
    "num_false_in_references = (intercell_df.references==\"False\").sum()\n",
    "num_false_in_references"
   ]
  },
  {
   "cell_type": "markdown",
   "metadata": {},
   "source": [
    "### Filtering"
   ]
  },
  {
   "cell_type": "code",
   "execution_count": 18,
   "metadata": {},
   "outputs": [
    {
     "data": {
      "text/html": [
       "<div>\n",
       "<style scoped>\n",
       "    .dataframe tbody tr th:only-of-type {\n",
       "        vertical-align: middle;\n",
       "    }\n",
       "\n",
       "    .dataframe tbody tr th {\n",
       "        vertical-align: top;\n",
       "    }\n",
       "\n",
       "    .dataframe thead th {\n",
       "        text-align: right;\n",
       "    }\n",
       "</style>\n",
       "<table border=\"1\" class=\"dataframe\">\n",
       "  <thead>\n",
       "    <tr style=\"text-align: right;\">\n",
       "      <th></th>\n",
       "      <th>enzyme</th>\n",
       "      <th>enzyme_genesymbol</th>\n",
       "      <th>substrate</th>\n",
       "      <th>substrate_genesymbol</th>\n",
       "      <th>isoforms</th>\n",
       "      <th>residue_type</th>\n",
       "      <th>residue_offset</th>\n",
       "      <th>modification</th>\n",
       "      <th>sources</th>\n",
       "      <th>references</th>\n",
       "      <th>curation_effort</th>\n",
       "      <th>ncbi_tax_id</th>\n",
       "    </tr>\n",
       "  </thead>\n",
       "  <tbody>\n",
       "    <tr>\n",
       "      <th>65530</th>\n",
       "      <td>O88697</td>\n",
       "      <td>Stk16</td>\n",
       "      <td>Q9D0N7</td>\n",
       "      <td>Chaf1b</td>\n",
       "      <td>1</td>\n",
       "      <td>S</td>\n",
       "      <td>422</td>\n",
       "      <td>phosphorylation</td>\n",
       "      <td>PhosphoNetworks</td>\n",
       "      <td>NaN</td>\n",
       "      <td>0</td>\n",
       "      <td>10090</td>\n",
       "    </tr>\n",
       "    <tr>\n",
       "      <th>65531</th>\n",
       "      <td>O88697</td>\n",
       "      <td>Stk16</td>\n",
       "      <td>Q9D0N7</td>\n",
       "      <td>Chaf1b</td>\n",
       "      <td>1</td>\n",
       "      <td>S</td>\n",
       "      <td>458</td>\n",
       "      <td>phosphorylation</td>\n",
       "      <td>PhosphoNetworks</td>\n",
       "      <td>NaN</td>\n",
       "      <td>0</td>\n",
       "      <td>10090</td>\n",
       "    </tr>\n",
       "  </tbody>\n",
       "</table>\n",
       "</div>"
      ],
      "text/plain": [
       "       enzyme enzyme_genesymbol substrate substrate_genesymbol isoforms  \\\n",
       "65530  O88697             Stk16    Q9D0N7               Chaf1b        1   \n",
       "65531  O88697             Stk16    Q9D0N7               Chaf1b        1   \n",
       "\n",
       "      residue_type  residue_offset     modification          sources  \\\n",
       "65530            S             422  phosphorylation  PhosphoNetworks   \n",
       "65531            S             458  phosphorylation  PhosphoNetworks   \n",
       "\n",
       "      references  curation_effort  ncbi_tax_id  \n",
       "65530        NaN                0        10090  \n",
       "65531        NaN                0        10090  "
      ]
     },
     "execution_count": 18,
     "metadata": {},
     "output_type": "execute_result"
    }
   ],
   "source": [
    "filtered = intercell_df[(intercell_df[\"substrate\"]==\"Q9D0N7\")]\n",
    "filtered"
   ]
  },
  {
   "cell_type": "code",
   "execution_count": 19,
   "metadata": {},
   "outputs": [
    {
     "data": {
      "text/html": [
       "<div>\n",
       "<style scoped>\n",
       "    .dataframe tbody tr th:only-of-type {\n",
       "        vertical-align: middle;\n",
       "    }\n",
       "\n",
       "    .dataframe tbody tr th {\n",
       "        vertical-align: top;\n",
       "    }\n",
       "\n",
       "    .dataframe thead th {\n",
       "        text-align: right;\n",
       "    }\n",
       "</style>\n",
       "<table border=\"1\" class=\"dataframe\">\n",
       "  <thead>\n",
       "    <tr style=\"text-align: right;\">\n",
       "      <th></th>\n",
       "      <th>enzyme</th>\n",
       "      <th>enzyme_genesymbol</th>\n",
       "      <th>substrate</th>\n",
       "      <th>substrate_genesymbol</th>\n",
       "      <th>isoforms</th>\n",
       "      <th>residue_type</th>\n",
       "      <th>residue_offset</th>\n",
       "      <th>modification</th>\n",
       "      <th>sources</th>\n",
       "      <th>references</th>\n",
       "      <th>curation_effort</th>\n",
       "      <th>ncbi_tax_id</th>\n",
       "    </tr>\n",
       "  </thead>\n",
       "  <tbody>\n",
       "    <tr>\n",
       "      <th>69040</th>\n",
       "      <td>P02340</td>\n",
       "      <td>Tp53</td>\n",
       "      <td>Q04207</td>\n",
       "      <td>Rela</td>\n",
       "      <td>2</td>\n",
       "      <td>S</td>\n",
       "      <td>538</td>\n",
       "      <td>phosphorylation</td>\n",
       "      <td>ProtMapper;Sparser_ProtMapper</td>\n",
       "      <td>ProtMapper:18477470</td>\n",
       "      <td>1</td>\n",
       "      <td>10090</td>\n",
       "    </tr>\n",
       "    <tr>\n",
       "      <th>69128</th>\n",
       "      <td>P02340</td>\n",
       "      <td>Tp53</td>\n",
       "      <td>P39689</td>\n",
       "      <td>Cdkn1a</td>\n",
       "      <td>1</td>\n",
       "      <td>S</td>\n",
       "      <td>148</td>\n",
       "      <td>phosphorylation</td>\n",
       "      <td>ProtMapper;Sparser_ProtMapper</td>\n",
       "      <td>ProtMapper:12897801</td>\n",
       "      <td>1</td>\n",
       "      <td>10090</td>\n",
       "    </tr>\n",
       "    <tr>\n",
       "      <th>69715</th>\n",
       "      <td>P02340</td>\n",
       "      <td>Tp53</td>\n",
       "      <td>P02340</td>\n",
       "      <td>Tp53</td>\n",
       "      <td>1</td>\n",
       "      <td>S</td>\n",
       "      <td>37</td>\n",
       "      <td>phosphorylation</td>\n",
       "      <td>ProtMapper;Sparser_ProtMapper</td>\n",
       "      <td>ProtMapper:20354524</td>\n",
       "      <td>1</td>\n",
       "      <td>10090</td>\n",
       "    </tr>\n",
       "    <tr>\n",
       "      <th>69767</th>\n",
       "      <td>P02340</td>\n",
       "      <td>Tp53</td>\n",
       "      <td>Q9Z265</td>\n",
       "      <td>Chek2</td>\n",
       "      <td>1</td>\n",
       "      <td>T</td>\n",
       "      <td>68</td>\n",
       "      <td>phosphorylation</td>\n",
       "      <td>ProtMapper;REACH_ProtMapper</td>\n",
       "      <td>ProtMapper:24553354</td>\n",
       "      <td>1</td>\n",
       "      <td>10090</td>\n",
       "    </tr>\n",
       "    <tr>\n",
       "      <th>69997</th>\n",
       "      <td>P02340</td>\n",
       "      <td>Tp53</td>\n",
       "      <td>Q9DBR7</td>\n",
       "      <td>Ppp1r12a</td>\n",
       "      <td>1;2</td>\n",
       "      <td>T</td>\n",
       "      <td>698</td>\n",
       "      <td>phosphorylation</td>\n",
       "      <td>ProtMapper;REACH_ProtMapper</td>\n",
       "      <td>ProtMapper:24343302</td>\n",
       "      <td>1</td>\n",
       "      <td>10090</td>\n",
       "    </tr>\n",
       "    <tr>\n",
       "      <th>70021</th>\n",
       "      <td>P02340</td>\n",
       "      <td>Tp53</td>\n",
       "      <td>P38532</td>\n",
       "      <td>Hsf1</td>\n",
       "      <td>1;2</td>\n",
       "      <td>S</td>\n",
       "      <td>326</td>\n",
       "      <td>phosphorylation</td>\n",
       "      <td>ProtMapper;Sparser_ProtMapper</td>\n",
       "      <td>ProtMapper:24763051</td>\n",
       "      <td>1</td>\n",
       "      <td>10090</td>\n",
       "    </tr>\n",
       "    <tr>\n",
       "      <th>70187</th>\n",
       "      <td>P02340</td>\n",
       "      <td>Tp53</td>\n",
       "      <td>P27661</td>\n",
       "      <td>H2ax</td>\n",
       "      <td>1</td>\n",
       "      <td>S</td>\n",
       "      <td>140</td>\n",
       "      <td>phosphorylation</td>\n",
       "      <td>ProtMapper;REACH_ProtMapper</td>\n",
       "      <td>ProtMapper:24413150</td>\n",
       "      <td>1</td>\n",
       "      <td>10090</td>\n",
       "    </tr>\n",
       "    <tr>\n",
       "      <th>70303</th>\n",
       "      <td>P02340</td>\n",
       "      <td>Tp53</td>\n",
       "      <td>Q62193</td>\n",
       "      <td>Rpa2</td>\n",
       "      <td>1</td>\n",
       "      <td>S</td>\n",
       "      <td>33</td>\n",
       "      <td>phosphorylation</td>\n",
       "      <td>ProtMapper;REACH_ProtMapper</td>\n",
       "      <td>ProtMapper:29874588</td>\n",
       "      <td>1</td>\n",
       "      <td>10090</td>\n",
       "    </tr>\n",
       "    <tr>\n",
       "      <th>70677</th>\n",
       "      <td>P02340</td>\n",
       "      <td>Tp53</td>\n",
       "      <td>O35280</td>\n",
       "      <td>Chek1</td>\n",
       "      <td>1</td>\n",
       "      <td>S</td>\n",
       "      <td>317</td>\n",
       "      <td>phosphorylation</td>\n",
       "      <td>ProtMapper;REACH_ProtMapper</td>\n",
       "      <td>ProtMapper:29874588</td>\n",
       "      <td>1</td>\n",
       "      <td>10090</td>\n",
       "    </tr>\n",
       "    <tr>\n",
       "      <th>70678</th>\n",
       "      <td>P02340</td>\n",
       "      <td>Tp53</td>\n",
       "      <td>O35280</td>\n",
       "      <td>Chek1</td>\n",
       "      <td>1</td>\n",
       "      <td>S</td>\n",
       "      <td>345</td>\n",
       "      <td>phosphorylation</td>\n",
       "      <td>ProtMapper;REACH_ProtMapper</td>\n",
       "      <td>ProtMapper:20840867</td>\n",
       "      <td>1</td>\n",
       "      <td>10090</td>\n",
       "    </tr>\n",
       "    <tr>\n",
       "      <th>72208</th>\n",
       "      <td>P02340</td>\n",
       "      <td>Tp53</td>\n",
       "      <td>Q60751</td>\n",
       "      <td>Igf1r</td>\n",
       "      <td>1</td>\n",
       "      <td>Y</td>\n",
       "      <td>1163</td>\n",
       "      <td>phosphorylation</td>\n",
       "      <td>BEL-Large-Corpus_ProtMapper;ProtMapper</td>\n",
       "      <td>ProtMapper:19738076</td>\n",
       "      <td>1</td>\n",
       "      <td>10090</td>\n",
       "    </tr>\n",
       "    <tr>\n",
       "      <th>72543</th>\n",
       "      <td>P02340</td>\n",
       "      <td>Tp53</td>\n",
       "      <td>P52480</td>\n",
       "      <td>Pkm</td>\n",
       "      <td>1;2</td>\n",
       "      <td>Y</td>\n",
       "      <td>105</td>\n",
       "      <td>phosphorylation</td>\n",
       "      <td>ProtMapper;REACH_ProtMapper</td>\n",
       "      <td>ProtMapper:27385486</td>\n",
       "      <td>1</td>\n",
       "      <td>10090</td>\n",
       "    </tr>\n",
       "    <tr>\n",
       "      <th>72644</th>\n",
       "      <td>P02340</td>\n",
       "      <td>Tp53</td>\n",
       "      <td>Q9WVH4</td>\n",
       "      <td>Foxo3</td>\n",
       "      <td>1</td>\n",
       "      <td>S</td>\n",
       "      <td>320</td>\n",
       "      <td>phosphorylation</td>\n",
       "      <td>ProtMapper;RLIMS-P_ProtMapper</td>\n",
       "      <td>ProtMapper:24864229</td>\n",
       "      <td>1</td>\n",
       "      <td>10090</td>\n",
       "    </tr>\n",
       "    <tr>\n",
       "      <th>72961</th>\n",
       "      <td>P02340</td>\n",
       "      <td>Tp53</td>\n",
       "      <td>Q9QZR5</td>\n",
       "      <td>Hipk2</td>\n",
       "      <td>1;2</td>\n",
       "      <td>S</td>\n",
       "      <td>46</td>\n",
       "      <td>phosphorylation</td>\n",
       "      <td>ProtMapper;RLIMS-P_ProtMapper</td>\n",
       "      <td>ProtMapper:27901482</td>\n",
       "      <td>1</td>\n",
       "      <td>10090</td>\n",
       "    </tr>\n",
       "    <tr>\n",
       "      <th>73226</th>\n",
       "      <td>P02340</td>\n",
       "      <td>Tp53</td>\n",
       "      <td>Q05816</td>\n",
       "      <td>Fabp5</td>\n",
       "      <td>1</td>\n",
       "      <td>S</td>\n",
       "      <td>16</td>\n",
       "      <td>phosphorylation</td>\n",
       "      <td>ProtMapper;Sparser_ProtMapper</td>\n",
       "      <td>ProtMapper:27047747</td>\n",
       "      <td>1</td>\n",
       "      <td>10090</td>\n",
       "    </tr>\n",
       "  </tbody>\n",
       "</table>\n",
       "</div>"
      ],
      "text/plain": [
       "       enzyme enzyme_genesymbol substrate substrate_genesymbol isoforms  \\\n",
       "69040  P02340              Tp53    Q04207                 Rela        2   \n",
       "69128  P02340              Tp53    P39689               Cdkn1a        1   \n",
       "69715  P02340              Tp53    P02340                 Tp53        1   \n",
       "69767  P02340              Tp53    Q9Z265                Chek2        1   \n",
       "69997  P02340              Tp53    Q9DBR7             Ppp1r12a      1;2   \n",
       "70021  P02340              Tp53    P38532                 Hsf1      1;2   \n",
       "70187  P02340              Tp53    P27661                 H2ax        1   \n",
       "70303  P02340              Tp53    Q62193                 Rpa2        1   \n",
       "70677  P02340              Tp53    O35280                Chek1        1   \n",
       "70678  P02340              Tp53    O35280                Chek1        1   \n",
       "72208  P02340              Tp53    Q60751                Igf1r        1   \n",
       "72543  P02340              Tp53    P52480                  Pkm      1;2   \n",
       "72644  P02340              Tp53    Q9WVH4                Foxo3        1   \n",
       "72961  P02340              Tp53    Q9QZR5                Hipk2      1;2   \n",
       "73226  P02340              Tp53    Q05816                Fabp5        1   \n",
       "\n",
       "      residue_type  residue_offset     modification  \\\n",
       "69040            S             538  phosphorylation   \n",
       "69128            S             148  phosphorylation   \n",
       "69715            S              37  phosphorylation   \n",
       "69767            T              68  phosphorylation   \n",
       "69997            T             698  phosphorylation   \n",
       "70021            S             326  phosphorylation   \n",
       "70187            S             140  phosphorylation   \n",
       "70303            S              33  phosphorylation   \n",
       "70677            S             317  phosphorylation   \n",
       "70678            S             345  phosphorylation   \n",
       "72208            Y            1163  phosphorylation   \n",
       "72543            Y             105  phosphorylation   \n",
       "72644            S             320  phosphorylation   \n",
       "72961            S              46  phosphorylation   \n",
       "73226            S              16  phosphorylation   \n",
       "\n",
       "                                      sources           references  \\\n",
       "69040           ProtMapper;Sparser_ProtMapper  ProtMapper:18477470   \n",
       "69128           ProtMapper;Sparser_ProtMapper  ProtMapper:12897801   \n",
       "69715           ProtMapper;Sparser_ProtMapper  ProtMapper:20354524   \n",
       "69767             ProtMapper;REACH_ProtMapper  ProtMapper:24553354   \n",
       "69997             ProtMapper;REACH_ProtMapper  ProtMapper:24343302   \n",
       "70021           ProtMapper;Sparser_ProtMapper  ProtMapper:24763051   \n",
       "70187             ProtMapper;REACH_ProtMapper  ProtMapper:24413150   \n",
       "70303             ProtMapper;REACH_ProtMapper  ProtMapper:29874588   \n",
       "70677             ProtMapper;REACH_ProtMapper  ProtMapper:29874588   \n",
       "70678             ProtMapper;REACH_ProtMapper  ProtMapper:20840867   \n",
       "72208  BEL-Large-Corpus_ProtMapper;ProtMapper  ProtMapper:19738076   \n",
       "72543             ProtMapper;REACH_ProtMapper  ProtMapper:27385486   \n",
       "72644           ProtMapper;RLIMS-P_ProtMapper  ProtMapper:24864229   \n",
       "72961           ProtMapper;RLIMS-P_ProtMapper  ProtMapper:27901482   \n",
       "73226           ProtMapper;Sparser_ProtMapper  ProtMapper:27047747   \n",
       "\n",
       "       curation_effort  ncbi_tax_id  \n",
       "69040                1        10090  \n",
       "69128                1        10090  \n",
       "69715                1        10090  \n",
       "69767                1        10090  \n",
       "69997                1        10090  \n",
       "70021                1        10090  \n",
       "70187                1        10090  \n",
       "70303                1        10090  \n",
       "70677                1        10090  \n",
       "70678                1        10090  \n",
       "72208                1        10090  \n",
       "72543                1        10090  \n",
       "72644                1        10090  \n",
       "72961                1        10090  \n",
       "73226                1        10090  "
      ]
     },
     "execution_count": 19,
     "metadata": {},
     "output_type": "execute_result"
    }
   ],
   "source": [
    "filtered = intercell_df[(intercell_df[\"enzyme\"]==\"P02340\")]\n",
    "filtered"
   ]
  },
  {
   "cell_type": "code",
   "execution_count": 20,
   "metadata": {},
   "outputs": [
    {
     "data": {
      "text/html": [
       "<div>\n",
       "<style scoped>\n",
       "    .dataframe tbody tr th:only-of-type {\n",
       "        vertical-align: middle;\n",
       "    }\n",
       "\n",
       "    .dataframe tbody tr th {\n",
       "        vertical-align: top;\n",
       "    }\n",
       "\n",
       "    .dataframe thead th {\n",
       "        text-align: right;\n",
       "    }\n",
       "</style>\n",
       "<table border=\"1\" class=\"dataframe\">\n",
       "  <thead>\n",
       "    <tr style=\"text-align: right;\">\n",
       "      <th></th>\n",
       "      <th>enzyme</th>\n",
       "      <th>enzyme_genesymbol</th>\n",
       "      <th>substrate</th>\n",
       "      <th>substrate_genesymbol</th>\n",
       "      <th>isoforms</th>\n",
       "      <th>residue_type</th>\n",
       "      <th>residue_offset</th>\n",
       "      <th>modification</th>\n",
       "      <th>sources</th>\n",
       "      <th>references</th>\n",
       "      <th>curation_effort</th>\n",
       "      <th>ncbi_tax_id</th>\n",
       "    </tr>\n",
       "  </thead>\n",
       "  <tbody>\n",
       "    <tr>\n",
       "      <th>65530</th>\n",
       "      <td>O88697</td>\n",
       "      <td>Stk16</td>\n",
       "      <td>Q9D0N7</td>\n",
       "      <td>Chaf1b</td>\n",
       "      <td>1</td>\n",
       "      <td>S</td>\n",
       "      <td>422</td>\n",
       "      <td>phosphorylation</td>\n",
       "      <td>PhosphoNetworks</td>\n",
       "      <td>NaN</td>\n",
       "      <td>0</td>\n",
       "      <td>10090</td>\n",
       "    </tr>\n",
       "    <tr>\n",
       "      <th>65531</th>\n",
       "      <td>O88697</td>\n",
       "      <td>Stk16</td>\n",
       "      <td>Q9D0N7</td>\n",
       "      <td>Chaf1b</td>\n",
       "      <td>1</td>\n",
       "      <td>S</td>\n",
       "      <td>458</td>\n",
       "      <td>phosphorylation</td>\n",
       "      <td>PhosphoNetworks</td>\n",
       "      <td>NaN</td>\n",
       "      <td>0</td>\n",
       "      <td>10090</td>\n",
       "    </tr>\n",
       "  </tbody>\n",
       "</table>\n",
       "</div>"
      ],
      "text/plain": [
       "       enzyme enzyme_genesymbol substrate substrate_genesymbol isoforms  \\\n",
       "65530  O88697             Stk16    Q9D0N7               Chaf1b        1   \n",
       "65531  O88697             Stk16    Q9D0N7               Chaf1b        1   \n",
       "\n",
       "      residue_type  residue_offset     modification          sources  \\\n",
       "65530            S             422  phosphorylation  PhosphoNetworks   \n",
       "65531            S             458  phosphorylation  PhosphoNetworks   \n",
       "\n",
       "      references  curation_effort  ncbi_tax_id  \n",
       "65530        NaN                0        10090  \n",
       "65531        NaN                0        10090  "
      ]
     },
     "execution_count": 20,
     "metadata": {},
     "output_type": "execute_result"
    }
   ],
   "source": [
    "filtered = intercell_df[(intercell_df[\"substrate\"]==\"Q9D0N7\")]\n",
    "filtered"
   ]
  },
  {
   "cell_type": "code",
   "execution_count": 27,
   "metadata": {},
   "outputs": [
    {
     "data": {
      "text/plain": [
       "np.int64(93028)"
      ]
     },
     "execution_count": 27,
     "metadata": {},
     "output_type": "execute_result"
    }
   ],
   "source": [
    "count_enzymes = intercell_df[\"enzyme\"].count()\n",
    "count_enzymes"
   ]
  },
  {
   "cell_type": "code",
   "execution_count": null,
   "metadata": {},
   "outputs": [],
   "source": []
  },
  {
   "cell_type": "code",
   "execution_count": 26,
   "metadata": {},
   "outputs": [
    {
     "data": {
      "text/plain": [
       "np.int64(93028)"
      ]
     },
     "execution_count": 26,
     "metadata": {},
     "output_type": "execute_result"
    }
   ],
   "source": [
    "count_substrate = intercell_df[\"substrate\"].count()\n",
    "count_substrate"
   ]
  },
  {
   "cell_type": "code",
   "execution_count": 28,
   "metadata": {},
   "outputs": [
    {
     "data": {
      "text/plain": [
       "186056"
      ]
     },
     "execution_count": 28,
     "metadata": {},
     "output_type": "execute_result"
    }
   ],
   "source": [
    "93028*2"
   ]
  },
  {
   "cell_type": "code",
   "execution_count": 25,
   "metadata": {},
   "outputs": [
    {
     "data": {
      "text/plain": [
       "(93028, 12)"
      ]
     },
     "execution_count": 25,
     "metadata": {},
     "output_type": "execute_result"
    }
   ],
   "source": [
    "intercell_df.shape"
   ]
  },
  {
   "cell_type": "markdown",
   "metadata": {},
   "source": [
    "## Section 4. Load the dataset with predefined data types."
   ]
  },
  {
   "cell_type": "code",
   "execution_count": null,
   "metadata": {},
   "outputs": [],
   "source": []
  },
  {
   "cell_type": "code",
   "execution_count": null,
   "metadata": {},
   "outputs": [],
   "source": []
  },
  {
   "cell_type": "code",
   "execution_count": null,
   "metadata": {},
   "outputs": [],
   "source": []
  }
 ],
 "metadata": {
  "kernelspec": {
   "display_name": "Python 3 (ipykernel)",
   "language": "python",
   "name": "python3"
  },
  "language_info": {
   "codemirror_mode": {
    "name": "ipython",
    "version": 3
   },
   "file_extension": ".py",
   "mimetype": "text/x-python",
   "name": "python",
   "nbconvert_exporter": "python",
   "pygments_lexer": "ipython3",
   "version": "3.12.4"
  }
 },
 "nbformat": 4,
 "nbformat_minor": 4
}
