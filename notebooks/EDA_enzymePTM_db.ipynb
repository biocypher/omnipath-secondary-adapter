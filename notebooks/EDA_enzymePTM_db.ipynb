{
 "cells": [
  {
   "cell_type": "markdown",
   "metadata": {},
   "source": [
    "# Exploratory Data Analysis: Networks Dataframe (from Omnipath database)"
   ]
  },
  {
   "cell_type": "markdown",
   "metadata": {},
   "source": [
    "[//]: # (------------------------------------------    DO NOT MODIFY THIS    ------------------------------------------)\n",
    "<style type=\"text/css\">\n",
    ".tg  {border-collapse:collapse;\n",
    "      border-spacing:0;\n",
    "     }\n",
    ".tg td{border-color:black;\n",
    "       border-style:solid;\n",
    "       border-width:1px;\n",
    "       font-family:Arial, sans-serif;\n",
    "       font-size:14px;\n",
    "       overflow:hidden;\n",
    "       padding:10px 5px;\n",
    "       word-break:normal;\n",
    "      }\n",
    ".tg th{border-color:black;\n",
    "       border-style:solid;\n",
    "       border-width:1px;\n",
    "       font-family:Arial, sans-serif;\n",
    "       font-size:14px;\n",
    "       font-weight:normal;\n",
    "       overflow:hidden;\n",
    "       padding:10px 5px;\n",
    "       word-break:normal;\n",
    "      }\n",
    ".tg .tg-fymr{border-color:inherit;\n",
    "             font-weight:bold;\n",
    "             text-align:left;\n",
    "             vertical-align:top\n",
    "            }\n",
    ".tg .tg-0pky{border-color:inherit;\n",
    "             text-align:left;\n",
    "             vertical-align:top\n",
    "            }\n",
    "[//]: # (--------------------------------------------------------------------------------------------------------------)\n",
    "\n",
    "[//]: # (-------------------------------------    FILL THIS OUT WITH YOUR DATA    -------------------------------------)\n",
    "</style>\n",
    "<table class=\"tg\">\n",
    "    <tbody>\n",
    "      <tr>\n",
    "        <td class=\"tg-fymr\" style=\"font-weight: bold\">Title:</td>\n",
    "        <td class=\"tg-0pky\">Exploratory Data Analysis: Networks Dataframe (from Omnipath database)</td>\n",
    "      </tr>\n",
    "      <tr>\n",
    "        <td class=\"tg-fymr\" style=\"font-weight: bold\">Authors:</td>\n",
    "        <td class=\"tg-0pky\">\n",
    "            <a href=\"https://github.com/ecarrenolozano\" target=\"_blank\" rel=\"noopener noreferrer\">Edwin Carreño</a>\n",
    "        </td>\n",
    "      </tr>\n",
    "      <tr>\n",
    "        <td class=\"tg-fymr\" style=\"font-weight: bold\">Affiliations:</td>\n",
    "        <td class=\"tg-0pky\">\n",
    "            <a href=\"https://www.ssc.uni-heidelberg.de/en\" target=\"_blank\" rel=\"noopener noreferrer\">Scientific Software Center</a>,\n",
    "            <a href=\"https://saezlab.org/\" target=\"_blank\" rel=\"noopener noreferrer\">Saez-Rodriguez Group</a>\n",
    "        </td>\n",
    "      </tr>\n",
    "      <tr>\n",
    "        <td class=\"tg-fymr\" style=\"font-weight: bold\">Date Created:</td>\n",
    "        <td class=\"tg-0pky\">22.04.2025</td>\n",
    "      </tr>\n",
    "      <tr>\n",
    "        <td class=\"tg-fymr\" style=\"font-weight: bold\">Description:</td>\n",
    "        <td class=\"tg-0pky\">Extraction of metadata for building database tables </td>\n",
    "      </tr>\n",
    "    </tbody>\n",
    "</table>\n",
    "\n",
    "[//]: # (--------------------------------------------------------------------------------------------------------------)"
   ]
  },
  {
   "cell_type": "markdown",
   "metadata": {},
   "source": [
    "## Overview\n",
    "\n",
    "This notebook should help to understand the information contained in the \"EnzymePTM\" dataset from the Omnipath database."
   ]
  },
  {
   "cell_type": "markdown",
   "metadata": {},
   "source": [
    "## Setup (if required)\n",
    "\n",
    "If your code require to install dependencies before your main code, please add the commands to install the dependencies."
   ]
  },
  {
   "cell_type": "markdown",
   "metadata": {},
   "source": [
    "### Pandas installation"
   ]
  },
  {
   "cell_type": "code",
   "execution_count": 1,
   "metadata": {},
   "outputs": [
    {
     "name": "stdout",
     "output_type": "stream",
     "text": [
      "Note: you may need to restart the kernel to use updated packages.\n"
     ]
    }
   ],
   "source": [
    "%pip install pandas -q"
   ]
  },
  {
   "cell_type": "markdown",
   "metadata": {
    "vscode": {
     "languageId": "plaintext"
    }
   },
   "source": [
    "## Importing Libraries\n",
    "\n",
    "Recommendations:\n",
    "\n",
    "- Respect the order of the imports, they are indicated by the numbers *1, 2, 3*.\n",
    "- One import per line is recommended, with this we can track easily any modified line when we use git.\n",
    "- Absolute imports are recommended (see *3. Local application/library specific imports* below), they improve readability and give better error messages.\n",
    "- You should put a blank line between each group of imports."
   ]
  },
  {
   "cell_type": "code",
   "execution_count": 2,
   "metadata": {},
   "outputs": [],
   "source": [
    "# 1. Standard library imports\n",
    "import os\n",
    "\n",
    "# 2. Related third party imports\n",
    "import numpy as np\n",
    "import pandas as pd\n",
    "\n",
    "# 3. Local application/library specific imports\n",
    "# import <mypackage>.<MyClass>         # this is an example\n",
    "# from <mypackage> import <MyClass>    # this is another example "
   ]
  },
  {
   "cell_type": "markdown",
   "metadata": {
    "jp-MarkdownHeadingCollapsed": true
   },
   "source": [
    "## Introduction\n",
    "\n",
    "TO DO\n"
   ]
  },
  {
   "cell_type": "markdown",
   "metadata": {},
   "source": [
    "## Section 1. Load \"Networks\" dataset"
   ]
  },
  {
   "cell_type": "markdown",
   "metadata": {},
   "source": [
    "### Section 1.1. Setting dataset path"
   ]
  },
  {
   "cell_type": "code",
   "execution_count": 3,
   "metadata": {},
   "outputs": [],
   "source": [
    "dataset_path_enzymePTM = os.path.join(\"../data/omnipath_enzyme_PTM/omnipath_webservice_enz_sub__latest.tsv.gz\")"
   ]
  },
  {
   "cell_type": "code",
   "execution_count": 5,
   "metadata": {},
   "outputs": [
    {
     "name": "stdout",
     "output_type": "stream",
     "text": [
      "This file exist? True\n"
     ]
    }
   ],
   "source": [
    "print(\"This file exist? {}\".format(os.path.exists(dataset_path_enzymePTM)))"
   ]
  },
  {
   "cell_type": "markdown",
   "metadata": {},
   "source": [
    "### Section 1.2. Load dataset as Pandas DataFrame"
   ]
  },
  {
   "cell_type": "markdown",
   "metadata": {},
   "source": [
    "#### Configuring Pandas view"
   ]
  },
  {
   "cell_type": "code",
   "execution_count": 6,
   "metadata": {},
   "outputs": [],
   "source": [
    "pd.set_option('display.max_colwidth', None)\n",
    "pd.set_option('display.max_columns', None)  "
   ]
  },
  {
   "cell_type": "markdown",
   "metadata": {},
   "source": [
    "#### Load data into Pandas Dataframe (without predefined data types)\n",
    "\n",
    "By default the option *keep_default_na* is True, it means that Pandas will interpret empty values or null values as NaN values."
   ]
  },
  {
   "cell_type": "code",
   "execution_count": 7,
   "metadata": {},
   "outputs": [],
   "source": [
    "enzymePTM_df = pd.read_table(dataset_path_enzymePTM, sep=\"\\t\", keep_default_na=True)"
   ]
  },
  {
   "cell_type": "code",
   "execution_count": 9,
   "metadata": {},
   "outputs": [
    {
     "data": {
      "text/html": [
       "<div>\n",
       "<style scoped>\n",
       "    .dataframe tbody tr th:only-of-type {\n",
       "        vertical-align: middle;\n",
       "    }\n",
       "\n",
       "    .dataframe tbody tr th {\n",
       "        vertical-align: top;\n",
       "    }\n",
       "\n",
       "    .dataframe thead th {\n",
       "        text-align: right;\n",
       "    }\n",
       "</style>\n",
       "<table border=\"1\" class=\"dataframe\">\n",
       "  <thead>\n",
       "    <tr style=\"text-align: right;\">\n",
       "      <th></th>\n",
       "      <th>enzyme</th>\n",
       "      <th>enzyme_genesymbol</th>\n",
       "      <th>substrate</th>\n",
       "      <th>substrate_genesymbol</th>\n",
       "      <th>isoforms</th>\n",
       "      <th>residue_type</th>\n",
       "      <th>residue_offset</th>\n",
       "      <th>modification</th>\n",
       "      <th>sources</th>\n",
       "      <th>references</th>\n",
       "      <th>curation_effort</th>\n",
       "      <th>ncbi_tax_id</th>\n",
       "    </tr>\n",
       "  </thead>\n",
       "  <tbody>\n",
       "    <tr>\n",
       "      <th>0</th>\n",
       "      <td>P06239</td>\n",
       "      <td>LCK</td>\n",
       "      <td>O14543</td>\n",
       "      <td>SOCS3</td>\n",
       "      <td>1</td>\n",
       "      <td>Y</td>\n",
       "      <td>204</td>\n",
       "      <td>phosphorylation</td>\n",
       "      <td>KEA;MIMP;PhosphoNetworks;PhosphoSite;PhosphoSite_MIMP;PhosphoSite_ProtMapper;ProtMapper;phosphoELM;phosphoELM_MIMP</td>\n",
       "      <td>KEA:12783885;phosphoELM:12783885</td>\n",
       "      <td>2</td>\n",
       "      <td>9606</td>\n",
       "    </tr>\n",
       "    <tr>\n",
       "      <th>1</th>\n",
       "      <td>P06239</td>\n",
       "      <td>LCK</td>\n",
       "      <td>O14543</td>\n",
       "      <td>SOCS3</td>\n",
       "      <td>1</td>\n",
       "      <td>Y</td>\n",
       "      <td>221</td>\n",
       "      <td>phosphorylation</td>\n",
       "      <td>KEA;MIMP;PhosphoNetworks;PhosphoSite;PhosphoSite_MIMP;PhosphoSite_ProtMapper;ProtMapper;phosphoELM;phosphoELM_MIMP</td>\n",
       "      <td>KEA:12783885;KEA:15173187;phosphoELM:15173187</td>\n",
       "      <td>3</td>\n",
       "      <td>9606</td>\n",
       "    </tr>\n",
       "    <tr>\n",
       "      <th>2</th>\n",
       "      <td>P12931</td>\n",
       "      <td>SRC</td>\n",
       "      <td>O14746</td>\n",
       "      <td>TERT</td>\n",
       "      <td>1;2;3;4</td>\n",
       "      <td>Y</td>\n",
       "      <td>707</td>\n",
       "      <td>phosphorylation</td>\n",
       "      <td>BEL-Large-Corpus_ProtMapper;HPRD;HPRD_MIMP;KEA;MIMP;PhosphoSite;PhosphoSite_MIMP;PhosphoSite_ProtMapper;ProtMapper;RLIMS-P_ProtMapper;SIGNOR;SIGNOR_ProtMapper;dbPTM;phosphoELM;phosphoELM_MIMP</td>\n",
       "      <td>HPRD:12808100;KEA:12808100;ProtMapper:12808100;ProtMapper:20211239;SIGNOR:12808100;dbPTM:12808100;dbPTM:18829466;phosphoELM:12808100</td>\n",
       "      <td>8</td>\n",
       "      <td>9606</td>\n",
       "    </tr>\n",
       "    <tr>\n",
       "      <th>3</th>\n",
       "      <td>P06241</td>\n",
       "      <td>FYN</td>\n",
       "      <td>O15117</td>\n",
       "      <td>FYB1</td>\n",
       "      <td>1</td>\n",
       "      <td>Y</td>\n",
       "      <td>651</td>\n",
       "      <td>phosphorylation</td>\n",
       "      <td>HPRD;KEA;PhosphoSite;PhosphoSite_ProtMapper;ProtMapper;SIGNOR;SIGNOR_ProtMapper;phosphoELM</td>\n",
       "      <td>HPRD:10570256;KEA:10409671;KEA:10570256;ProtMapper:10570256;SIGNOR:10570256;phosphoELM:10409671;phosphoELM:10570256</td>\n",
       "      <td>7</td>\n",
       "      <td>9606</td>\n",
       "    </tr>\n",
       "    <tr>\n",
       "      <th>4</th>\n",
       "      <td>P06241</td>\n",
       "      <td>FYN</td>\n",
       "      <td>O15117</td>\n",
       "      <td>FYB1</td>\n",
       "      <td>1;2</td>\n",
       "      <td>Y</td>\n",
       "      <td>595</td>\n",
       "      <td>phosphorylation</td>\n",
       "      <td>HPRD;KEA;PhosphoNetworks;PhosphoSite;PhosphoSite_ProtMapper;ProtMapper;SIGNOR;SIGNOR_ProtMapper;phosphoELM</td>\n",
       "      <td>HPRD:10570256;KEA:10409671;KEA:10570256;ProtMapper:10570256;SIGNOR:10570256;phosphoELM:10409671;phosphoELM:10570256</td>\n",
       "      <td>7</td>\n",
       "      <td>9606</td>\n",
       "    </tr>\n",
       "    <tr>\n",
       "      <th>5</th>\n",
       "      <td>P06241</td>\n",
       "      <td>FYN</td>\n",
       "      <td>O15117</td>\n",
       "      <td>FYB1</td>\n",
       "      <td>2</td>\n",
       "      <td>Y</td>\n",
       "      <td>697</td>\n",
       "      <td>phosphorylation</td>\n",
       "      <td>HPRD;KEA;PhosphoNetworks</td>\n",
       "      <td>HPRD:10570256;KEA:10409671;KEA:10570256</td>\n",
       "      <td>3</td>\n",
       "      <td>9606</td>\n",
       "    </tr>\n",
       "    <tr>\n",
       "      <th>6</th>\n",
       "      <td>P06241</td>\n",
       "      <td>FYN</td>\n",
       "      <td>O15117</td>\n",
       "      <td>FYB1</td>\n",
       "      <td>1;2</td>\n",
       "      <td>Y</td>\n",
       "      <td>625</td>\n",
       "      <td>phosphorylation</td>\n",
       "      <td>PhosphoSite;PhosphoSite_ProtMapper;ProtMapper</td>\n",
       "      <td>NaN</td>\n",
       "      <td>0</td>\n",
       "      <td>9606</td>\n",
       "    </tr>\n",
       "    <tr>\n",
       "      <th>7</th>\n",
       "      <td>P06241</td>\n",
       "      <td>FYN</td>\n",
       "      <td>O15117</td>\n",
       "      <td>FYB1</td>\n",
       "      <td>1;2;3</td>\n",
       "      <td>Y</td>\n",
       "      <td>571</td>\n",
       "      <td>phosphorylation</td>\n",
       "      <td>PhosphoSite;PhosphoSite_ProtMapper;ProtMapper</td>\n",
       "      <td>NaN</td>\n",
       "      <td>0</td>\n",
       "      <td>9606</td>\n",
       "    </tr>\n",
       "    <tr>\n",
       "      <th>8</th>\n",
       "      <td>P06241</td>\n",
       "      <td>FYN</td>\n",
       "      <td>O15117</td>\n",
       "      <td>FYB1</td>\n",
       "      <td>1</td>\n",
       "      <td>Y</td>\n",
       "      <td>771</td>\n",
       "      <td>phosphorylation</td>\n",
       "      <td>PhosphoSite;PhosphoSite_ProtMapper;ProtMapper</td>\n",
       "      <td>NaN</td>\n",
       "      <td>0</td>\n",
       "      <td>9606</td>\n",
       "    </tr>\n",
       "    <tr>\n",
       "      <th>9</th>\n",
       "      <td>P06241</td>\n",
       "      <td>FYN</td>\n",
       "      <td>O15117</td>\n",
       "      <td>FYB1</td>\n",
       "      <td>1;2</td>\n",
       "      <td>Y</td>\n",
       "      <td>559</td>\n",
       "      <td>phosphorylation</td>\n",
       "      <td>PhosphoSite;PhosphoSite_ProtMapper;ProtMapper</td>\n",
       "      <td>NaN</td>\n",
       "      <td>0</td>\n",
       "      <td>9606</td>\n",
       "    </tr>\n",
       "    <tr>\n",
       "      <th>10</th>\n",
       "      <td>P06241</td>\n",
       "      <td>FYN</td>\n",
       "      <td>O15117</td>\n",
       "      <td>FYB1</td>\n",
       "      <td>1;2</td>\n",
       "      <td>Y</td>\n",
       "      <td>755</td>\n",
       "      <td>phosphorylation</td>\n",
       "      <td>PhosphoSite;PhosphoSite_ProtMapper;ProtMapper</td>\n",
       "      <td>NaN</td>\n",
       "      <td>0</td>\n",
       "      <td>9606</td>\n",
       "    </tr>\n",
       "    <tr>\n",
       "      <th>11</th>\n",
       "      <td>P06241</td>\n",
       "      <td>FYN</td>\n",
       "      <td>O15117</td>\n",
       "      <td>FYB1</td>\n",
       "      <td>1;3</td>\n",
       "      <td>Y</td>\n",
       "      <td>757</td>\n",
       "      <td>phosphorylation</td>\n",
       "      <td>PhosphoSite;PhosphoSite_ProtMapper;ProtMapper</td>\n",
       "      <td>NaN</td>\n",
       "      <td>0</td>\n",
       "      <td>9606</td>\n",
       "    </tr>\n",
       "    <tr>\n",
       "      <th>12</th>\n",
       "      <td>P06241</td>\n",
       "      <td>FYN</td>\n",
       "      <td>O15117</td>\n",
       "      <td>FYB1</td>\n",
       "      <td>1</td>\n",
       "      <td>Y</td>\n",
       "      <td>780</td>\n",
       "      <td>phosphorylation</td>\n",
       "      <td>PhosphoSite;PhosphoSite_ProtMapper;ProtMapper</td>\n",
       "      <td>NaN</td>\n",
       "      <td>0</td>\n",
       "      <td>9606</td>\n",
       "    </tr>\n",
       "    <tr>\n",
       "      <th>13</th>\n",
       "      <td>P06241</td>\n",
       "      <td>FYN</td>\n",
       "      <td>O15117</td>\n",
       "      <td>FYB1</td>\n",
       "      <td>3</td>\n",
       "      <td>Y</td>\n",
       "      <td>569</td>\n",
       "      <td>phosphorylation</td>\n",
       "      <td>MIMP;PhosphoSite_MIMP</td>\n",
       "      <td>NaN</td>\n",
       "      <td>0</td>\n",
       "      <td>9606</td>\n",
       "    </tr>\n",
       "    <tr>\n",
       "      <th>14</th>\n",
       "      <td>P06241</td>\n",
       "      <td>FYN</td>\n",
       "      <td>O15117</td>\n",
       "      <td>FYB1</td>\n",
       "      <td>3</td>\n",
       "      <td>Y</td>\n",
       "      <td>581</td>\n",
       "      <td>phosphorylation</td>\n",
       "      <td>HPRD_MIMP;MIMP;PhosphoSite_MIMP;phosphoELM_MIMP</td>\n",
       "      <td>NaN</td>\n",
       "      <td>0</td>\n",
       "      <td>9606</td>\n",
       "    </tr>\n",
       "    <tr>\n",
       "      <th>15</th>\n",
       "      <td>P06241</td>\n",
       "      <td>FYN</td>\n",
       "      <td>O15117</td>\n",
       "      <td>FYB1</td>\n",
       "      <td>3</td>\n",
       "      <td>Y</td>\n",
       "      <td>605</td>\n",
       "      <td>phosphorylation</td>\n",
       "      <td>HPRD_MIMP;MIMP;PhosphoSite_MIMP;phosphoELM_MIMP</td>\n",
       "      <td>NaN</td>\n",
       "      <td>0</td>\n",
       "      <td>9606</td>\n",
       "    </tr>\n",
       "    <tr>\n",
       "      <th>16</th>\n",
       "      <td>P06241</td>\n",
       "      <td>FYN</td>\n",
       "      <td>O15117</td>\n",
       "      <td>FYB1</td>\n",
       "      <td>3</td>\n",
       "      <td>Y</td>\n",
       "      <td>707</td>\n",
       "      <td>phosphorylation</td>\n",
       "      <td>HPRD_MIMP;MIMP;PhosphoSite_MIMP;phosphoELM_MIMP</td>\n",
       "      <td>NaN</td>\n",
       "      <td>0</td>\n",
       "      <td>9606</td>\n",
       "    </tr>\n",
       "    <tr>\n",
       "      <th>17</th>\n",
       "      <td>P06241</td>\n",
       "      <td>FYN</td>\n",
       "      <td>O15117</td>\n",
       "      <td>FYB1</td>\n",
       "      <td>3</td>\n",
       "      <td>Y</td>\n",
       "      <td>811</td>\n",
       "      <td>phosphorylation</td>\n",
       "      <td>HPRD_MIMP;MIMP;PhosphoSite_MIMP</td>\n",
       "      <td>NaN</td>\n",
       "      <td>0</td>\n",
       "      <td>9606</td>\n",
       "    </tr>\n",
       "    <tr>\n",
       "      <th>18</th>\n",
       "      <td>P06241</td>\n",
       "      <td>FYN</td>\n",
       "      <td>O15117</td>\n",
       "      <td>FYB1</td>\n",
       "      <td>3</td>\n",
       "      <td>Y</td>\n",
       "      <td>813</td>\n",
       "      <td>phosphorylation</td>\n",
       "      <td>HPRD_MIMP;MIMP;PhosphoSite_MIMP</td>\n",
       "      <td>NaN</td>\n",
       "      <td>0</td>\n",
       "      <td>9606</td>\n",
       "    </tr>\n",
       "    <tr>\n",
       "      <th>19</th>\n",
       "      <td>P06241</td>\n",
       "      <td>FYN</td>\n",
       "      <td>O15117</td>\n",
       "      <td>FYB1</td>\n",
       "      <td>3</td>\n",
       "      <td>Y</td>\n",
       "      <td>827</td>\n",
       "      <td>phosphorylation</td>\n",
       "      <td>MIMP;PhosphoSite_MIMP</td>\n",
       "      <td>NaN</td>\n",
       "      <td>0</td>\n",
       "      <td>9606</td>\n",
       "    </tr>\n",
       "  </tbody>\n",
       "</table>\n",
       "</div>"
      ],
      "text/plain": [
       "    enzyme enzyme_genesymbol substrate substrate_genesymbol isoforms  \\\n",
       "0   P06239               LCK    O14543                SOCS3        1   \n",
       "1   P06239               LCK    O14543                SOCS3        1   \n",
       "2   P12931               SRC    O14746                 TERT  1;2;3;4   \n",
       "3   P06241               FYN    O15117                 FYB1        1   \n",
       "4   P06241               FYN    O15117                 FYB1      1;2   \n",
       "5   P06241               FYN    O15117                 FYB1        2   \n",
       "6   P06241               FYN    O15117                 FYB1      1;2   \n",
       "7   P06241               FYN    O15117                 FYB1    1;2;3   \n",
       "8   P06241               FYN    O15117                 FYB1        1   \n",
       "9   P06241               FYN    O15117                 FYB1      1;2   \n",
       "10  P06241               FYN    O15117                 FYB1      1;2   \n",
       "11  P06241               FYN    O15117                 FYB1      1;3   \n",
       "12  P06241               FYN    O15117                 FYB1        1   \n",
       "13  P06241               FYN    O15117                 FYB1        3   \n",
       "14  P06241               FYN    O15117                 FYB1        3   \n",
       "15  P06241               FYN    O15117                 FYB1        3   \n",
       "16  P06241               FYN    O15117                 FYB1        3   \n",
       "17  P06241               FYN    O15117                 FYB1        3   \n",
       "18  P06241               FYN    O15117                 FYB1        3   \n",
       "19  P06241               FYN    O15117                 FYB1        3   \n",
       "\n",
       "   residue_type  residue_offset     modification  \\\n",
       "0             Y             204  phosphorylation   \n",
       "1             Y             221  phosphorylation   \n",
       "2             Y             707  phosphorylation   \n",
       "3             Y             651  phosphorylation   \n",
       "4             Y             595  phosphorylation   \n",
       "5             Y             697  phosphorylation   \n",
       "6             Y             625  phosphorylation   \n",
       "7             Y             571  phosphorylation   \n",
       "8             Y             771  phosphorylation   \n",
       "9             Y             559  phosphorylation   \n",
       "10            Y             755  phosphorylation   \n",
       "11            Y             757  phosphorylation   \n",
       "12            Y             780  phosphorylation   \n",
       "13            Y             569  phosphorylation   \n",
       "14            Y             581  phosphorylation   \n",
       "15            Y             605  phosphorylation   \n",
       "16            Y             707  phosphorylation   \n",
       "17            Y             811  phosphorylation   \n",
       "18            Y             813  phosphorylation   \n",
       "19            Y             827  phosphorylation   \n",
       "\n",
       "                                                                                                                                                                                            sources  \\\n",
       "0                                                                                KEA;MIMP;PhosphoNetworks;PhosphoSite;PhosphoSite_MIMP;PhosphoSite_ProtMapper;ProtMapper;phosphoELM;phosphoELM_MIMP   \n",
       "1                                                                                KEA;MIMP;PhosphoNetworks;PhosphoSite;PhosphoSite_MIMP;PhosphoSite_ProtMapper;ProtMapper;phosphoELM;phosphoELM_MIMP   \n",
       "2   BEL-Large-Corpus_ProtMapper;HPRD;HPRD_MIMP;KEA;MIMP;PhosphoSite;PhosphoSite_MIMP;PhosphoSite_ProtMapper;ProtMapper;RLIMS-P_ProtMapper;SIGNOR;SIGNOR_ProtMapper;dbPTM;phosphoELM;phosphoELM_MIMP   \n",
       "3                                                                                                        HPRD;KEA;PhosphoSite;PhosphoSite_ProtMapper;ProtMapper;SIGNOR;SIGNOR_ProtMapper;phosphoELM   \n",
       "4                                                                                        HPRD;KEA;PhosphoNetworks;PhosphoSite;PhosphoSite_ProtMapper;ProtMapper;SIGNOR;SIGNOR_ProtMapper;phosphoELM   \n",
       "5                                                                                                                                                                          HPRD;KEA;PhosphoNetworks   \n",
       "6                                                                                                                                                     PhosphoSite;PhosphoSite_ProtMapper;ProtMapper   \n",
       "7                                                                                                                                                     PhosphoSite;PhosphoSite_ProtMapper;ProtMapper   \n",
       "8                                                                                                                                                     PhosphoSite;PhosphoSite_ProtMapper;ProtMapper   \n",
       "9                                                                                                                                                     PhosphoSite;PhosphoSite_ProtMapper;ProtMapper   \n",
       "10                                                                                                                                                    PhosphoSite;PhosphoSite_ProtMapper;ProtMapper   \n",
       "11                                                                                                                                                    PhosphoSite;PhosphoSite_ProtMapper;ProtMapper   \n",
       "12                                                                                                                                                    PhosphoSite;PhosphoSite_ProtMapper;ProtMapper   \n",
       "13                                                                                                                                                                            MIMP;PhosphoSite_MIMP   \n",
       "14                                                                                                                                                  HPRD_MIMP;MIMP;PhosphoSite_MIMP;phosphoELM_MIMP   \n",
       "15                                                                                                                                                  HPRD_MIMP;MIMP;PhosphoSite_MIMP;phosphoELM_MIMP   \n",
       "16                                                                                                                                                  HPRD_MIMP;MIMP;PhosphoSite_MIMP;phosphoELM_MIMP   \n",
       "17                                                                                                                                                                  HPRD_MIMP;MIMP;PhosphoSite_MIMP   \n",
       "18                                                                                                                                                                  HPRD_MIMP;MIMP;PhosphoSite_MIMP   \n",
       "19                                                                                                                                                                            MIMP;PhosphoSite_MIMP   \n",
       "\n",
       "                                                                                                                              references  \\\n",
       "0                                                                                                       KEA:12783885;phosphoELM:12783885   \n",
       "1                                                                                          KEA:12783885;KEA:15173187;phosphoELM:15173187   \n",
       "2   HPRD:12808100;KEA:12808100;ProtMapper:12808100;ProtMapper:20211239;SIGNOR:12808100;dbPTM:12808100;dbPTM:18829466;phosphoELM:12808100   \n",
       "3                    HPRD:10570256;KEA:10409671;KEA:10570256;ProtMapper:10570256;SIGNOR:10570256;phosphoELM:10409671;phosphoELM:10570256   \n",
       "4                    HPRD:10570256;KEA:10409671;KEA:10570256;ProtMapper:10570256;SIGNOR:10570256;phosphoELM:10409671;phosphoELM:10570256   \n",
       "5                                                                                                HPRD:10570256;KEA:10409671;KEA:10570256   \n",
       "6                                                                                                                                    NaN   \n",
       "7                                                                                                                                    NaN   \n",
       "8                                                                                                                                    NaN   \n",
       "9                                                                                                                                    NaN   \n",
       "10                                                                                                                                   NaN   \n",
       "11                                                                                                                                   NaN   \n",
       "12                                                                                                                                   NaN   \n",
       "13                                                                                                                                   NaN   \n",
       "14                                                                                                                                   NaN   \n",
       "15                                                                                                                                   NaN   \n",
       "16                                                                                                                                   NaN   \n",
       "17                                                                                                                                   NaN   \n",
       "18                                                                                                                                   NaN   \n",
       "19                                                                                                                                   NaN   \n",
       "\n",
       "    curation_effort  ncbi_tax_id  \n",
       "0                 2         9606  \n",
       "1                 3         9606  \n",
       "2                 8         9606  \n",
       "3                 7         9606  \n",
       "4                 7         9606  \n",
       "5                 3         9606  \n",
       "6                 0         9606  \n",
       "7                 0         9606  \n",
       "8                 0         9606  \n",
       "9                 0         9606  \n",
       "10                0         9606  \n",
       "11                0         9606  \n",
       "12                0         9606  \n",
       "13                0         9606  \n",
       "14                0         9606  \n",
       "15                0         9606  \n",
       "16                0         9606  \n",
       "17                0         9606  \n",
       "18                0         9606  \n",
       "19                0         9606  "
      ]
     },
     "execution_count": 9,
     "metadata": {},
     "output_type": "execute_result"
    }
   ],
   "source": [
    "enzymePTM_df.head(20)"
   ]
  },
  {
   "cell_type": "code",
   "execution_count": 10,
   "metadata": {
    "scrolled": true
   },
   "outputs": [
    {
     "name": "stdout",
     "output_type": "stream",
     "text": [
      "<class 'pandas.core.frame.DataFrame'>\n",
      "RangeIndex: 93028 entries, 0 to 93027\n",
      "Data columns (total 12 columns):\n",
      " #   Column                Non-Null Count  Dtype \n",
      "---  ------                --------------  ----- \n",
      " 0   enzyme                93028 non-null  object\n",
      " 1   enzyme_genesymbol     93028 non-null  object\n",
      " 2   substrate             93028 non-null  object\n",
      " 3   substrate_genesymbol  93028 non-null  object\n",
      " 4   isoforms              93028 non-null  object\n",
      " 5   residue_type          93028 non-null  object\n",
      " 6   residue_offset        93028 non-null  int64 \n",
      " 7   modification          93028 non-null  object\n",
      " 8   sources               93028 non-null  object\n",
      " 9   references            60908 non-null  object\n",
      " 10  curation_effort       93028 non-null  int64 \n",
      " 11  ncbi_tax_id           93028 non-null  int64 \n",
      "dtypes: int64(3), object(9)\n",
      "memory usage: 8.5+ MB\n"
     ]
    }
   ],
   "source": [
    "enzymePTM_df.info()"
   ]
  },
  {
   "cell_type": "markdown",
   "metadata": {},
   "source": [
    "## Section 2. Metadata\n",
    "\n",
    "We are interested in having a table with the following information:\n",
    "\n",
    "\n",
    "- Column name.\n",
    "- Data Type.\n",
    "- A certain colum could contain null values.\n",
    "- Number of unique  values.\n",
    "\n",
    "That could be done using the next cell:"
   ]
  },
  {
   "cell_type": "markdown",
   "metadata": {},
   "source": [
    "### Section 2.1. Overview"
   ]
  },
  {
   "cell_type": "code",
   "execution_count": 11,
   "metadata": {},
   "outputs": [
    {
     "data": {
      "text/html": [
       "<div>\n",
       "<style scoped>\n",
       "    .dataframe tbody tr th:only-of-type {\n",
       "        vertical-align: middle;\n",
       "    }\n",
       "\n",
       "    .dataframe tbody tr th {\n",
       "        vertical-align: top;\n",
       "    }\n",
       "\n",
       "    .dataframe thead th {\n",
       "        text-align: right;\n",
       "    }\n",
       "</style>\n",
       "<table border=\"1\" class=\"dataframe\">\n",
       "  <thead>\n",
       "    <tr style=\"text-align: right;\">\n",
       "      <th></th>\n",
       "      <th>Column Name</th>\n",
       "      <th>Data Type</th>\n",
       "      <th>Nullable</th>\n",
       "      <th>Unique Values</th>\n",
       "    </tr>\n",
       "  </thead>\n",
       "  <tbody>\n",
       "    <tr>\n",
       "      <th>0</th>\n",
       "      <td>enzyme</td>\n",
       "      <td>object</td>\n",
       "      <td>False</td>\n",
       "      <td>4805</td>\n",
       "    </tr>\n",
       "    <tr>\n",
       "      <th>1</th>\n",
       "      <td>enzyme_genesymbol</td>\n",
       "      <td>object</td>\n",
       "      <td>False</td>\n",
       "      <td>3684</td>\n",
       "    </tr>\n",
       "    <tr>\n",
       "      <th>2</th>\n",
       "      <td>substrate</td>\n",
       "      <td>object</td>\n",
       "      <td>False</td>\n",
       "      <td>9408</td>\n",
       "    </tr>\n",
       "    <tr>\n",
       "      <th>3</th>\n",
       "      <td>substrate_genesymbol</td>\n",
       "      <td>object</td>\n",
       "      <td>False</td>\n",
       "      <td>7583</td>\n",
       "    </tr>\n",
       "    <tr>\n",
       "      <th>4</th>\n",
       "      <td>isoforms</td>\n",
       "      <td>object</td>\n",
       "      <td>False</td>\n",
       "      <td>416</td>\n",
       "    </tr>\n",
       "    <tr>\n",
       "      <th>5</th>\n",
       "      <td>residue_type</td>\n",
       "      <td>object</td>\n",
       "      <td>False</td>\n",
       "      <td>20</td>\n",
       "    </tr>\n",
       "    <tr>\n",
       "      <th>6</th>\n",
       "      <td>residue_offset</td>\n",
       "      <td>int64</td>\n",
       "      <td>False</td>\n",
       "      <td>2149</td>\n",
       "    </tr>\n",
       "    <tr>\n",
       "      <th>7</th>\n",
       "      <td>modification</td>\n",
       "      <td>object</td>\n",
       "      <td>False</td>\n",
       "      <td>27</td>\n",
       "    </tr>\n",
       "    <tr>\n",
       "      <th>8</th>\n",
       "      <td>sources</td>\n",
       "      <td>object</td>\n",
       "      <td>False</td>\n",
       "      <td>2078</td>\n",
       "    </tr>\n",
       "    <tr>\n",
       "      <th>9</th>\n",
       "      <td>references</td>\n",
       "      <td>object</td>\n",
       "      <td>True</td>\n",
       "      <td>16006</td>\n",
       "    </tr>\n",
       "    <tr>\n",
       "      <th>10</th>\n",
       "      <td>curation_effort</td>\n",
       "      <td>int64</td>\n",
       "      <td>False</td>\n",
       "      <td>76</td>\n",
       "    </tr>\n",
       "    <tr>\n",
       "      <th>11</th>\n",
       "      <td>ncbi_tax_id</td>\n",
       "      <td>int64</td>\n",
       "      <td>False</td>\n",
       "      <td>3</td>\n",
       "    </tr>\n",
       "  </tbody>\n",
       "</table>\n",
       "</div>"
      ],
      "text/plain": [
       "             Column Name Data Type  Nullable  Unique Values\n",
       "0                 enzyme    object     False           4805\n",
       "1      enzyme_genesymbol    object     False           3684\n",
       "2              substrate    object     False           9408\n",
       "3   substrate_genesymbol    object     False           7583\n",
       "4               isoforms    object     False            416\n",
       "5           residue_type    object     False             20\n",
       "6         residue_offset     int64     False           2149\n",
       "7           modification    object     False             27\n",
       "8                sources    object     False           2078\n",
       "9             references    object      True          16006\n",
       "10       curation_effort     int64     False             76\n",
       "11           ncbi_tax_id     int64     False              3"
      ]
     },
     "execution_count": 11,
     "metadata": {},
     "output_type": "execute_result"
    }
   ],
   "source": [
    "metadata = pd.DataFrame({\n",
    "    'Column Name': enzymePTM_df.columns,\n",
    "    'Data Type': enzymePTM_df.dtypes.values,\n",
    "    'Nullable': enzymePTM_df.isnull().any().values,\n",
    "    'Unique Values': [enzymePTM_df[col].nunique() for col in enzymePTM_df.columns]\n",
    "})\n",
    "\n",
    "metadata"
   ]
  },
  {
   "cell_type": "markdown",
   "metadata": {},
   "source": [
    "### Section 2.2. Unique values per column"
   ]
  },
  {
   "cell_type": "markdown",
   "metadata": {},
   "source": [
    "To know all the unique values in a certain column, just type the column's name in the variable *field*:"
   ]
  },
  {
   "cell_type": "code",
   "execution_count": 12,
   "metadata": {},
   "outputs": [
    {
     "name": "stdout",
     "output_type": "stream",
     "text": [
      "List of unique values in field: residue_type\n",
      "\t['Y' 'T' 'S' 'H' 'K' 'R' 'C' 'D' 'V' 'G' 'E' 'P' 'F' 'L' 'I' 'A' 'N' 'M'\n",
      " 'W' 'Q']\n"
     ]
    }
   ],
   "source": [
    "field = \"residue_type\"\n",
    "\n",
    "print(\"List of unique values in field: {}\\n\\t{}\".format(field, enzymePTM_df[field].unique()))"
   ]
  },
  {
   "cell_type": "markdown",
   "metadata": {},
   "source": [
    "## Section 3. Free Exploratory Analysis\n",
    "\n",
    "In this section you can explore the data as you want, it means you can filter, select columns, counting values, etc. Feel free to explore as much you want."
   ]
  },
  {
   "cell_type": "code",
   "execution_count": null,
   "metadata": {},
   "outputs": [],
   "source": []
  },
  {
   "cell_type": "markdown",
   "metadata": {},
   "source": [
    "### Counting Null values"
   ]
  },
  {
   "cell_type": "code",
   "execution_count": 13,
   "metadata": {},
   "outputs": [
    {
     "data": {
      "text/plain": [
       "6        NaN\n",
       "7        NaN\n",
       "8        NaN\n",
       "9        NaN\n",
       "10       NaN\n",
       "        ... \n",
       "91829    NaN\n",
       "91884    NaN\n",
       "91909    NaN\n",
       "91913    NaN\n",
       "91917    NaN\n",
       "Name: references, Length: 32120, dtype: object"
      ]
     },
     "execution_count": 13,
     "metadata": {},
     "output_type": "execute_result"
    }
   ],
   "source": [
    "enzymePTM_df.references[enzymePTM_df['references'].isnull()]"
   ]
  },
  {
   "cell_type": "markdown",
   "metadata": {},
   "source": [
    "### Counting Null "
   ]
  },
  {
   "cell_type": "code",
   "execution_count": 15,
   "metadata": {},
   "outputs": [
    {
     "data": {
      "text/plain": [
       "np.int64(32120)"
      ]
     },
     "execution_count": 15,
     "metadata": {},
     "output_type": "execute_result"
    }
   ],
   "source": [
    "num_nulls_in_references = enzymePTM_df['references'].isnull().sum()\n",
    "num_nulls_in_references"
   ]
  },
  {
   "cell_type": "markdown",
   "metadata": {},
   "source": [
    "### Counting True values"
   ]
  },
  {
   "cell_type": "code",
   "execution_count": 21,
   "metadata": {},
   "outputs": [
    {
     "data": {
      "text/plain": [
       "np.int64(0)"
      ]
     },
     "execution_count": 21,
     "metadata": {},
     "output_type": "execute_result"
    }
   ],
   "source": [
    "num_True_in_references = (enzymePTM_df.references==True).sum()\n",
    "num_True_in_references"
   ]
  },
  {
   "cell_type": "markdown",
   "metadata": {},
   "source": [
    "### Counting \"True\" values"
   ]
  },
  {
   "cell_type": "code",
   "execution_count": 22,
   "metadata": {},
   "outputs": [
    {
     "data": {
      "text/plain": [
       "np.int64(0)"
      ]
     },
     "execution_count": 22,
     "metadata": {},
     "output_type": "execute_result"
    }
   ],
   "source": [
    "num_true_in_references = (enzymePTM_df.references==\"True\").sum()\n",
    "num_true_in_references"
   ]
  },
  {
   "cell_type": "markdown",
   "metadata": {},
   "source": [
    "### Counting 1 values"
   ]
  },
  {
   "cell_type": "code",
   "execution_count": 23,
   "metadata": {},
   "outputs": [
    {
     "data": {
      "text/plain": [
       "np.int64(0)"
      ]
     },
     "execution_count": 23,
     "metadata": {},
     "output_type": "execute_result"
    }
   ],
   "source": [
    "num_one_in_references = (enzymePTM_df.references==\"1\").sum()\n",
    "num_one_in_references"
   ]
  },
  {
   "cell_type": "markdown",
   "metadata": {},
   "source": [
    "### Counting False values"
   ]
  },
  {
   "cell_type": "code",
   "execution_count": 24,
   "metadata": {},
   "outputs": [
    {
     "data": {
      "text/plain": [
       "np.int64(0)"
      ]
     },
     "execution_count": 24,
     "metadata": {},
     "output_type": "execute_result"
    }
   ],
   "source": [
    "num_False_in_references= (enzymePTM_df.references==False).sum()\n",
    "num_False_in_references"
   ]
  },
  {
   "cell_type": "markdown",
   "metadata": {},
   "source": [
    "### Counting \"False\" values"
   ]
  },
  {
   "cell_type": "code",
   "execution_count": 25,
   "metadata": {},
   "outputs": [
    {
     "data": {
      "text/plain": [
       "np.int64(0)"
      ]
     },
     "execution_count": 25,
     "metadata": {},
     "output_type": "execute_result"
    }
   ],
   "source": [
    "num_false_in_references = (enzymePTM_df.references==\"False\").sum()\n",
    "num_false_in_references"
   ]
  },
  {
   "cell_type": "markdown",
   "metadata": {},
   "source": [
    "### Filtering"
   ]
  },
  {
   "cell_type": "code",
   "execution_count": 26,
   "metadata": {},
   "outputs": [
    {
     "data": {
      "text/html": [
       "<div>\n",
       "<style scoped>\n",
       "    .dataframe tbody tr th:only-of-type {\n",
       "        vertical-align: middle;\n",
       "    }\n",
       "\n",
       "    .dataframe tbody tr th {\n",
       "        vertical-align: top;\n",
       "    }\n",
       "\n",
       "    .dataframe thead th {\n",
       "        text-align: right;\n",
       "    }\n",
       "</style>\n",
       "<table border=\"1\" class=\"dataframe\">\n",
       "  <thead>\n",
       "    <tr style=\"text-align: right;\">\n",
       "      <th></th>\n",
       "      <th>enzyme</th>\n",
       "      <th>enzyme_genesymbol</th>\n",
       "      <th>substrate</th>\n",
       "      <th>substrate_genesymbol</th>\n",
       "      <th>isoforms</th>\n",
       "      <th>residue_type</th>\n",
       "      <th>residue_offset</th>\n",
       "      <th>modification</th>\n",
       "      <th>sources</th>\n",
       "      <th>references</th>\n",
       "      <th>curation_effort</th>\n",
       "      <th>ncbi_tax_id</th>\n",
       "    </tr>\n",
       "  </thead>\n",
       "  <tbody>\n",
       "    <tr>\n",
       "      <th>2</th>\n",
       "      <td>P12931</td>\n",
       "      <td>SRC</td>\n",
       "      <td>O14746</td>\n",
       "      <td>TERT</td>\n",
       "      <td>1;2;3;4</td>\n",
       "      <td>Y</td>\n",
       "      <td>707</td>\n",
       "      <td>phosphorylation</td>\n",
       "      <td>BEL-Large-Corpus_ProtMapper;HPRD;HPRD_MIMP;KEA;MIMP;PhosphoSite;PhosphoSite_MIMP;PhosphoSite_ProtMapper;ProtMapper;RLIMS-P_ProtMapper;SIGNOR;SIGNOR_ProtMapper;dbPTM;phosphoELM;phosphoELM_MIMP</td>\n",
       "      <td>HPRD:12808100;KEA:12808100;ProtMapper:12808100;ProtMapper:20211239;SIGNOR:12808100;dbPTM:12808100;dbPTM:18829466;phosphoELM:12808100</td>\n",
       "      <td>8</td>\n",
       "      <td>9606</td>\n",
       "    </tr>\n",
       "    <tr>\n",
       "      <th>23</th>\n",
       "      <td>P12931</td>\n",
       "      <td>SRC</td>\n",
       "      <td>O15162</td>\n",
       "      <td>PLSCR1</td>\n",
       "      <td>1</td>\n",
       "      <td>Y</td>\n",
       "      <td>74</td>\n",
       "      <td>phosphorylation</td>\n",
       "      <td>HPRD_MIMP;KEA;Li2012;MIMP;PhosphoSite;PhosphoSite_MIMP;PhosphoSite_ProtMapper;ProtMapper;SIGNOR;SIGNOR_ProtMapper;phosphoELM;phosphoELM_MIMP</td>\n",
       "      <td>KEA:11390389;KEA:12871937;ProtMapper:12871937;SIGNOR:12871937;phosphoELM:12871937</td>\n",
       "      <td>5</td>\n",
       "      <td>9606</td>\n",
       "    </tr>\n",
       "    <tr>\n",
       "      <th>24</th>\n",
       "      <td>P12931</td>\n",
       "      <td>SRC</td>\n",
       "      <td>O15162</td>\n",
       "      <td>PLSCR1</td>\n",
       "      <td>1</td>\n",
       "      <td>Y</td>\n",
       "      <td>69</td>\n",
       "      <td>phosphorylation</td>\n",
       "      <td>BEL-Large-Corpus_ProtMapper;HPRD_MIMP;KEA;Li2012;MIMP;PhosphoSite;PhosphoSite_MIMP;PhosphoSite_ProtMapper;ProtMapper;SIGNOR;SIGNOR_ProtMapper;phosphoELM;phosphoELM_MIMP</td>\n",
       "      <td>KEA:11390389;KEA:12871937;ProtMapper:12871937;ProtMapper:15212693;SIGNOR:12871937;phosphoELM:12871937</td>\n",
       "      <td>6</td>\n",
       "      <td>9606</td>\n",
       "    </tr>\n",
       "    <tr>\n",
       "      <th>44</th>\n",
       "      <td>P12931</td>\n",
       "      <td>SRC</td>\n",
       "      <td>O15530</td>\n",
       "      <td>PDPK1</td>\n",
       "      <td>1;5</td>\n",
       "      <td>Y</td>\n",
       "      <td>373</td>\n",
       "      <td>phosphorylation</td>\n",
       "      <td>HPRD;HPRD_MIMP;KEA;MIMP;PhosphoSite;PhosphoSite_MIMP;PhosphoSite_ProtMapper;ProtMapper;RLIMS-P_ProtMapper;SIGNOR;SIGNOR_ProtMapper;dbPTM;phosphoELM;phosphoELM_MIMP</td>\n",
       "      <td>HPRD:11481331;KEA:1148133;KEA:11481331;KEA:15302935;ProtMapper:14585963;ProtMapper:20643654;SIGNOR:20643654;dbPTM:11481331;dbPTM:14585963;dbPTM:16314505;phosphoELM:11481331</td>\n",
       "      <td>11</td>\n",
       "      <td>9606</td>\n",
       "    </tr>\n",
       "    <tr>\n",
       "      <th>45</th>\n",
       "      <td>P12931</td>\n",
       "      <td>SRC</td>\n",
       "      <td>O15530</td>\n",
       "      <td>PDPK1</td>\n",
       "      <td>1;3;4;5</td>\n",
       "      <td>Y</td>\n",
       "      <td>9</td>\n",
       "      <td>phosphorylation</td>\n",
       "      <td>BEL-Large-Corpus_ProtMapper;HPRD;HPRD_MIMP;KEA;MIMP;PhosphoSite_MIMP;ProtMapper;REACH_ProtMapper;RLIMS-P_ProtMapper;SIGNOR;SIGNOR_ProtMapper;Sparser_ProtMapper;dbPTM;phosphoELM;phosphoELM_MIMP</td>\n",
       "      <td>HPRD:11481331;KEA:11481331;KEA:12738763;KEA:15302935;KEA:16314505;ProtMapper:11481331;ProtMapper:14585963;ProtMapper:15212693;SIGNOR:11481331;dbPTM:11481331;dbPTM:14585963;dbPTM:16314505;phosphoELM:11481331</td>\n",
       "      <td>13</td>\n",
       "      <td>9606</td>\n",
       "    </tr>\n",
       "    <tr>\n",
       "      <th>...</th>\n",
       "      <td>...</td>\n",
       "      <td>...</td>\n",
       "      <td>...</td>\n",
       "      <td>...</td>\n",
       "      <td>...</td>\n",
       "      <td>...</td>\n",
       "      <td>...</td>\n",
       "      <td>...</td>\n",
       "      <td>...</td>\n",
       "      <td>...</td>\n",
       "      <td>...</td>\n",
       "      <td>...</td>\n",
       "    </tr>\n",
       "    <tr>\n",
       "      <th>43237</th>\n",
       "      <td>P12931</td>\n",
       "      <td>SRC</td>\n",
       "      <td>Q99747</td>\n",
       "      <td>NAPG</td>\n",
       "      <td>1</td>\n",
       "      <td>Y</td>\n",
       "      <td>307</td>\n",
       "      <td>phosphorylation</td>\n",
       "      <td>KEA</td>\n",
       "      <td>KEA:17570479</td>\n",
       "      <td>1</td>\n",
       "      <td>9606</td>\n",
       "    </tr>\n",
       "    <tr>\n",
       "      <th>43238</th>\n",
       "      <td>P12931</td>\n",
       "      <td>SRC</td>\n",
       "      <td>Q15118</td>\n",
       "      <td>PDK1</td>\n",
       "      <td>1</td>\n",
       "      <td>Y</td>\n",
       "      <td>376</td>\n",
       "      <td>phosphorylation</td>\n",
       "      <td>KEA</td>\n",
       "      <td>KEA:1148133</td>\n",
       "      <td>1</td>\n",
       "      <td>9606</td>\n",
       "    </tr>\n",
       "    <tr>\n",
       "      <th>43239</th>\n",
       "      <td>P12931</td>\n",
       "      <td>SRC</td>\n",
       "      <td>P23443</td>\n",
       "      <td>RPS6KB1</td>\n",
       "      <td>1;4;5</td>\n",
       "      <td>Y</td>\n",
       "      <td>62</td>\n",
       "      <td>phosphorylation</td>\n",
       "      <td>KEA</td>\n",
       "      <td>KEA:16640565</td>\n",
       "      <td>1</td>\n",
       "      <td>9606</td>\n",
       "    </tr>\n",
       "    <tr>\n",
       "      <th>43240</th>\n",
       "      <td>P12931</td>\n",
       "      <td>SRC</td>\n",
       "      <td>P21980</td>\n",
       "      <td>TGM2</td>\n",
       "      <td>1;2</td>\n",
       "      <td>Y</td>\n",
       "      <td>369</td>\n",
       "      <td>phosphorylation</td>\n",
       "      <td>KEA</td>\n",
       "      <td>KEA:17570479</td>\n",
       "      <td>1</td>\n",
       "      <td>9606</td>\n",
       "    </tr>\n",
       "    <tr>\n",
       "      <th>43241</th>\n",
       "      <td>P12931</td>\n",
       "      <td>SRC</td>\n",
       "      <td>Q15650</td>\n",
       "      <td>TRIP4</td>\n",
       "      <td>1</td>\n",
       "      <td>Y</td>\n",
       "      <td>289</td>\n",
       "      <td>phosphorylation</td>\n",
       "      <td>KEA</td>\n",
       "      <td>KEA:17570479</td>\n",
       "      <td>1</td>\n",
       "      <td>9606</td>\n",
       "    </tr>\n",
       "  </tbody>\n",
       "</table>\n",
       "<p>952 rows × 12 columns</p>\n",
       "</div>"
      ],
      "text/plain": [
       "       enzyme enzyme_genesymbol substrate substrate_genesymbol isoforms  \\\n",
       "2      P12931               SRC    O14746                 TERT  1;2;3;4   \n",
       "23     P12931               SRC    O15162               PLSCR1        1   \n",
       "24     P12931               SRC    O15162               PLSCR1        1   \n",
       "44     P12931               SRC    O15530                PDPK1      1;5   \n",
       "45     P12931               SRC    O15530                PDPK1  1;3;4;5   \n",
       "...       ...               ...       ...                  ...      ...   \n",
       "43237  P12931               SRC    Q99747                 NAPG        1   \n",
       "43238  P12931               SRC    Q15118                 PDK1        1   \n",
       "43239  P12931               SRC    P23443              RPS6KB1    1;4;5   \n",
       "43240  P12931               SRC    P21980                 TGM2      1;2   \n",
       "43241  P12931               SRC    Q15650                TRIP4        1   \n",
       "\n",
       "      residue_type  residue_offset     modification  \\\n",
       "2                Y             707  phosphorylation   \n",
       "23               Y              74  phosphorylation   \n",
       "24               Y              69  phosphorylation   \n",
       "44               Y             373  phosphorylation   \n",
       "45               Y               9  phosphorylation   \n",
       "...            ...             ...              ...   \n",
       "43237            Y             307  phosphorylation   \n",
       "43238            Y             376  phosphorylation   \n",
       "43239            Y              62  phosphorylation   \n",
       "43240            Y             369  phosphorylation   \n",
       "43241            Y             289  phosphorylation   \n",
       "\n",
       "                                                                                                                                                                                                sources  \\\n",
       "2       BEL-Large-Corpus_ProtMapper;HPRD;HPRD_MIMP;KEA;MIMP;PhosphoSite;PhosphoSite_MIMP;PhosphoSite_ProtMapper;ProtMapper;RLIMS-P_ProtMapper;SIGNOR;SIGNOR_ProtMapper;dbPTM;phosphoELM;phosphoELM_MIMP   \n",
       "23                                                         HPRD_MIMP;KEA;Li2012;MIMP;PhosphoSite;PhosphoSite_MIMP;PhosphoSite_ProtMapper;ProtMapper;SIGNOR;SIGNOR_ProtMapper;phosphoELM;phosphoELM_MIMP   \n",
       "24                             BEL-Large-Corpus_ProtMapper;HPRD_MIMP;KEA;Li2012;MIMP;PhosphoSite;PhosphoSite_MIMP;PhosphoSite_ProtMapper;ProtMapper;SIGNOR;SIGNOR_ProtMapper;phosphoELM;phosphoELM_MIMP   \n",
       "44                                  HPRD;HPRD_MIMP;KEA;MIMP;PhosphoSite;PhosphoSite_MIMP;PhosphoSite_ProtMapper;ProtMapper;RLIMS-P_ProtMapper;SIGNOR;SIGNOR_ProtMapper;dbPTM;phosphoELM;phosphoELM_MIMP   \n",
       "45     BEL-Large-Corpus_ProtMapper;HPRD;HPRD_MIMP;KEA;MIMP;PhosphoSite_MIMP;ProtMapper;REACH_ProtMapper;RLIMS-P_ProtMapper;SIGNOR;SIGNOR_ProtMapper;Sparser_ProtMapper;dbPTM;phosphoELM;phosphoELM_MIMP   \n",
       "...                                                                                                                                                                                                 ...   \n",
       "43237                                                                                                                                                                                               KEA   \n",
       "43238                                                                                                                                                                                               KEA   \n",
       "43239                                                                                                                                                                                               KEA   \n",
       "43240                                                                                                                                                                                               KEA   \n",
       "43241                                                                                                                                                                                               KEA   \n",
       "\n",
       "                                                                                                                                                                                                           references  \\\n",
       "2                                                                                HPRD:12808100;KEA:12808100;ProtMapper:12808100;ProtMapper:20211239;SIGNOR:12808100;dbPTM:12808100;dbPTM:18829466;phosphoELM:12808100   \n",
       "23                                                                                                                                  KEA:11390389;KEA:12871937;ProtMapper:12871937;SIGNOR:12871937;phosphoELM:12871937   \n",
       "24                                                                                                              KEA:11390389;KEA:12871937;ProtMapper:12871937;ProtMapper:15212693;SIGNOR:12871937;phosphoELM:12871937   \n",
       "44                                       HPRD:11481331;KEA:1148133;KEA:11481331;KEA:15302935;ProtMapper:14585963;ProtMapper:20643654;SIGNOR:20643654;dbPTM:11481331;dbPTM:14585963;dbPTM:16314505;phosphoELM:11481331   \n",
       "45     HPRD:11481331;KEA:11481331;KEA:12738763;KEA:15302935;KEA:16314505;ProtMapper:11481331;ProtMapper:14585963;ProtMapper:15212693;SIGNOR:11481331;dbPTM:11481331;dbPTM:14585963;dbPTM:16314505;phosphoELM:11481331   \n",
       "...                                                                                                                                                                                                               ...   \n",
       "43237                                                                                                                                                                                                    KEA:17570479   \n",
       "43238                                                                                                                                                                                                     KEA:1148133   \n",
       "43239                                                                                                                                                                                                    KEA:16640565   \n",
       "43240                                                                                                                                                                                                    KEA:17570479   \n",
       "43241                                                                                                                                                                                                    KEA:17570479   \n",
       "\n",
       "       curation_effort  ncbi_tax_id  \n",
       "2                    8         9606  \n",
       "23                   5         9606  \n",
       "24                   6         9606  \n",
       "44                  11         9606  \n",
       "45                  13         9606  \n",
       "...                ...          ...  \n",
       "43237                1         9606  \n",
       "43238                1         9606  \n",
       "43239                1         9606  \n",
       "43240                1         9606  \n",
       "43241                1         9606  \n",
       "\n",
       "[952 rows x 12 columns]"
      ]
     },
     "execution_count": 26,
     "metadata": {},
     "output_type": "execute_result"
    }
   ],
   "source": [
    "filtered = enzymePTM_df[(enzymePTM_df[\"enzyme\"]==\"P12931\")]\n",
    "filtered"
   ]
  },
  {
   "cell_type": "code",
   "execution_count": null,
   "metadata": {},
   "outputs": [],
   "source": []
  },
  {
   "cell_type": "code",
   "execution_count": null,
   "metadata": {},
   "outputs": [],
   "source": []
  },
  {
   "cell_type": "code",
   "execution_count": null,
   "metadata": {},
   "outputs": [],
   "source": []
  },
  {
   "cell_type": "markdown",
   "metadata": {},
   "source": [
    "## Section 4. Load the dataset with predefined data types."
   ]
  },
  {
   "cell_type": "code",
   "execution_count": null,
   "metadata": {},
   "outputs": [],
   "source": [
    "# Data types for interactions\n",
    "dtype = {'source': 'string',\n",
    "         'target': 'string',\n",
    "         'source_genesymbol': 'string',\n",
    "         'target_genesymbol': 'string',\n",
    "         'is_directed': 'boolean',\n",
    "         'is_stimulation': 'boolean',\n",
    "         'is_inhibition': 'boolean',\n",
    "         'consensus_direction': 'boolean',\n",
    "         'consensus_stimulation': 'boolean',\n",
    "         'consensus_inhibition': 'boolean',\n",
    "         'sources': 'string',\n",
    "         'references': 'string',\n",
    "         'omnipath': 'boolean',\n",
    "         'kinaseextra': 'boolean',\n",
    "         'ligrecextra': 'boolean',\n",
    "         'pathwayextra': 'boolean',\n",
    "         'mirnatarget': 'boolean',\n",
    "         'dorothea': 'boolean',\n",
    "         'collectri': 'boolean',\n",
    "         'tf_target': 'boolean',\n",
    "         'lncrna_mrna': 'boolean',\n",
    "         'tf_mirna': 'boolean',\n",
    "         'small_molecule': 'boolean',\n",
    "         'dorothea_curated': 'boolean',\n",
    "         'dorothea_chipseq': 'boolean',\n",
    "         'dorothea_tfbs': 'boolean',\n",
    "         'dorothea_coexp': 'boolean',\n",
    "         'dorothea_level': 'string',\n",
    "         'type': 'string',\n",
    "         'curation_effort': 'Int64',\n",
    "         'extra_attrs': 'string',\n",
    "         'evidences': 'string',\n",
    "         'ncbi_tax_id_source': 'Int64',\n",
    "         'entity_type_source': 'string',\n",
    "         'ncbi_tax_id_target': 'Int64',\n",
    "         'entity_type_target': 'string'\n",
    "}"
   ]
  },
  {
   "cell_type": "code",
   "execution_count": null,
   "metadata": {},
   "outputs": [],
   "source": [
    "enzymePTM_df = pd.read_table(dataset_path_networks, dtype=dtype)"
   ]
  },
  {
   "cell_type": "code",
   "execution_count": null,
   "metadata": {},
   "outputs": [],
   "source": [
    "enzymePTM_df.info()"
   ]
  },
  {
   "cell_type": "markdown",
   "metadata": {},
   "source": [
    "Note that by specifying the datatypes the size of the dataset in memory has been reduced **21.83%**."
   ]
  },
  {
   "cell_type": "code",
   "execution_count": null,
   "metadata": {},
   "outputs": [],
   "source": []
  },
  {
   "cell_type": "code",
   "execution_count": null,
   "metadata": {},
   "outputs": [],
   "source": []
  }
 ],
 "metadata": {
  "kernelspec": {
   "display_name": "Python 3 (ipykernel)",
   "language": "python",
   "name": "python3"
  },
  "language_info": {
   "codemirror_mode": {
    "name": "ipython",
    "version": 3
   },
   "file_extension": ".py",
   "mimetype": "text/x-python",
   "name": "python",
   "nbconvert_exporter": "python",
   "pygments_lexer": "ipython3",
   "version": "3.12.4"
  }
 },
 "nbformat": 4,
 "nbformat_minor": 4
}
