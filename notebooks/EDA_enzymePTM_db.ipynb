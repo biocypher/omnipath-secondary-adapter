{
 "cells": [
  {
   "cell_type": "markdown",
   "metadata": {},
   "source": [
    "# Exploratory Data Analysis: Networks Dataframe (from Omnipath database)"
   ]
  },
  {
   "cell_type": "markdown",
   "metadata": {},
   "source": [
    "[//]: # (------------------------------------------    DO NOT MODIFY THIS    ------------------------------------------)\n",
    "<style type=\"text/css\">\n",
    ".tg  {border-collapse:collapse;\n",
    "      border-spacing:0;\n",
    "     }\n",
    ".tg td{border-color:black;\n",
    "       border-style:solid;\n",
    "       border-width:1px;\n",
    "       font-family:Arial, sans-serif;\n",
    "       font-size:14px;\n",
    "       overflow:hidden;\n",
    "       padding:10px 5px;\n",
    "       word-break:normal;\n",
    "      }\n",
    ".tg th{border-color:black;\n",
    "       border-style:solid;\n",
    "       border-width:1px;\n",
    "       font-family:Arial, sans-serif;\n",
    "       font-size:14px;\n",
    "       font-weight:normal;\n",
    "       overflow:hidden;\n",
    "       padding:10px 5px;\n",
    "       word-break:normal;\n",
    "      }\n",
    ".tg .tg-fymr{border-color:inherit;\n",
    "             font-weight:bold;\n",
    "             text-align:left;\n",
    "             vertical-align:top\n",
    "            }\n",
    ".tg .tg-0pky{border-color:inherit;\n",
    "             text-align:left;\n",
    "             vertical-align:top\n",
    "            }\n",
    "[//]: # (--------------------------------------------------------------------------------------------------------------)\n",
    "\n",
    "[//]: # (-------------------------------------    FILL THIS OUT WITH YOUR DATA    -------------------------------------)\n",
    "</style>\n",
    "<table class=\"tg\">\n",
    "    <tbody>\n",
    "      <tr>\n",
    "        <td class=\"tg-fymr\" style=\"font-weight: bold\">Title:</td>\n",
    "        <td class=\"tg-0pky\">Exploratory Data Analysis: Networks Dataframe (from Omnipath database)</td>\n",
    "      </tr>\n",
    "      <tr>\n",
    "        <td class=\"tg-fymr\" style=\"font-weight: bold\">Authors:</td>\n",
    "        <td class=\"tg-0pky\">\n",
    "            <a href=\"https://github.com/ecarrenolozano\" target=\"_blank\" rel=\"noopener noreferrer\">Edwin Carreño</a>\n",
    "        </td>\n",
    "      </tr>\n",
    "      <tr>\n",
    "        <td class=\"tg-fymr\" style=\"font-weight: bold\">Affiliations:</td>\n",
    "        <td class=\"tg-0pky\">\n",
    "            <a href=\"https://www.ssc.uni-heidelberg.de/en\" target=\"_blank\" rel=\"noopener noreferrer\">Scientific Software Center</a>,\n",
    "            <a href=\"https://saezlab.org/\" target=\"_blank\" rel=\"noopener noreferrer\">Saez-Rodriguez Group</a>\n",
    "        </td>\n",
    "      </tr>\n",
    "      <tr>\n",
    "        <td class=\"tg-fymr\" style=\"font-weight: bold\">Date Created:</td>\n",
    "        <td class=\"tg-0pky\">22.04.2025</td>\n",
    "      </tr>\n",
    "      <tr>\n",
    "        <td class=\"tg-fymr\" style=\"font-weight: bold\">Description:</td>\n",
    "        <td class=\"tg-0pky\">Extraction of metadata for building database tables </td>\n",
    "      </tr>\n",
    "    </tbody>\n",
    "</table>\n",
    "\n",
    "[//]: # (--------------------------------------------------------------------------------------------------------------)"
   ]
  },
  {
   "cell_type": "markdown",
   "metadata": {},
   "source": [
    "## Overview\n",
    "\n",
    "This notebook should help to understand the information contained in the \"EnzymePTM\" dataset from the Omnipath database."
   ]
  },
  {
   "cell_type": "markdown",
   "metadata": {},
   "source": [
    "## Setup (if required)\n",
    "\n",
    "If your code require to install dependencies before your main code, please add the commands to install the dependencies."
   ]
  },
  {
   "cell_type": "markdown",
   "metadata": {},
   "source": [
    "### Pandas installation"
   ]
  },
  {
   "cell_type": "code",
   "execution_count": 1,
   "metadata": {},
   "outputs": [
    {
     "name": "stdout",
     "output_type": "stream",
     "text": [
      "Note: you may need to restart the kernel to use updated packages.\n"
     ]
    }
   ],
   "source": [
    "%pip install pandas -q"
   ]
  },
  {
   "cell_type": "markdown",
   "metadata": {
    "vscode": {
     "languageId": "plaintext"
    }
   },
   "source": [
    "## Importing Libraries\n",
    "\n",
    "Recommendations:\n",
    "\n",
    "- Respect the order of the imports, they are indicated by the numbers *1, 2, 3*.\n",
    "- One import per line is recommended, with this we can track easily any modified line when we use git.\n",
    "- Absolute imports are recommended (see *3. Local application/library specific imports* below), they improve readability and give better error messages.\n",
    "- You should put a blank line between each group of imports."
   ]
  },
  {
   "cell_type": "code",
   "execution_count": 2,
   "metadata": {},
   "outputs": [],
   "source": [
    "# 1. Standard library imports\n",
    "import os\n",
    "\n",
    "# 2. Related third party imports\n",
    "import numpy as np\n",
    "import pandas as pd\n",
    "\n",
    "# 3. Local application/library specific imports\n",
    "# import <mypackage>.<MyClass>         # this is an example\n",
    "# from <mypackage> import <MyClass>    # this is another example "
   ]
  },
  {
   "cell_type": "markdown",
   "metadata": {
    "jp-MarkdownHeadingCollapsed": true
   },
   "source": [
    "## Introduction\n",
    "\n",
    "TO DO\n"
   ]
  },
  {
   "cell_type": "markdown",
   "metadata": {},
   "source": [
    "## Section 1. Load \"Networks\" dataset"
   ]
  },
  {
   "cell_type": "markdown",
   "metadata": {},
   "source": [
    "### Section 1.1. Setting dataset path"
   ]
  },
  {
   "cell_type": "code",
   "execution_count": 3,
   "metadata": {},
   "outputs": [],
   "source": [
    "dataset_path_enzymePTM = os.path.join(\"../data/omnipath_enzyme_PTM/omnipath_webservice_enz_sub__latest.tsv.gz\")"
   ]
  },
  {
   "cell_type": "code",
   "execution_count": 4,
   "metadata": {},
   "outputs": [
    {
     "name": "stdout",
     "output_type": "stream",
     "text": [
      "This file exist? True\n"
     ]
    }
   ],
   "source": [
    "print(\"This file exist? {}\".format(os.path.exists(dataset_path_enzymePTM)))"
   ]
  },
  {
   "cell_type": "markdown",
   "metadata": {},
   "source": [
    "### Section 1.2. Load dataset as Pandas DataFrame"
   ]
  },
  {
   "cell_type": "markdown",
   "metadata": {},
   "source": [
    "#### Configuring Pandas view"
   ]
  },
  {
   "cell_type": "code",
   "execution_count": 5,
   "metadata": {},
   "outputs": [],
   "source": [
    "pd.set_option('display.max_colwidth', None)\n",
    "pd.set_option('display.max_columns', None)  "
   ]
  },
  {
   "cell_type": "markdown",
   "metadata": {},
   "source": [
    "#### Load data into Pandas Dataframe (without predefined data types)\n",
    "\n",
    "By default the option *keep_default_na* is True, it means that Pandas will interpret empty values or null values as NaN values."
   ]
  },
  {
   "cell_type": "code",
   "execution_count": 6,
   "metadata": {},
   "outputs": [],
   "source": [
    "enzymePTM_df = pd.read_table(dataset_path_enzymePTM, sep=\"\\t\", keep_default_na=True)"
   ]
  },
  {
   "cell_type": "code",
   "execution_count": 7,
   "metadata": {},
   "outputs": [
    {
     "data": {
      "text/html": [
       "<div>\n",
       "<style scoped>\n",
       "    .dataframe tbody tr th:only-of-type {\n",
       "        vertical-align: middle;\n",
       "    }\n",
       "\n",
       "    .dataframe tbody tr th {\n",
       "        vertical-align: top;\n",
       "    }\n",
       "\n",
       "    .dataframe thead th {\n",
       "        text-align: right;\n",
       "    }\n",
       "</style>\n",
       "<table border=\"1\" class=\"dataframe\">\n",
       "  <thead>\n",
       "    <tr style=\"text-align: right;\">\n",
       "      <th></th>\n",
       "      <th>enzyme</th>\n",
       "      <th>enzyme_genesymbol</th>\n",
       "      <th>substrate</th>\n",
       "      <th>substrate_genesymbol</th>\n",
       "      <th>isoforms</th>\n",
       "      <th>residue_type</th>\n",
       "      <th>residue_offset</th>\n",
       "      <th>modification</th>\n",
       "      <th>sources</th>\n",
       "      <th>references</th>\n",
       "      <th>curation_effort</th>\n",
       "      <th>ncbi_tax_id</th>\n",
       "    </tr>\n",
       "  </thead>\n",
       "  <tbody>\n",
       "    <tr>\n",
       "      <th>0</th>\n",
       "      <td>P06239</td>\n",
       "      <td>LCK</td>\n",
       "      <td>O14543</td>\n",
       "      <td>SOCS3</td>\n",
       "      <td>1</td>\n",
       "      <td>Y</td>\n",
       "      <td>204</td>\n",
       "      <td>phosphorylation</td>\n",
       "      <td>KEA;MIMP;PhosphoNetworks;PhosphoSite;PhosphoSite_MIMP;PhosphoSite_ProtMapper;ProtMapper;phosphoELM;phosphoELM_MIMP</td>\n",
       "      <td>KEA:12783885;phosphoELM:12783885</td>\n",
       "      <td>2</td>\n",
       "      <td>9606</td>\n",
       "    </tr>\n",
       "    <tr>\n",
       "      <th>1</th>\n",
       "      <td>P06239</td>\n",
       "      <td>LCK</td>\n",
       "      <td>O14543</td>\n",
       "      <td>SOCS3</td>\n",
       "      <td>1</td>\n",
       "      <td>Y</td>\n",
       "      <td>221</td>\n",
       "      <td>phosphorylation</td>\n",
       "      <td>KEA;MIMP;PhosphoNetworks;PhosphoSite;PhosphoSite_MIMP;PhosphoSite_ProtMapper;ProtMapper;phosphoELM;phosphoELM_MIMP</td>\n",
       "      <td>KEA:12783885;KEA:15173187;phosphoELM:15173187</td>\n",
       "      <td>3</td>\n",
       "      <td>9606</td>\n",
       "    </tr>\n",
       "    <tr>\n",
       "      <th>2</th>\n",
       "      <td>P12931</td>\n",
       "      <td>SRC</td>\n",
       "      <td>O14746</td>\n",
       "      <td>TERT</td>\n",
       "      <td>1;2;3;4</td>\n",
       "      <td>Y</td>\n",
       "      <td>707</td>\n",
       "      <td>phosphorylation</td>\n",
       "      <td>BEL-Large-Corpus_ProtMapper;HPRD;HPRD_MIMP;KEA;MIMP;PhosphoSite;PhosphoSite_MIMP;PhosphoSite_ProtMapper;ProtMapper;RLIMS-P_ProtMapper;SIGNOR;SIGNOR_ProtMapper;dbPTM;phosphoELM;phosphoELM_MIMP</td>\n",
       "      <td>HPRD:12808100;KEA:12808100;ProtMapper:12808100;ProtMapper:20211239;SIGNOR:12808100;dbPTM:12808100;dbPTM:18829466;phosphoELM:12808100</td>\n",
       "      <td>8</td>\n",
       "      <td>9606</td>\n",
       "    </tr>\n",
       "    <tr>\n",
       "      <th>3</th>\n",
       "      <td>P06241</td>\n",
       "      <td>FYN</td>\n",
       "      <td>O15117</td>\n",
       "      <td>FYB1</td>\n",
       "      <td>1</td>\n",
       "      <td>Y</td>\n",
       "      <td>651</td>\n",
       "      <td>phosphorylation</td>\n",
       "      <td>HPRD;KEA;PhosphoSite;PhosphoSite_ProtMapper;ProtMapper;SIGNOR;SIGNOR_ProtMapper;phosphoELM</td>\n",
       "      <td>HPRD:10570256;KEA:10409671;KEA:10570256;ProtMapper:10570256;SIGNOR:10570256;phosphoELM:10409671;phosphoELM:10570256</td>\n",
       "      <td>7</td>\n",
       "      <td>9606</td>\n",
       "    </tr>\n",
       "    <tr>\n",
       "      <th>4</th>\n",
       "      <td>P06241</td>\n",
       "      <td>FYN</td>\n",
       "      <td>O15117</td>\n",
       "      <td>FYB1</td>\n",
       "      <td>1;2</td>\n",
       "      <td>Y</td>\n",
       "      <td>595</td>\n",
       "      <td>phosphorylation</td>\n",
       "      <td>HPRD;KEA;PhosphoNetworks;PhosphoSite;PhosphoSite_ProtMapper;ProtMapper;SIGNOR;SIGNOR_ProtMapper;phosphoELM</td>\n",
       "      <td>HPRD:10570256;KEA:10409671;KEA:10570256;ProtMapper:10570256;SIGNOR:10570256;phosphoELM:10409671;phosphoELM:10570256</td>\n",
       "      <td>7</td>\n",
       "      <td>9606</td>\n",
       "    </tr>\n",
       "    <tr>\n",
       "      <th>5</th>\n",
       "      <td>P06241</td>\n",
       "      <td>FYN</td>\n",
       "      <td>O15117</td>\n",
       "      <td>FYB1</td>\n",
       "      <td>2</td>\n",
       "      <td>Y</td>\n",
       "      <td>697</td>\n",
       "      <td>phosphorylation</td>\n",
       "      <td>HPRD;KEA;PhosphoNetworks</td>\n",
       "      <td>HPRD:10570256;KEA:10409671;KEA:10570256</td>\n",
       "      <td>3</td>\n",
       "      <td>9606</td>\n",
       "    </tr>\n",
       "    <tr>\n",
       "      <th>6</th>\n",
       "      <td>P06241</td>\n",
       "      <td>FYN</td>\n",
       "      <td>O15117</td>\n",
       "      <td>FYB1</td>\n",
       "      <td>1;2</td>\n",
       "      <td>Y</td>\n",
       "      <td>625</td>\n",
       "      <td>phosphorylation</td>\n",
       "      <td>PhosphoSite;PhosphoSite_ProtMapper;ProtMapper</td>\n",
       "      <td>NaN</td>\n",
       "      <td>0</td>\n",
       "      <td>9606</td>\n",
       "    </tr>\n",
       "    <tr>\n",
       "      <th>7</th>\n",
       "      <td>P06241</td>\n",
       "      <td>FYN</td>\n",
       "      <td>O15117</td>\n",
       "      <td>FYB1</td>\n",
       "      <td>1;2;3</td>\n",
       "      <td>Y</td>\n",
       "      <td>571</td>\n",
       "      <td>phosphorylation</td>\n",
       "      <td>PhosphoSite;PhosphoSite_ProtMapper;ProtMapper</td>\n",
       "      <td>NaN</td>\n",
       "      <td>0</td>\n",
       "      <td>9606</td>\n",
       "    </tr>\n",
       "    <tr>\n",
       "      <th>8</th>\n",
       "      <td>P06241</td>\n",
       "      <td>FYN</td>\n",
       "      <td>O15117</td>\n",
       "      <td>FYB1</td>\n",
       "      <td>1</td>\n",
       "      <td>Y</td>\n",
       "      <td>771</td>\n",
       "      <td>phosphorylation</td>\n",
       "      <td>PhosphoSite;PhosphoSite_ProtMapper;ProtMapper</td>\n",
       "      <td>NaN</td>\n",
       "      <td>0</td>\n",
       "      <td>9606</td>\n",
       "    </tr>\n",
       "    <tr>\n",
       "      <th>9</th>\n",
       "      <td>P06241</td>\n",
       "      <td>FYN</td>\n",
       "      <td>O15117</td>\n",
       "      <td>FYB1</td>\n",
       "      <td>1;2</td>\n",
       "      <td>Y</td>\n",
       "      <td>559</td>\n",
       "      <td>phosphorylation</td>\n",
       "      <td>PhosphoSite;PhosphoSite_ProtMapper;ProtMapper</td>\n",
       "      <td>NaN</td>\n",
       "      <td>0</td>\n",
       "      <td>9606</td>\n",
       "    </tr>\n",
       "    <tr>\n",
       "      <th>10</th>\n",
       "      <td>P06241</td>\n",
       "      <td>FYN</td>\n",
       "      <td>O15117</td>\n",
       "      <td>FYB1</td>\n",
       "      <td>1;2</td>\n",
       "      <td>Y</td>\n",
       "      <td>755</td>\n",
       "      <td>phosphorylation</td>\n",
       "      <td>PhosphoSite;PhosphoSite_ProtMapper;ProtMapper</td>\n",
       "      <td>NaN</td>\n",
       "      <td>0</td>\n",
       "      <td>9606</td>\n",
       "    </tr>\n",
       "    <tr>\n",
       "      <th>11</th>\n",
       "      <td>P06241</td>\n",
       "      <td>FYN</td>\n",
       "      <td>O15117</td>\n",
       "      <td>FYB1</td>\n",
       "      <td>1;3</td>\n",
       "      <td>Y</td>\n",
       "      <td>757</td>\n",
       "      <td>phosphorylation</td>\n",
       "      <td>PhosphoSite;PhosphoSite_ProtMapper;ProtMapper</td>\n",
       "      <td>NaN</td>\n",
       "      <td>0</td>\n",
       "      <td>9606</td>\n",
       "    </tr>\n",
       "    <tr>\n",
       "      <th>12</th>\n",
       "      <td>P06241</td>\n",
       "      <td>FYN</td>\n",
       "      <td>O15117</td>\n",
       "      <td>FYB1</td>\n",
       "      <td>1</td>\n",
       "      <td>Y</td>\n",
       "      <td>780</td>\n",
       "      <td>phosphorylation</td>\n",
       "      <td>PhosphoSite;PhosphoSite_ProtMapper;ProtMapper</td>\n",
       "      <td>NaN</td>\n",
       "      <td>0</td>\n",
       "      <td>9606</td>\n",
       "    </tr>\n",
       "    <tr>\n",
       "      <th>13</th>\n",
       "      <td>P06241</td>\n",
       "      <td>FYN</td>\n",
       "      <td>O15117</td>\n",
       "      <td>FYB1</td>\n",
       "      <td>3</td>\n",
       "      <td>Y</td>\n",
       "      <td>569</td>\n",
       "      <td>phosphorylation</td>\n",
       "      <td>MIMP;PhosphoSite_MIMP</td>\n",
       "      <td>NaN</td>\n",
       "      <td>0</td>\n",
       "      <td>9606</td>\n",
       "    </tr>\n",
       "    <tr>\n",
       "      <th>14</th>\n",
       "      <td>P06241</td>\n",
       "      <td>FYN</td>\n",
       "      <td>O15117</td>\n",
       "      <td>FYB1</td>\n",
       "      <td>3</td>\n",
       "      <td>Y</td>\n",
       "      <td>581</td>\n",
       "      <td>phosphorylation</td>\n",
       "      <td>HPRD_MIMP;MIMP;PhosphoSite_MIMP;phosphoELM_MIMP</td>\n",
       "      <td>NaN</td>\n",
       "      <td>0</td>\n",
       "      <td>9606</td>\n",
       "    </tr>\n",
       "    <tr>\n",
       "      <th>15</th>\n",
       "      <td>P06241</td>\n",
       "      <td>FYN</td>\n",
       "      <td>O15117</td>\n",
       "      <td>FYB1</td>\n",
       "      <td>3</td>\n",
       "      <td>Y</td>\n",
       "      <td>605</td>\n",
       "      <td>phosphorylation</td>\n",
       "      <td>HPRD_MIMP;MIMP;PhosphoSite_MIMP;phosphoELM_MIMP</td>\n",
       "      <td>NaN</td>\n",
       "      <td>0</td>\n",
       "      <td>9606</td>\n",
       "    </tr>\n",
       "    <tr>\n",
       "      <th>16</th>\n",
       "      <td>P06241</td>\n",
       "      <td>FYN</td>\n",
       "      <td>O15117</td>\n",
       "      <td>FYB1</td>\n",
       "      <td>3</td>\n",
       "      <td>Y</td>\n",
       "      <td>707</td>\n",
       "      <td>phosphorylation</td>\n",
       "      <td>HPRD_MIMP;MIMP;PhosphoSite_MIMP;phosphoELM_MIMP</td>\n",
       "      <td>NaN</td>\n",
       "      <td>0</td>\n",
       "      <td>9606</td>\n",
       "    </tr>\n",
       "    <tr>\n",
       "      <th>17</th>\n",
       "      <td>P06241</td>\n",
       "      <td>FYN</td>\n",
       "      <td>O15117</td>\n",
       "      <td>FYB1</td>\n",
       "      <td>3</td>\n",
       "      <td>Y</td>\n",
       "      <td>811</td>\n",
       "      <td>phosphorylation</td>\n",
       "      <td>HPRD_MIMP;MIMP;PhosphoSite_MIMP</td>\n",
       "      <td>NaN</td>\n",
       "      <td>0</td>\n",
       "      <td>9606</td>\n",
       "    </tr>\n",
       "    <tr>\n",
       "      <th>18</th>\n",
       "      <td>P06241</td>\n",
       "      <td>FYN</td>\n",
       "      <td>O15117</td>\n",
       "      <td>FYB1</td>\n",
       "      <td>3</td>\n",
       "      <td>Y</td>\n",
       "      <td>813</td>\n",
       "      <td>phosphorylation</td>\n",
       "      <td>HPRD_MIMP;MIMP;PhosphoSite_MIMP</td>\n",
       "      <td>NaN</td>\n",
       "      <td>0</td>\n",
       "      <td>9606</td>\n",
       "    </tr>\n",
       "    <tr>\n",
       "      <th>19</th>\n",
       "      <td>P06241</td>\n",
       "      <td>FYN</td>\n",
       "      <td>O15117</td>\n",
       "      <td>FYB1</td>\n",
       "      <td>3</td>\n",
       "      <td>Y</td>\n",
       "      <td>827</td>\n",
       "      <td>phosphorylation</td>\n",
       "      <td>MIMP;PhosphoSite_MIMP</td>\n",
       "      <td>NaN</td>\n",
       "      <td>0</td>\n",
       "      <td>9606</td>\n",
       "    </tr>\n",
       "  </tbody>\n",
       "</table>\n",
       "</div>"
      ],
      "text/plain": [
       "    enzyme enzyme_genesymbol substrate substrate_genesymbol isoforms  \\\n",
       "0   P06239               LCK    O14543                SOCS3        1   \n",
       "1   P06239               LCK    O14543                SOCS3        1   \n",
       "2   P12931               SRC    O14746                 TERT  1;2;3;4   \n",
       "3   P06241               FYN    O15117                 FYB1        1   \n",
       "4   P06241               FYN    O15117                 FYB1      1;2   \n",
       "5   P06241               FYN    O15117                 FYB1        2   \n",
       "6   P06241               FYN    O15117                 FYB1      1;2   \n",
       "7   P06241               FYN    O15117                 FYB1    1;2;3   \n",
       "8   P06241               FYN    O15117                 FYB1        1   \n",
       "9   P06241               FYN    O15117                 FYB1      1;2   \n",
       "10  P06241               FYN    O15117                 FYB1      1;2   \n",
       "11  P06241               FYN    O15117                 FYB1      1;3   \n",
       "12  P06241               FYN    O15117                 FYB1        1   \n",
       "13  P06241               FYN    O15117                 FYB1        3   \n",
       "14  P06241               FYN    O15117                 FYB1        3   \n",
       "15  P06241               FYN    O15117                 FYB1        3   \n",
       "16  P06241               FYN    O15117                 FYB1        3   \n",
       "17  P06241               FYN    O15117                 FYB1        3   \n",
       "18  P06241               FYN    O15117                 FYB1        3   \n",
       "19  P06241               FYN    O15117                 FYB1        3   \n",
       "\n",
       "   residue_type  residue_offset     modification  \\\n",
       "0             Y             204  phosphorylation   \n",
       "1             Y             221  phosphorylation   \n",
       "2             Y             707  phosphorylation   \n",
       "3             Y             651  phosphorylation   \n",
       "4             Y             595  phosphorylation   \n",
       "5             Y             697  phosphorylation   \n",
       "6             Y             625  phosphorylation   \n",
       "7             Y             571  phosphorylation   \n",
       "8             Y             771  phosphorylation   \n",
       "9             Y             559  phosphorylation   \n",
       "10            Y             755  phosphorylation   \n",
       "11            Y             757  phosphorylation   \n",
       "12            Y             780  phosphorylation   \n",
       "13            Y             569  phosphorylation   \n",
       "14            Y             581  phosphorylation   \n",
       "15            Y             605  phosphorylation   \n",
       "16            Y             707  phosphorylation   \n",
       "17            Y             811  phosphorylation   \n",
       "18            Y             813  phosphorylation   \n",
       "19            Y             827  phosphorylation   \n",
       "\n",
       "                                                                                                                                                                                            sources  \\\n",
       "0                                                                                KEA;MIMP;PhosphoNetworks;PhosphoSite;PhosphoSite_MIMP;PhosphoSite_ProtMapper;ProtMapper;phosphoELM;phosphoELM_MIMP   \n",
       "1                                                                                KEA;MIMP;PhosphoNetworks;PhosphoSite;PhosphoSite_MIMP;PhosphoSite_ProtMapper;ProtMapper;phosphoELM;phosphoELM_MIMP   \n",
       "2   BEL-Large-Corpus_ProtMapper;HPRD;HPRD_MIMP;KEA;MIMP;PhosphoSite;PhosphoSite_MIMP;PhosphoSite_ProtMapper;ProtMapper;RLIMS-P_ProtMapper;SIGNOR;SIGNOR_ProtMapper;dbPTM;phosphoELM;phosphoELM_MIMP   \n",
       "3                                                                                                        HPRD;KEA;PhosphoSite;PhosphoSite_ProtMapper;ProtMapper;SIGNOR;SIGNOR_ProtMapper;phosphoELM   \n",
       "4                                                                                        HPRD;KEA;PhosphoNetworks;PhosphoSite;PhosphoSite_ProtMapper;ProtMapper;SIGNOR;SIGNOR_ProtMapper;phosphoELM   \n",
       "5                                                                                                                                                                          HPRD;KEA;PhosphoNetworks   \n",
       "6                                                                                                                                                     PhosphoSite;PhosphoSite_ProtMapper;ProtMapper   \n",
       "7                                                                                                                                                     PhosphoSite;PhosphoSite_ProtMapper;ProtMapper   \n",
       "8                                                                                                                                                     PhosphoSite;PhosphoSite_ProtMapper;ProtMapper   \n",
       "9                                                                                                                                                     PhosphoSite;PhosphoSite_ProtMapper;ProtMapper   \n",
       "10                                                                                                                                                    PhosphoSite;PhosphoSite_ProtMapper;ProtMapper   \n",
       "11                                                                                                                                                    PhosphoSite;PhosphoSite_ProtMapper;ProtMapper   \n",
       "12                                                                                                                                                    PhosphoSite;PhosphoSite_ProtMapper;ProtMapper   \n",
       "13                                                                                                                                                                            MIMP;PhosphoSite_MIMP   \n",
       "14                                                                                                                                                  HPRD_MIMP;MIMP;PhosphoSite_MIMP;phosphoELM_MIMP   \n",
       "15                                                                                                                                                  HPRD_MIMP;MIMP;PhosphoSite_MIMP;phosphoELM_MIMP   \n",
       "16                                                                                                                                                  HPRD_MIMP;MIMP;PhosphoSite_MIMP;phosphoELM_MIMP   \n",
       "17                                                                                                                                                                  HPRD_MIMP;MIMP;PhosphoSite_MIMP   \n",
       "18                                                                                                                                                                  HPRD_MIMP;MIMP;PhosphoSite_MIMP   \n",
       "19                                                                                                                                                                            MIMP;PhosphoSite_MIMP   \n",
       "\n",
       "                                                                                                                              references  \\\n",
       "0                                                                                                       KEA:12783885;phosphoELM:12783885   \n",
       "1                                                                                          KEA:12783885;KEA:15173187;phosphoELM:15173187   \n",
       "2   HPRD:12808100;KEA:12808100;ProtMapper:12808100;ProtMapper:20211239;SIGNOR:12808100;dbPTM:12808100;dbPTM:18829466;phosphoELM:12808100   \n",
       "3                    HPRD:10570256;KEA:10409671;KEA:10570256;ProtMapper:10570256;SIGNOR:10570256;phosphoELM:10409671;phosphoELM:10570256   \n",
       "4                    HPRD:10570256;KEA:10409671;KEA:10570256;ProtMapper:10570256;SIGNOR:10570256;phosphoELM:10409671;phosphoELM:10570256   \n",
       "5                                                                                                HPRD:10570256;KEA:10409671;KEA:10570256   \n",
       "6                                                                                                                                    NaN   \n",
       "7                                                                                                                                    NaN   \n",
       "8                                                                                                                                    NaN   \n",
       "9                                                                                                                                    NaN   \n",
       "10                                                                                                                                   NaN   \n",
       "11                                                                                                                                   NaN   \n",
       "12                                                                                                                                   NaN   \n",
       "13                                                                                                                                   NaN   \n",
       "14                                                                                                                                   NaN   \n",
       "15                                                                                                                                   NaN   \n",
       "16                                                                                                                                   NaN   \n",
       "17                                                                                                                                   NaN   \n",
       "18                                                                                                                                   NaN   \n",
       "19                                                                                                                                   NaN   \n",
       "\n",
       "    curation_effort  ncbi_tax_id  \n",
       "0                 2         9606  \n",
       "1                 3         9606  \n",
       "2                 8         9606  \n",
       "3                 7         9606  \n",
       "4                 7         9606  \n",
       "5                 3         9606  \n",
       "6                 0         9606  \n",
       "7                 0         9606  \n",
       "8                 0         9606  \n",
       "9                 0         9606  \n",
       "10                0         9606  \n",
       "11                0         9606  \n",
       "12                0         9606  \n",
       "13                0         9606  \n",
       "14                0         9606  \n",
       "15                0         9606  \n",
       "16                0         9606  \n",
       "17                0         9606  \n",
       "18                0         9606  \n",
       "19                0         9606  "
      ]
     },
     "execution_count": 7,
     "metadata": {},
     "output_type": "execute_result"
    }
   ],
   "source": [
    "enzymePTM_df.head(20)"
   ]
  },
  {
   "cell_type": "code",
   "execution_count": 8,
   "metadata": {
    "scrolled": true
   },
   "outputs": [
    {
     "name": "stdout",
     "output_type": "stream",
     "text": [
      "<class 'pandas.core.frame.DataFrame'>\n",
      "RangeIndex: 93028 entries, 0 to 93027\n",
      "Data columns (total 12 columns):\n",
      " #   Column                Non-Null Count  Dtype \n",
      "---  ------                --------------  ----- \n",
      " 0   enzyme                93028 non-null  object\n",
      " 1   enzyme_genesymbol     93028 non-null  object\n",
      " 2   substrate             93028 non-null  object\n",
      " 3   substrate_genesymbol  93028 non-null  object\n",
      " 4   isoforms              93028 non-null  object\n",
      " 5   residue_type          93028 non-null  object\n",
      " 6   residue_offset        93028 non-null  int64 \n",
      " 7   modification          93028 non-null  object\n",
      " 8   sources               93028 non-null  object\n",
      " 9   references            60908 non-null  object\n",
      " 10  curation_effort       93028 non-null  int64 \n",
      " 11  ncbi_tax_id           93028 non-null  int64 \n",
      "dtypes: int64(3), object(9)\n",
      "memory usage: 8.5+ MB\n"
     ]
    }
   ],
   "source": [
    "enzymePTM_df.info()"
   ]
  },
  {
   "cell_type": "markdown",
   "metadata": {},
   "source": [
    "## Section 2. Metadata\n",
    "\n",
    "We are interested in having a table with the following information:\n",
    "\n",
    "\n",
    "- Column name.\n",
    "- Data Type.\n",
    "- A certain colum could contain null values.\n",
    "- Number of unique  values.\n",
    "\n",
    "That could be done using the next cell:"
   ]
  },
  {
   "cell_type": "markdown",
   "metadata": {},
   "source": [
    "### Section 2.1. Overview"
   ]
  },
  {
   "cell_type": "code",
   "execution_count": 29,
   "metadata": {},
   "outputs": [
    {
     "data": {
      "text/html": [
       "<div>\n",
       "<style scoped>\n",
       "    .dataframe tbody tr th:only-of-type {\n",
       "        vertical-align: middle;\n",
       "    }\n",
       "\n",
       "    .dataframe tbody tr th {\n",
       "        vertical-align: top;\n",
       "    }\n",
       "\n",
       "    .dataframe thead th {\n",
       "        text-align: right;\n",
       "    }\n",
       "</style>\n",
       "<table border=\"1\" class=\"dataframe\">\n",
       "  <thead>\n",
       "    <tr style=\"text-align: right;\">\n",
       "      <th></th>\n",
       "      <th>Column Name</th>\n",
       "      <th>Data Type</th>\n",
       "      <th>Nullable</th>\n",
       "      <th>Unique Values</th>\n",
       "    </tr>\n",
       "  </thead>\n",
       "  <tbody>\n",
       "    <tr>\n",
       "      <th>0</th>\n",
       "      <td>enzyme</td>\n",
       "      <td>object</td>\n",
       "      <td>False</td>\n",
       "      <td>4805</td>\n",
       "    </tr>\n",
       "    <tr>\n",
       "      <th>1</th>\n",
       "      <td>enzyme_genesymbol</td>\n",
       "      <td>object</td>\n",
       "      <td>False</td>\n",
       "      <td>3684</td>\n",
       "    </tr>\n",
       "    <tr>\n",
       "      <th>2</th>\n",
       "      <td>substrate</td>\n",
       "      <td>object</td>\n",
       "      <td>False</td>\n",
       "      <td>9408</td>\n",
       "    </tr>\n",
       "    <tr>\n",
       "      <th>3</th>\n",
       "      <td>substrate_genesymbol</td>\n",
       "      <td>object</td>\n",
       "      <td>False</td>\n",
       "      <td>7583</td>\n",
       "    </tr>\n",
       "    <tr>\n",
       "      <th>4</th>\n",
       "      <td>isoforms</td>\n",
       "      <td>object</td>\n",
       "      <td>False</td>\n",
       "      <td>416</td>\n",
       "    </tr>\n",
       "    <tr>\n",
       "      <th>5</th>\n",
       "      <td>residue_type</td>\n",
       "      <td>object</td>\n",
       "      <td>False</td>\n",
       "      <td>20</td>\n",
       "    </tr>\n",
       "    <tr>\n",
       "      <th>6</th>\n",
       "      <td>residue_offset</td>\n",
       "      <td>int64</td>\n",
       "      <td>False</td>\n",
       "      <td>2149</td>\n",
       "    </tr>\n",
       "    <tr>\n",
       "      <th>7</th>\n",
       "      <td>modification</td>\n",
       "      <td>object</td>\n",
       "      <td>False</td>\n",
       "      <td>27</td>\n",
       "    </tr>\n",
       "    <tr>\n",
       "      <th>8</th>\n",
       "      <td>sources</td>\n",
       "      <td>object</td>\n",
       "      <td>False</td>\n",
       "      <td>2078</td>\n",
       "    </tr>\n",
       "    <tr>\n",
       "      <th>9</th>\n",
       "      <td>references</td>\n",
       "      <td>object</td>\n",
       "      <td>True</td>\n",
       "      <td>16006</td>\n",
       "    </tr>\n",
       "    <tr>\n",
       "      <th>10</th>\n",
       "      <td>curation_effort</td>\n",
       "      <td>int64</td>\n",
       "      <td>False</td>\n",
       "      <td>76</td>\n",
       "    </tr>\n",
       "    <tr>\n",
       "      <th>11</th>\n",
       "      <td>ncbi_tax_id</td>\n",
       "      <td>int64</td>\n",
       "      <td>False</td>\n",
       "      <td>3</td>\n",
       "    </tr>\n",
       "  </tbody>\n",
       "</table>\n",
       "</div>"
      ],
      "text/plain": [
       "             Column Name Data Type  Nullable  Unique Values\n",
       "0                 enzyme    object     False           4805\n",
       "1      enzyme_genesymbol    object     False           3684\n",
       "2              substrate    object     False           9408\n",
       "3   substrate_genesymbol    object     False           7583\n",
       "4               isoforms    object     False            416\n",
       "5           residue_type    object     False             20\n",
       "6         residue_offset     int64     False           2149\n",
       "7           modification    object     False             27\n",
       "8                sources    object     False           2078\n",
       "9             references    object      True          16006\n",
       "10       curation_effort     int64     False             76\n",
       "11           ncbi_tax_id     int64     False              3"
      ]
     },
     "execution_count": 29,
     "metadata": {},
     "output_type": "execute_result"
    }
   ],
   "source": [
    "metadata = pd.DataFrame({\n",
    "    'Column Name': enzymePTM_df.columns,\n",
    "    'Data Type': enzymePTM_df.dtypes.values,\n",
    "    'Nullable': enzymePTM_df.isnull().any().values,\n",
    "    'Unique Values': [enzymePTM_df[col].nunique() for col in enzymePTM_df.columns]\n",
    "})\n",
    "\n",
    "metadata"
   ]
  },
  {
   "cell_type": "markdown",
   "metadata": {},
   "source": [
    "### Section 2.2. Unique values per column"
   ]
  },
  {
   "cell_type": "markdown",
   "metadata": {},
   "source": [
    "To know all the unique values in a certain column, just type the column's name in the variable *field*:"
   ]
  },
  {
   "cell_type": "code",
   "execution_count": 33,
   "metadata": {},
   "outputs": [
    {
     "name": "stdout",
     "output_type": "stream",
     "text": [
      "List of unique values in field: isoforms\n",
      "\t['1' '1;2;3;4' '1;2' '2' '1;2;3' '1;3' '3' '1;2;3;4;5;6;13'\n",
      " '1;2;3;4;5;6;7' '1;5' '1;3;4;5' '4' '2;4' '1;2;3;4;5;6;7;8;9;10;11;12'\n",
      " '4;9' '9' '12' '1;7;8;12' '1;2;5;6;7;8;12' '1;9' '1;2;5;6;7;8;10;12'\n",
      " '1;2;7;8;12' '1;2;5;7;8;12' '6' '5' '5;6' '3;4' '1;2;8;9;10' '3;6' '1;4'\n",
      " '1;2;3;7;8;9' '1;2;3;6' '1;2;3;4;5;6' '4;5' '1;2;4' '1;8;9' '5;8'\n",
      " '1;4;5;7;8;9' '3;5;8' '2;5;6;8' '4;5;7;8' '5;7;8' '1;2;3;5;6;8;9' '2;6'\n",
      " '2;3;6' '1;2;6;9' '5;6;8' '8' '1;5;8;9' '2;8' '1;6;9' '1;19' '1;8;19'\n",
      " '1;19;20' '1;2;8;9' '1;2;3;4;8;9;10;11;16' '1;2;7;8;9;19' '21'\n",
      " '3;4;5;10;11;14;21' '7;14;18' '14;18' '3;4;10;11;16' '7' '4;7;11;14;20'\n",
      " '1;2;3;8;9;10;19' '2;7;9' '4;6;11;14' '3;10' '4;11;14' '4;14;20'\n",
      " '1;4;8;14;19' '2;7;9;20;21' '4;14' '2;7' '2;4;7;14' '1;3;19' '1;3;5'\n",
      " '1;2;5' '2;5' '1;3;4;6' '5;7' '1;3;4' '2;11;17' '1;5;7' '3;6;7' '11;17'\n",
      " '1;2;3;4;5' '1;4;5' '1;2;4;5' '3;5' '1;6' '1;7' '1;7;8' '1;4;7' '4;8'\n",
      " '3;5;6' '1;3;6;7' '1;3;5;6;7' '1;2;5;7' '1;5;6' '1;2;3;5' '1;3;8' '1;8'\n",
      " '1;3;4;8' '1;5;8' '1;2;3;7;8' '1;9;11' '1;5;11' '11' '1;11' '1;3;6'\n",
      " '1;3;5;6' '2;3' '1;2;3;4;5;6;7;8;9;10' '1;2;3;4;5;6;7;8;9'\n",
      " '1;2;4;5;8;10;11;14;15;16;17;18;19' '7;8' '1;4;8;10' '10'\n",
      " '1;6;7;8;9;12;15' '4;6;8' '1;2;3;4;6' '5;6;7' '1;4;6' '3;5;7' '1;4;5;9'\n",
      " '8;9' '6;7' '1;2;8' '1;2;5;6' '1;2;5;6;7' '1;4;5;8;9;11;15;16'\n",
      " '2;3;6;7;10;12;13;14' '1;8;11' '15;16' '16' '13' '4;5;9;14' '3;6;12'\n",
      " '2;10' '6;7;10' '4;12' '1;9;10' '1;2;3;7' '2;4;5;7;8' '2;5;15;16;17;18'\n",
      " '1;4;8;10;11;12;14;19' '1;4;8;10;11;14;19' '1;3;4;10' '1;3;4;5;7'\n",
      " '1;3;10' '1;4;5;6' '2;3;4' '1;2;3;4;6;7' '1;2;3;4;5;6;7;8;11;12;16'\n",
      " '1;3;4;5;10;12' '1;2;5;7;8' '1;3;7' '1;8;16' '2;3;11' '1;8;16;22'\n",
      " '1;8;9;10;16;17' '1;2;3;4;5;8;9;10;11;12;13;14' '1;2;3;4;5;6;7;8' '3;4;5'\n",
      " '1;2;12' '9;10' '1;2;3;5;9' '1;6;7;8;15;16' '1;2;3;8;11;16' '1;2;5;9'\n",
      " '1;2;5;6;8;9' '1;2;3;5;6;7;8;9' '1;2;6;8' '1;3;4;6;7;8;9'\n",
      " '1;2;3;4;5;6;7;8;17;18;19;20;21;22;23;24' '1;2;3;4;5;6;11;13' '3;7'\n",
      " '1;2;9' '1;10' '1;2;3;4;5;6;7;8;9;11' '1;2;6' '3;4;5;6' '1;6;7' '2;4;6;7'\n",
      " '1;6;8' '1;7;8;10' '2;5;8' '3;4;7;8;9' '7;9' '2;3;4;10' '2;3;5;9' '3;9'\n",
      " '6;9' '1;7;8;9' '5;10' '4;6;7;9' '4;10' '2;8;9' '3;8' '4;9;10'\n",
      " '1;2;3;4;5;10' '1;2;3;4;5;8;10' '1;2;6;7' '1;3;5;7;8' '1;2;3;5;6;7;8'\n",
      " '1;3;4;5;6;7' '1;2;3;5;6;7;10' '1;2;3;4;5;6;7;8;11' '1;2;5;8' '1;2;7;8'\n",
      " '1;3;5;7;11' '1;2;4;10' '3;5;6;11' '1;2;3;4;5;8;9' '1;4;5;6;7;8'\n",
      " '1;2;3;4;5;6;7;8;9;10;11;12;13;14;15;16' '1;2;3;4;5;6;10;11;17'\n",
      " '1;2;3;4;5;6;7;9' '1;3;11;18' '9;10;12;15;16;20;21;22;23;25;29;37'\n",
      " '1;2;3;9;10;11' '1;2;3;11' '12;20;21;22;23;33;36;37'\n",
      " '6;7;12;20;21;22;23;30;33;36;37' '1;2;3;4;5;8;9;11;12' '1;2;3;4;7'\n",
      " '1;9;10;11' '1;3;9;10;11' '1;2;3;5;8;9' '1;2;3;5;8;9;13' '4;6;7'\n",
      " '1;2;3;4;5;6;7;8;10' '1;2;4;5;6' '2;4;5' '1;2;3;6;7;9' '1;3;5;7;9;11'\n",
      " '1;5;11;14' '1;2;3;4;6;7;8' '3;4;5;6;8' '1;3;4;5;6;8;9' '1;2;3;5;6'\n",
      " '1;2;3;6;9' '1;3;4;7' '1;3;4;9;10' '1;5;6;7' '1;8;10' '1;3;26;30'\n",
      " '1;2;7;19' '1;2;3;4;5;6;7;8;9;11;12' '2;4;6;8;12' '1;2;4;5;6;7;8;9'\n",
      " '1;4;11' '1;2;3;4;5;6;7;8;9;10;11' '1;2;3;4;6;7;9' '1;2;3;5;6;7'\n",
      " '1;2;4;8' '1;4;6;7;9' '1;2;3;4;5;6;10;11' '7;15;16' '3;11' '6;14'\n",
      " '4;5;13' '2;15;16;26;31;32' '25;30' '2;15;16;17;26;31;32' '22' '10;25;30'\n",
      " '7;14;23;28' '12;13;22;29' '7;14' '12;13;22'\n",
      " '2;12;13;15;16;19;22;26;31;32'\n",
      " '1;2;6;8;10;15;16;17;19;20;21;25;26;30;31;32' '11;12;13;22;25;30'\n",
      " '8;10;12;13;22;25;30' '12;13;22;25;28;30' '1;2;7'\n",
      " '1;2;3;4;6;8;9;10;11;13;21' '1;3;4;5;6' '1;2;3;4;5;7;8' '1;6;10'\n",
      " '1;6;7;10' '1;3;9' '6;7;12' '1;2;3;4;5;6;9' '7;11' '4;5;6;8' '1;8;12'\n",
      " '1;3;8;9;11;12' '1;3;4;5;6;8;9;10;11;12' '1;4;5;8;12' '1;4;5;8' '1;7;10'\n",
      " '15' '1;3;4;5;7;8' '1;2;5;6;7;8' '1;2;3;4;5;9' '2;4;6' '1;2;3;4;5;7'\n",
      " '1;4;5;8;9;11' '1;5;13' '1;2;3;4;5;6;8;9' '1;6;7;8;15;16;19;20;21'\n",
      " '1;5;6;7;8' '1;2;3;6;7;8' '2;4;8' '1;2;4;5;9' '1;4;6;10' '1;2;3;8'\n",
      " '1;2;3;4;5;6;8;10' '1;2;5;6;7;8;9;10;11;12;13' '1;2;6;10' '3;4;14'\n",
      " '1;2;3;4;5;6;8;9;10;12;13' '1;2;4;8;10' '2;4;6;8' '4;5;6;7'\n",
      " '1;2;3;4;5;6;7;8;9;10;11;12;13' '1;2;5;7;8;9;10;11;12;13;14'\n",
      " '1;2;3;7;8;12;13;15' '1;5;10' '2;3;5;6' '6;10' '1;2;3;4;6;9'\n",
      " '1;2;3;4;7;8;9;10' '3;16' '2;3;5' '4;6' '3;4;6' '1;6;7;8;9' '1;5;7;13'\n",
      " '1;4;5;11;13' '1;4;5;7;8' '1;2;3;4;5;6;8' '1;12' '1;3;4;5;6;10'\n",
      " '1;2;3;4;5;6;7;9;10' '1;2;4;6' '1;2;5;8;9;10;11;12;13;14' '1;4;5;9;11;13'\n",
      " '1;2;3;4;5;6;7;8;9;13' '1;2;6;7;11'\n",
      " '1;2;3;4;5;6;7;8;9;10;11;12;13;15;16;17;18;19;20;21;22;23;24;25;26;27;28;29;30;31;32;33;34;35;36'\n",
      " '1;3;4;5;6;7;10' '1;2;4;6;7;8;9;10;11' '10;12' '1;2;3;4;6;12'\n",
      " '1;5;9;11;14;16;17;20' '1;2;9;11;20;23'\n",
      " '1;2;3;4;5;6;7;8;9;10;11;12;13;14;15;19;20;21;22;23;24;25;26;27;29;30;31;32;33;36;37'\n",
      " '3;5;6;7;8;9;13' '1;4;5;8;9;11;13;14' '1;4;9;11;20'\n",
      " '1;2;3;4;5;6;7;8;25;27;28;31' '8;33;34;36' '2;3;4;6' '4;5;6'\n",
      " '1;2;3;4;6;7;8;9;10' '5;11;12' '1;2;3;6;7;8;9;10' '1;2;4;5;6;7'\n",
      " '1;2;4;5;6;7;8' '1;2;4;6;7' '7;9;11' '4;13' '1;3;8;9' '1;3;5;7' '2;3;4;5'\n",
      " '4;5;7' '1;4;5;6;7' '1;2;3;4;5;6;7;8;9;10;11;12;13;17;18;19' '17'\n",
      " '1;2;11' '4;5;6;13' '4;5;6;7;8;9;10;11;13;14' '5;7;9'\n",
      " '1;2;3;4;5;6;7;8;9;10;11;12;13;14;15;16;17;18;19'\n",
      " '1;2;3;4;5;6;7;8;9;10;11;12;13;15;17;18;19' '3;4;6;8' '5;11'\n",
      " '1;2;3;5;6;7;8;9;10;11' '4;5;11;12' '5;7;8;10;14' '1;2;3;5;6;8' '3;13'\n",
      " '3;4;9' '2;5;7;8' '5;6;7;8;9' '3;6;9' '1;2;3;4;6;8' '2;3;4;6;10' '14'\n",
      " '1;5;7;8;9' '5;9' '1;2;3;4;5;6;12' '2;5;6' '1;2;6;7;8' '2;3;4;8' '2;9'\n",
      " '1;2;3;4;5;6;7;8;12;13' '1;2;4;5;7' '2;5;6;7;8;9' '2;4;5;6;7' '11;15'\n",
      " '2;11' '4;10;11' '1;2;4;5;6;8' '1;3;7;8' '1;2;3;4;5;6;7;8;9;10;12'\n",
      " '1;3;4;7;8' '2;6;7' '2;6;8' '1;2;7;9' '1;3;5;7;8;9' '1;2;3;5;8']\n"
     ]
    }
   ],
   "source": [
    "field = \"isoforms\"\n",
    "\n",
    "print(\"List of unique values in field: {}\\n\\t{}\".format(field, enzymePTM_df[field].unique()))"
   ]
  },
  {
   "cell_type": "markdown",
   "metadata": {},
   "source": [
    "## Section 3. Free Exploratory Analysis\n",
    "\n",
    "In this section you can explore the data as you want, it means you can filter, select columns, counting values, etc. Feel free to explore as much you want."
   ]
  },
  {
   "cell_type": "code",
   "execution_count": null,
   "metadata": {},
   "outputs": [],
   "source": []
  },
  {
   "cell_type": "markdown",
   "metadata": {},
   "source": [
    "### Counting Null values"
   ]
  },
  {
   "cell_type": "code",
   "execution_count": 11,
   "metadata": {},
   "outputs": [
    {
     "data": {
      "text/plain": [
       "6        NaN\n",
       "7        NaN\n",
       "8        NaN\n",
       "9        NaN\n",
       "10       NaN\n",
       "        ... \n",
       "91829    NaN\n",
       "91884    NaN\n",
       "91909    NaN\n",
       "91913    NaN\n",
       "91917    NaN\n",
       "Name: references, Length: 32120, dtype: object"
      ]
     },
     "execution_count": 11,
     "metadata": {},
     "output_type": "execute_result"
    }
   ],
   "source": [
    "enzymePTM_df.references[enzymePTM_df['references'].isnull()]"
   ]
  },
  {
   "cell_type": "markdown",
   "metadata": {},
   "source": [
    "### Counting Null "
   ]
  },
  {
   "cell_type": "code",
   "execution_count": 12,
   "metadata": {},
   "outputs": [
    {
     "data": {
      "text/plain": [
       "np.int64(32120)"
      ]
     },
     "execution_count": 12,
     "metadata": {},
     "output_type": "execute_result"
    }
   ],
   "source": [
    "num_nulls_in_references = enzymePTM_df['references'].isnull().sum()\n",
    "num_nulls_in_references"
   ]
  },
  {
   "cell_type": "markdown",
   "metadata": {},
   "source": [
    "### Counting True values"
   ]
  },
  {
   "cell_type": "code",
   "execution_count": 13,
   "metadata": {},
   "outputs": [
    {
     "data": {
      "text/plain": [
       "np.int64(0)"
      ]
     },
     "execution_count": 13,
     "metadata": {},
     "output_type": "execute_result"
    }
   ],
   "source": [
    "num_True_in_references = (enzymePTM_df.references==True).sum()\n",
    "num_True_in_references"
   ]
  },
  {
   "cell_type": "markdown",
   "metadata": {},
   "source": [
    "### Counting \"True\" values"
   ]
  },
  {
   "cell_type": "code",
   "execution_count": 14,
   "metadata": {},
   "outputs": [
    {
     "data": {
      "text/plain": [
       "np.int64(0)"
      ]
     },
     "execution_count": 14,
     "metadata": {},
     "output_type": "execute_result"
    }
   ],
   "source": [
    "num_true_in_references = (enzymePTM_df.references==\"True\").sum()\n",
    "num_true_in_references"
   ]
  },
  {
   "cell_type": "markdown",
   "metadata": {},
   "source": [
    "### Counting 1 values"
   ]
  },
  {
   "cell_type": "code",
   "execution_count": 15,
   "metadata": {},
   "outputs": [
    {
     "data": {
      "text/plain": [
       "np.int64(0)"
      ]
     },
     "execution_count": 15,
     "metadata": {},
     "output_type": "execute_result"
    }
   ],
   "source": [
    "num_one_in_references = (enzymePTM_df.references==\"1\").sum()\n",
    "num_one_in_references"
   ]
  },
  {
   "cell_type": "markdown",
   "metadata": {},
   "source": [
    "### Counting False values"
   ]
  },
  {
   "cell_type": "code",
   "execution_count": 16,
   "metadata": {},
   "outputs": [
    {
     "data": {
      "text/plain": [
       "np.int64(0)"
      ]
     },
     "execution_count": 16,
     "metadata": {},
     "output_type": "execute_result"
    }
   ],
   "source": [
    "num_False_in_references= (enzymePTM_df.references==False).sum()\n",
    "num_False_in_references"
   ]
  },
  {
   "cell_type": "markdown",
   "metadata": {},
   "source": [
    "### Counting \"False\" values"
   ]
  },
  {
   "cell_type": "code",
   "execution_count": 17,
   "metadata": {},
   "outputs": [
    {
     "data": {
      "text/plain": [
       "np.int64(0)"
      ]
     },
     "execution_count": 17,
     "metadata": {},
     "output_type": "execute_result"
    }
   ],
   "source": [
    "num_false_in_references = (enzymePTM_df.references==\"False\").sum()\n",
    "num_false_in_references"
   ]
  },
  {
   "cell_type": "markdown",
   "metadata": {},
   "source": [
    "### Filtering"
   ]
  },
  {
   "cell_type": "code",
   "execution_count": 18,
   "metadata": {},
   "outputs": [
    {
     "data": {
      "text/html": [
       "<div>\n",
       "<style scoped>\n",
       "    .dataframe tbody tr th:only-of-type {\n",
       "        vertical-align: middle;\n",
       "    }\n",
       "\n",
       "    .dataframe tbody tr th {\n",
       "        vertical-align: top;\n",
       "    }\n",
       "\n",
       "    .dataframe thead th {\n",
       "        text-align: right;\n",
       "    }\n",
       "</style>\n",
       "<table border=\"1\" class=\"dataframe\">\n",
       "  <thead>\n",
       "    <tr style=\"text-align: right;\">\n",
       "      <th></th>\n",
       "      <th>enzyme</th>\n",
       "      <th>enzyme_genesymbol</th>\n",
       "      <th>substrate</th>\n",
       "      <th>substrate_genesymbol</th>\n",
       "      <th>isoforms</th>\n",
       "      <th>residue_type</th>\n",
       "      <th>residue_offset</th>\n",
       "      <th>modification</th>\n",
       "      <th>sources</th>\n",
       "      <th>references</th>\n",
       "      <th>curation_effort</th>\n",
       "      <th>ncbi_tax_id</th>\n",
       "    </tr>\n",
       "  </thead>\n",
       "  <tbody>\n",
       "    <tr>\n",
       "      <th>65530</th>\n",
       "      <td>O88697</td>\n",
       "      <td>Stk16</td>\n",
       "      <td>Q9D0N7</td>\n",
       "      <td>Chaf1b</td>\n",
       "      <td>1</td>\n",
       "      <td>S</td>\n",
       "      <td>422</td>\n",
       "      <td>phosphorylation</td>\n",
       "      <td>PhosphoNetworks</td>\n",
       "      <td>NaN</td>\n",
       "      <td>0</td>\n",
       "      <td>10090</td>\n",
       "    </tr>\n",
       "    <tr>\n",
       "      <th>65531</th>\n",
       "      <td>O88697</td>\n",
       "      <td>Stk16</td>\n",
       "      <td>Q9D0N7</td>\n",
       "      <td>Chaf1b</td>\n",
       "      <td>1</td>\n",
       "      <td>S</td>\n",
       "      <td>458</td>\n",
       "      <td>phosphorylation</td>\n",
       "      <td>PhosphoNetworks</td>\n",
       "      <td>NaN</td>\n",
       "      <td>0</td>\n",
       "      <td>10090</td>\n",
       "    </tr>\n",
       "  </tbody>\n",
       "</table>\n",
       "</div>"
      ],
      "text/plain": [
       "       enzyme enzyme_genesymbol substrate substrate_genesymbol isoforms  \\\n",
       "65530  O88697             Stk16    Q9D0N7               Chaf1b        1   \n",
       "65531  O88697             Stk16    Q9D0N7               Chaf1b        1   \n",
       "\n",
       "      residue_type  residue_offset     modification          sources  \\\n",
       "65530            S             422  phosphorylation  PhosphoNetworks   \n",
       "65531            S             458  phosphorylation  PhosphoNetworks   \n",
       "\n",
       "      references  curation_effort  ncbi_tax_id  \n",
       "65530        NaN                0        10090  \n",
       "65531        NaN                0        10090  "
      ]
     },
     "execution_count": 18,
     "metadata": {},
     "output_type": "execute_result"
    }
   ],
   "source": [
    "filtered = enzymePTM_df[(enzymePTM_df[\"substrate\"]==\"Q9D0N7\")]\n",
    "filtered"
   ]
  },
  {
   "cell_type": "code",
   "execution_count": 19,
   "metadata": {},
   "outputs": [
    {
     "data": {
      "text/html": [
       "<div>\n",
       "<style scoped>\n",
       "    .dataframe tbody tr th:only-of-type {\n",
       "        vertical-align: middle;\n",
       "    }\n",
       "\n",
       "    .dataframe tbody tr th {\n",
       "        vertical-align: top;\n",
       "    }\n",
       "\n",
       "    .dataframe thead th {\n",
       "        text-align: right;\n",
       "    }\n",
       "</style>\n",
       "<table border=\"1\" class=\"dataframe\">\n",
       "  <thead>\n",
       "    <tr style=\"text-align: right;\">\n",
       "      <th></th>\n",
       "      <th>enzyme</th>\n",
       "      <th>enzyme_genesymbol</th>\n",
       "      <th>substrate</th>\n",
       "      <th>substrate_genesymbol</th>\n",
       "      <th>isoforms</th>\n",
       "      <th>residue_type</th>\n",
       "      <th>residue_offset</th>\n",
       "      <th>modification</th>\n",
       "      <th>sources</th>\n",
       "      <th>references</th>\n",
       "      <th>curation_effort</th>\n",
       "      <th>ncbi_tax_id</th>\n",
       "    </tr>\n",
       "  </thead>\n",
       "  <tbody>\n",
       "    <tr>\n",
       "      <th>69040</th>\n",
       "      <td>P02340</td>\n",
       "      <td>Tp53</td>\n",
       "      <td>Q04207</td>\n",
       "      <td>Rela</td>\n",
       "      <td>2</td>\n",
       "      <td>S</td>\n",
       "      <td>538</td>\n",
       "      <td>phosphorylation</td>\n",
       "      <td>ProtMapper;Sparser_ProtMapper</td>\n",
       "      <td>ProtMapper:18477470</td>\n",
       "      <td>1</td>\n",
       "      <td>10090</td>\n",
       "    </tr>\n",
       "    <tr>\n",
       "      <th>69128</th>\n",
       "      <td>P02340</td>\n",
       "      <td>Tp53</td>\n",
       "      <td>P39689</td>\n",
       "      <td>Cdkn1a</td>\n",
       "      <td>1</td>\n",
       "      <td>S</td>\n",
       "      <td>148</td>\n",
       "      <td>phosphorylation</td>\n",
       "      <td>ProtMapper;Sparser_ProtMapper</td>\n",
       "      <td>ProtMapper:12897801</td>\n",
       "      <td>1</td>\n",
       "      <td>10090</td>\n",
       "    </tr>\n",
       "    <tr>\n",
       "      <th>69715</th>\n",
       "      <td>P02340</td>\n",
       "      <td>Tp53</td>\n",
       "      <td>P02340</td>\n",
       "      <td>Tp53</td>\n",
       "      <td>1</td>\n",
       "      <td>S</td>\n",
       "      <td>37</td>\n",
       "      <td>phosphorylation</td>\n",
       "      <td>ProtMapper;Sparser_ProtMapper</td>\n",
       "      <td>ProtMapper:20354524</td>\n",
       "      <td>1</td>\n",
       "      <td>10090</td>\n",
       "    </tr>\n",
       "    <tr>\n",
       "      <th>69767</th>\n",
       "      <td>P02340</td>\n",
       "      <td>Tp53</td>\n",
       "      <td>Q9Z265</td>\n",
       "      <td>Chek2</td>\n",
       "      <td>1</td>\n",
       "      <td>T</td>\n",
       "      <td>68</td>\n",
       "      <td>phosphorylation</td>\n",
       "      <td>ProtMapper;REACH_ProtMapper</td>\n",
       "      <td>ProtMapper:24553354</td>\n",
       "      <td>1</td>\n",
       "      <td>10090</td>\n",
       "    </tr>\n",
       "    <tr>\n",
       "      <th>69997</th>\n",
       "      <td>P02340</td>\n",
       "      <td>Tp53</td>\n",
       "      <td>Q9DBR7</td>\n",
       "      <td>Ppp1r12a</td>\n",
       "      <td>1;2</td>\n",
       "      <td>T</td>\n",
       "      <td>698</td>\n",
       "      <td>phosphorylation</td>\n",
       "      <td>ProtMapper;REACH_ProtMapper</td>\n",
       "      <td>ProtMapper:24343302</td>\n",
       "      <td>1</td>\n",
       "      <td>10090</td>\n",
       "    </tr>\n",
       "    <tr>\n",
       "      <th>70021</th>\n",
       "      <td>P02340</td>\n",
       "      <td>Tp53</td>\n",
       "      <td>P38532</td>\n",
       "      <td>Hsf1</td>\n",
       "      <td>1;2</td>\n",
       "      <td>S</td>\n",
       "      <td>326</td>\n",
       "      <td>phosphorylation</td>\n",
       "      <td>ProtMapper;Sparser_ProtMapper</td>\n",
       "      <td>ProtMapper:24763051</td>\n",
       "      <td>1</td>\n",
       "      <td>10090</td>\n",
       "    </tr>\n",
       "    <tr>\n",
       "      <th>70187</th>\n",
       "      <td>P02340</td>\n",
       "      <td>Tp53</td>\n",
       "      <td>P27661</td>\n",
       "      <td>H2ax</td>\n",
       "      <td>1</td>\n",
       "      <td>S</td>\n",
       "      <td>140</td>\n",
       "      <td>phosphorylation</td>\n",
       "      <td>ProtMapper;REACH_ProtMapper</td>\n",
       "      <td>ProtMapper:24413150</td>\n",
       "      <td>1</td>\n",
       "      <td>10090</td>\n",
       "    </tr>\n",
       "    <tr>\n",
       "      <th>70303</th>\n",
       "      <td>P02340</td>\n",
       "      <td>Tp53</td>\n",
       "      <td>Q62193</td>\n",
       "      <td>Rpa2</td>\n",
       "      <td>1</td>\n",
       "      <td>S</td>\n",
       "      <td>33</td>\n",
       "      <td>phosphorylation</td>\n",
       "      <td>ProtMapper;REACH_ProtMapper</td>\n",
       "      <td>ProtMapper:29874588</td>\n",
       "      <td>1</td>\n",
       "      <td>10090</td>\n",
       "    </tr>\n",
       "    <tr>\n",
       "      <th>70677</th>\n",
       "      <td>P02340</td>\n",
       "      <td>Tp53</td>\n",
       "      <td>O35280</td>\n",
       "      <td>Chek1</td>\n",
       "      <td>1</td>\n",
       "      <td>S</td>\n",
       "      <td>317</td>\n",
       "      <td>phosphorylation</td>\n",
       "      <td>ProtMapper;REACH_ProtMapper</td>\n",
       "      <td>ProtMapper:29874588</td>\n",
       "      <td>1</td>\n",
       "      <td>10090</td>\n",
       "    </tr>\n",
       "    <tr>\n",
       "      <th>70678</th>\n",
       "      <td>P02340</td>\n",
       "      <td>Tp53</td>\n",
       "      <td>O35280</td>\n",
       "      <td>Chek1</td>\n",
       "      <td>1</td>\n",
       "      <td>S</td>\n",
       "      <td>345</td>\n",
       "      <td>phosphorylation</td>\n",
       "      <td>ProtMapper;REACH_ProtMapper</td>\n",
       "      <td>ProtMapper:20840867</td>\n",
       "      <td>1</td>\n",
       "      <td>10090</td>\n",
       "    </tr>\n",
       "    <tr>\n",
       "      <th>72208</th>\n",
       "      <td>P02340</td>\n",
       "      <td>Tp53</td>\n",
       "      <td>Q60751</td>\n",
       "      <td>Igf1r</td>\n",
       "      <td>1</td>\n",
       "      <td>Y</td>\n",
       "      <td>1163</td>\n",
       "      <td>phosphorylation</td>\n",
       "      <td>BEL-Large-Corpus_ProtMapper;ProtMapper</td>\n",
       "      <td>ProtMapper:19738076</td>\n",
       "      <td>1</td>\n",
       "      <td>10090</td>\n",
       "    </tr>\n",
       "    <tr>\n",
       "      <th>72543</th>\n",
       "      <td>P02340</td>\n",
       "      <td>Tp53</td>\n",
       "      <td>P52480</td>\n",
       "      <td>Pkm</td>\n",
       "      <td>1;2</td>\n",
       "      <td>Y</td>\n",
       "      <td>105</td>\n",
       "      <td>phosphorylation</td>\n",
       "      <td>ProtMapper;REACH_ProtMapper</td>\n",
       "      <td>ProtMapper:27385486</td>\n",
       "      <td>1</td>\n",
       "      <td>10090</td>\n",
       "    </tr>\n",
       "    <tr>\n",
       "      <th>72644</th>\n",
       "      <td>P02340</td>\n",
       "      <td>Tp53</td>\n",
       "      <td>Q9WVH4</td>\n",
       "      <td>Foxo3</td>\n",
       "      <td>1</td>\n",
       "      <td>S</td>\n",
       "      <td>320</td>\n",
       "      <td>phosphorylation</td>\n",
       "      <td>ProtMapper;RLIMS-P_ProtMapper</td>\n",
       "      <td>ProtMapper:24864229</td>\n",
       "      <td>1</td>\n",
       "      <td>10090</td>\n",
       "    </tr>\n",
       "    <tr>\n",
       "      <th>72961</th>\n",
       "      <td>P02340</td>\n",
       "      <td>Tp53</td>\n",
       "      <td>Q9QZR5</td>\n",
       "      <td>Hipk2</td>\n",
       "      <td>1;2</td>\n",
       "      <td>S</td>\n",
       "      <td>46</td>\n",
       "      <td>phosphorylation</td>\n",
       "      <td>ProtMapper;RLIMS-P_ProtMapper</td>\n",
       "      <td>ProtMapper:27901482</td>\n",
       "      <td>1</td>\n",
       "      <td>10090</td>\n",
       "    </tr>\n",
       "    <tr>\n",
       "      <th>73226</th>\n",
       "      <td>P02340</td>\n",
       "      <td>Tp53</td>\n",
       "      <td>Q05816</td>\n",
       "      <td>Fabp5</td>\n",
       "      <td>1</td>\n",
       "      <td>S</td>\n",
       "      <td>16</td>\n",
       "      <td>phosphorylation</td>\n",
       "      <td>ProtMapper;Sparser_ProtMapper</td>\n",
       "      <td>ProtMapper:27047747</td>\n",
       "      <td>1</td>\n",
       "      <td>10090</td>\n",
       "    </tr>\n",
       "  </tbody>\n",
       "</table>\n",
       "</div>"
      ],
      "text/plain": [
       "       enzyme enzyme_genesymbol substrate substrate_genesymbol isoforms  \\\n",
       "69040  P02340              Tp53    Q04207                 Rela        2   \n",
       "69128  P02340              Tp53    P39689               Cdkn1a        1   \n",
       "69715  P02340              Tp53    P02340                 Tp53        1   \n",
       "69767  P02340              Tp53    Q9Z265                Chek2        1   \n",
       "69997  P02340              Tp53    Q9DBR7             Ppp1r12a      1;2   \n",
       "70021  P02340              Tp53    P38532                 Hsf1      1;2   \n",
       "70187  P02340              Tp53    P27661                 H2ax        1   \n",
       "70303  P02340              Tp53    Q62193                 Rpa2        1   \n",
       "70677  P02340              Tp53    O35280                Chek1        1   \n",
       "70678  P02340              Tp53    O35280                Chek1        1   \n",
       "72208  P02340              Tp53    Q60751                Igf1r        1   \n",
       "72543  P02340              Tp53    P52480                  Pkm      1;2   \n",
       "72644  P02340              Tp53    Q9WVH4                Foxo3        1   \n",
       "72961  P02340              Tp53    Q9QZR5                Hipk2      1;2   \n",
       "73226  P02340              Tp53    Q05816                Fabp5        1   \n",
       "\n",
       "      residue_type  residue_offset     modification  \\\n",
       "69040            S             538  phosphorylation   \n",
       "69128            S             148  phosphorylation   \n",
       "69715            S              37  phosphorylation   \n",
       "69767            T              68  phosphorylation   \n",
       "69997            T             698  phosphorylation   \n",
       "70021            S             326  phosphorylation   \n",
       "70187            S             140  phosphorylation   \n",
       "70303            S              33  phosphorylation   \n",
       "70677            S             317  phosphorylation   \n",
       "70678            S             345  phosphorylation   \n",
       "72208            Y            1163  phosphorylation   \n",
       "72543            Y             105  phosphorylation   \n",
       "72644            S             320  phosphorylation   \n",
       "72961            S              46  phosphorylation   \n",
       "73226            S              16  phosphorylation   \n",
       "\n",
       "                                      sources           references  \\\n",
       "69040           ProtMapper;Sparser_ProtMapper  ProtMapper:18477470   \n",
       "69128           ProtMapper;Sparser_ProtMapper  ProtMapper:12897801   \n",
       "69715           ProtMapper;Sparser_ProtMapper  ProtMapper:20354524   \n",
       "69767             ProtMapper;REACH_ProtMapper  ProtMapper:24553354   \n",
       "69997             ProtMapper;REACH_ProtMapper  ProtMapper:24343302   \n",
       "70021           ProtMapper;Sparser_ProtMapper  ProtMapper:24763051   \n",
       "70187             ProtMapper;REACH_ProtMapper  ProtMapper:24413150   \n",
       "70303             ProtMapper;REACH_ProtMapper  ProtMapper:29874588   \n",
       "70677             ProtMapper;REACH_ProtMapper  ProtMapper:29874588   \n",
       "70678             ProtMapper;REACH_ProtMapper  ProtMapper:20840867   \n",
       "72208  BEL-Large-Corpus_ProtMapper;ProtMapper  ProtMapper:19738076   \n",
       "72543             ProtMapper;REACH_ProtMapper  ProtMapper:27385486   \n",
       "72644           ProtMapper;RLIMS-P_ProtMapper  ProtMapper:24864229   \n",
       "72961           ProtMapper;RLIMS-P_ProtMapper  ProtMapper:27901482   \n",
       "73226           ProtMapper;Sparser_ProtMapper  ProtMapper:27047747   \n",
       "\n",
       "       curation_effort  ncbi_tax_id  \n",
       "69040                1        10090  \n",
       "69128                1        10090  \n",
       "69715                1        10090  \n",
       "69767                1        10090  \n",
       "69997                1        10090  \n",
       "70021                1        10090  \n",
       "70187                1        10090  \n",
       "70303                1        10090  \n",
       "70677                1        10090  \n",
       "70678                1        10090  \n",
       "72208                1        10090  \n",
       "72543                1        10090  \n",
       "72644                1        10090  \n",
       "72961                1        10090  \n",
       "73226                1        10090  "
      ]
     },
     "execution_count": 19,
     "metadata": {},
     "output_type": "execute_result"
    }
   ],
   "source": [
    "filtered = enzymePTM_df[(enzymePTM_df[\"enzyme\"]==\"P02340\")]\n",
    "filtered"
   ]
  },
  {
   "cell_type": "code",
   "execution_count": 20,
   "metadata": {},
   "outputs": [
    {
     "data": {
      "text/html": [
       "<div>\n",
       "<style scoped>\n",
       "    .dataframe tbody tr th:only-of-type {\n",
       "        vertical-align: middle;\n",
       "    }\n",
       "\n",
       "    .dataframe tbody tr th {\n",
       "        vertical-align: top;\n",
       "    }\n",
       "\n",
       "    .dataframe thead th {\n",
       "        text-align: right;\n",
       "    }\n",
       "</style>\n",
       "<table border=\"1\" class=\"dataframe\">\n",
       "  <thead>\n",
       "    <tr style=\"text-align: right;\">\n",
       "      <th></th>\n",
       "      <th>enzyme</th>\n",
       "      <th>enzyme_genesymbol</th>\n",
       "      <th>substrate</th>\n",
       "      <th>substrate_genesymbol</th>\n",
       "      <th>isoforms</th>\n",
       "      <th>residue_type</th>\n",
       "      <th>residue_offset</th>\n",
       "      <th>modification</th>\n",
       "      <th>sources</th>\n",
       "      <th>references</th>\n",
       "      <th>curation_effort</th>\n",
       "      <th>ncbi_tax_id</th>\n",
       "    </tr>\n",
       "  </thead>\n",
       "  <tbody>\n",
       "    <tr>\n",
       "      <th>65530</th>\n",
       "      <td>O88697</td>\n",
       "      <td>Stk16</td>\n",
       "      <td>Q9D0N7</td>\n",
       "      <td>Chaf1b</td>\n",
       "      <td>1</td>\n",
       "      <td>S</td>\n",
       "      <td>422</td>\n",
       "      <td>phosphorylation</td>\n",
       "      <td>PhosphoNetworks</td>\n",
       "      <td>NaN</td>\n",
       "      <td>0</td>\n",
       "      <td>10090</td>\n",
       "    </tr>\n",
       "    <tr>\n",
       "      <th>65531</th>\n",
       "      <td>O88697</td>\n",
       "      <td>Stk16</td>\n",
       "      <td>Q9D0N7</td>\n",
       "      <td>Chaf1b</td>\n",
       "      <td>1</td>\n",
       "      <td>S</td>\n",
       "      <td>458</td>\n",
       "      <td>phosphorylation</td>\n",
       "      <td>PhosphoNetworks</td>\n",
       "      <td>NaN</td>\n",
       "      <td>0</td>\n",
       "      <td>10090</td>\n",
       "    </tr>\n",
       "  </tbody>\n",
       "</table>\n",
       "</div>"
      ],
      "text/plain": [
       "       enzyme enzyme_genesymbol substrate substrate_genesymbol isoforms  \\\n",
       "65530  O88697             Stk16    Q9D0N7               Chaf1b        1   \n",
       "65531  O88697             Stk16    Q9D0N7               Chaf1b        1   \n",
       "\n",
       "      residue_type  residue_offset     modification          sources  \\\n",
       "65530            S             422  phosphorylation  PhosphoNetworks   \n",
       "65531            S             458  phosphorylation  PhosphoNetworks   \n",
       "\n",
       "      references  curation_effort  ncbi_tax_id  \n",
       "65530        NaN                0        10090  \n",
       "65531        NaN                0        10090  "
      ]
     },
     "execution_count": 20,
     "metadata": {},
     "output_type": "execute_result"
    }
   ],
   "source": [
    "filtered = enzymePTM_df[(enzymePTM_df[\"substrate\"]==\"Q9D0N7\")]\n",
    "filtered"
   ]
  },
  {
   "cell_type": "code",
   "execution_count": 27,
   "metadata": {},
   "outputs": [
    {
     "data": {
      "text/plain": [
       "np.int64(93028)"
      ]
     },
     "execution_count": 27,
     "metadata": {},
     "output_type": "execute_result"
    }
   ],
   "source": [
    "count_enzymes = enzymePTM_df[\"enzyme\"].count()\n",
    "count_enzymes"
   ]
  },
  {
   "cell_type": "code",
   "execution_count": null,
   "metadata": {},
   "outputs": [],
   "source": []
  },
  {
   "cell_type": "code",
   "execution_count": 26,
   "metadata": {},
   "outputs": [
    {
     "data": {
      "text/plain": [
       "np.int64(93028)"
      ]
     },
     "execution_count": 26,
     "metadata": {},
     "output_type": "execute_result"
    }
   ],
   "source": [
    "count_substrate = enzymePTM_df[\"substrate\"].count()\n",
    "count_substrate"
   ]
  },
  {
   "cell_type": "code",
   "execution_count": 28,
   "metadata": {},
   "outputs": [
    {
     "data": {
      "text/plain": [
       "186056"
      ]
     },
     "execution_count": 28,
     "metadata": {},
     "output_type": "execute_result"
    }
   ],
   "source": [
    "93028*2"
   ]
  },
  {
   "cell_type": "code",
   "execution_count": 25,
   "metadata": {},
   "outputs": [
    {
     "data": {
      "text/plain": [
       "(93028, 12)"
      ]
     },
     "execution_count": 25,
     "metadata": {},
     "output_type": "execute_result"
    }
   ],
   "source": [
    "enzymePTM_df.shape"
   ]
  },
  {
   "cell_type": "markdown",
   "metadata": {},
   "source": [
    "## Section 4. Load the dataset with predefined data types."
   ]
  },
  {
   "cell_type": "code",
   "execution_count": null,
   "metadata": {},
   "outputs": [],
   "source": []
  },
  {
   "cell_type": "code",
   "execution_count": null,
   "metadata": {},
   "outputs": [],
   "source": []
  },
  {
   "cell_type": "code",
   "execution_count": null,
   "metadata": {},
   "outputs": [],
   "source": []
  }
 ],
 "metadata": {
  "kernelspec": {
   "display_name": "Python 3 (ipykernel)",
   "language": "python",
   "name": "python3"
  },
  "language_info": {
   "codemirror_mode": {
    "name": "ipython",
    "version": 3
   },
   "file_extension": ".py",
   "mimetype": "text/x-python",
   "name": "python",
   "nbconvert_exporter": "python",
   "pygments_lexer": "ipython3",
   "version": "3.12.4"
  }
 },
 "nbformat": 4,
 "nbformat_minor": 4
}
