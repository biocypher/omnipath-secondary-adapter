{
 "cells": [
  {
   "cell_type": "markdown",
   "metadata": {},
   "source": [
    "# Exploratory Data Analysis: Intercell Dataframe (from Omnipath database)"
   ]
  },
  {
   "cell_type": "markdown",
   "metadata": {},
   "source": [
    "[//]: # (------------------------------------------    DO NOT MODIFY THIS    ------------------------------------------)\n",
    "<style type=\"text/css\">\n",
    ".tg  {border-collapse:collapse;\n",
    "      border-spacing:0;\n",
    "     }\n",
    ".tg td{border-color:black;\n",
    "       border-style:solid;\n",
    "       border-width:1px;\n",
    "       font-family:Arial, sans-serif;\n",
    "       font-size:14px;\n",
    "       overflow:hidden;\n",
    "       padding:10px 5px;\n",
    "       word-break:normal;\n",
    "      }\n",
    ".tg th{border-color:black;\n",
    "       border-style:solid;\n",
    "       border-width:1px;\n",
    "       font-family:Arial, sans-serif;\n",
    "       font-size:14px;\n",
    "       font-weight:normal;\n",
    "       overflow:hidden;\n",
    "       padding:10px 5px;\n",
    "       word-break:normal;\n",
    "      }\n",
    ".tg .tg-fymr{border-color:inherit;\n",
    "             font-weight:bold;\n",
    "             text-align:left;\n",
    "             vertical-align:top\n",
    "            }\n",
    ".tg .tg-0pky{border-color:inherit;\n",
    "             text-align:left;\n",
    "             vertical-align:top\n",
    "            }\n",
    "[//]: # (--------------------------------------------------------------------------------------------------------------)\n",
    "\n",
    "[//]: # (-------------------------------------    FILL THIS OUT WITH YOUR DATA    -------------------------------------)\n",
    "</style>\n",
    "<table class=\"tg\">\n",
    "    <tbody>\n",
    "      <tr>\n",
    "        <td class=\"tg-fymr\" style=\"font-weight: bold\">Title:</td>\n",
    "        <td class=\"tg-0pky\">Exploratory Data Analysis: Intercell Dataframe (from Omnipath database)</td>\n",
    "      </tr>\n",
    "      <tr>\n",
    "        <td class=\"tg-fymr\" style=\"font-weight: bold\">Authors:</td>\n",
    "        <td class=\"tg-0pky\">\n",
    "            <a href=\"https://github.com/ecarrenolozano\" target=\"_blank\" rel=\"noopener noreferrer\">Edwin Carreño</a>\n",
    "        </td>\n",
    "      </tr>\n",
    "      <tr>\n",
    "        <td class=\"tg-fymr\" style=\"font-weight: bold\">Affiliations:</td>\n",
    "        <td class=\"tg-0pky\">\n",
    "            <a href=\"https://www.ssc.uni-heidelberg.de/en\" target=\"_blank\" rel=\"noopener noreferrer\">Scientific Software Center</a>,\n",
    "            <a href=\"https://saezlab.org/\" target=\"_blank\" rel=\"noopener noreferrer\">Saez-Rodriguez Group</a>\n",
    "        </td>\n",
    "      </tr>\n",
    "      <tr>\n",
    "        <td class=\"tg-fymr\" style=\"font-weight: bold\">Date Created:</td>\n",
    "        <td class=\"tg-0pky\">22.04.2025</td>\n",
    "      </tr>\n",
    "      <tr>\n",
    "        <td class=\"tg-fymr\" style=\"font-weight: bold\">Description:</td>\n",
    "        <td class=\"tg-0pky\">Extraction of metadata for building database tables </td>\n",
    "      </tr>\n",
    "    </tbody>\n",
    "</table>\n",
    "\n",
    "[//]: # (--------------------------------------------------------------------------------------------------------------)"
   ]
  },
  {
   "cell_type": "markdown",
   "metadata": {},
   "source": [
    "## Overview\n",
    "\n",
    "This notebook should help to understand the information contained in the \"Complexes\" dataset from the Omnipath database."
   ]
  },
  {
   "cell_type": "markdown",
   "metadata": {},
   "source": [
    "## Setup (if required)\n",
    "\n",
    "If your code require to install dependencies before your main code, please add the commands to install the dependencies."
   ]
  },
  {
   "cell_type": "markdown",
   "metadata": {},
   "source": [
    "### Pandas installation"
   ]
  },
  {
   "cell_type": "code",
   "execution_count": 2,
   "metadata": {},
   "outputs": [
    {
     "name": "stdout",
     "output_type": "stream",
     "text": [
      "Note: you may need to restart the kernel to use updated packages.\n"
     ]
    }
   ],
   "source": [
    "%pip install pandas -q"
   ]
  },
  {
   "cell_type": "markdown",
   "metadata": {
    "vscode": {
     "languageId": "plaintext"
    }
   },
   "source": [
    "## Importing Libraries\n",
    "\n",
    "Recommendations:\n",
    "\n",
    "- Respect the order of the imports, they are indicated by the numbers *1, 2, 3*.\n",
    "- One import per line is recommended, with this we can track easily any modified line when we use git.\n",
    "- Absolute imports are recommended (see *3. Local application/library specific imports* below), they improve readability and give better error messages.\n",
    "- You should put a blank line between each group of imports."
   ]
  },
  {
   "cell_type": "code",
   "execution_count": 1,
   "metadata": {},
   "outputs": [],
   "source": [
    "# 1. Standard library imports\n",
    "import os\n",
    "\n",
    "# 2. Related third party imports\n",
    "import numpy as np\n",
    "import pandas as pd\n",
    "\n",
    "# 3. Local application/library specific imports\n",
    "# import <mypackage>.<MyClass>         # this is an example\n",
    "# from <mypackage> import <MyClass>    # this is another example "
   ]
  },
  {
   "cell_type": "markdown",
   "metadata": {
    "jp-MarkdownHeadingCollapsed": true
   },
   "source": [
    "## Introduction\n",
    "\n",
    "TO DO\n"
   ]
  },
  {
   "cell_type": "markdown",
   "metadata": {},
   "source": [
    "## Section 1. Load \"Networks\" dataset"
   ]
  },
  {
   "cell_type": "markdown",
   "metadata": {},
   "source": [
    "### Section 1.1. Setting dataset path"
   ]
  },
  {
   "cell_type": "code",
   "execution_count": 6,
   "metadata": {},
   "outputs": [],
   "source": [
    "dataset_path_complexes = os.path.join(\"../data/omnipath_complexes/omnipath_webservice_complexes__latest.tsv.gz\")"
   ]
  },
  {
   "cell_type": "code",
   "execution_count": 7,
   "metadata": {},
   "outputs": [
    {
     "name": "stdout",
     "output_type": "stream",
     "text": [
      "This file exist? True\n"
     ]
    }
   ],
   "source": [
    "print(\"This file exist? {}\".format(os.path.exists(dataset_path_complex)))"
   ]
  },
  {
   "cell_type": "markdown",
   "metadata": {},
   "source": [
    "### Section 1.2. Load dataset as Pandas DataFrame"
   ]
  },
  {
   "cell_type": "markdown",
   "metadata": {},
   "source": [
    "#### Configuring Pandas view"
   ]
  },
  {
   "cell_type": "code",
   "execution_count": 8,
   "metadata": {},
   "outputs": [],
   "source": [
    "pd.set_option('display.max_colwidth', None)\n",
    "pd.set_option('display.max_columns', None)  "
   ]
  },
  {
   "cell_type": "markdown",
   "metadata": {},
   "source": [
    "#### Load data into Pandas Dataframe (without predefined data types)\n",
    "\n",
    "By default the option *keep_default_na* is True, it means that Pandas will interpret empty values or null values as NaN values."
   ]
  },
  {
   "cell_type": "code",
   "execution_count": null,
   "metadata": {},
   "outputs": [],
   "source": [
    "complexes_df = pd.read_table(dataset_path_complexes, sep=\"\\t\", keep_default_na=True)"
   ]
  },
  {
   "cell_type": "code",
   "execution_count": null,
   "metadata": {},
   "outputs": [
    {
     "data": {
      "text/html": [
       "<div>\n",
       "<style scoped>\n",
       "    .dataframe tbody tr th:only-of-type {\n",
       "        vertical-align: middle;\n",
       "    }\n",
       "\n",
       "    .dataframe tbody tr th {\n",
       "        vertical-align: top;\n",
       "    }\n",
       "\n",
       "    .dataframe thead th {\n",
       "        text-align: right;\n",
       "    }\n",
       "</style>\n",
       "<table border=\"1\" class=\"dataframe\">\n",
       "  <thead>\n",
       "    <tr style=\"text-align: right;\">\n",
       "      <th></th>\n",
       "      <th>name</th>\n",
       "      <th>components</th>\n",
       "      <th>components_genesymbols</th>\n",
       "      <th>stoichiometry</th>\n",
       "      <th>sources</th>\n",
       "      <th>references</th>\n",
       "      <th>identifiers</th>\n",
       "    </tr>\n",
       "  </thead>\n",
       "  <tbody>\n",
       "    <tr>\n",
       "      <th>0</th>\n",
       "      <td>NFY</td>\n",
       "      <td>P23511_P25208_Q13952</td>\n",
       "      <td>NFYA_NFYB_NFYC</td>\n",
       "      <td>1:1:1</td>\n",
       "      <td>SPIKE;Compleat;CORUM;hu.MAP2;hu.MAP;ComplexPortal;PDB;SIGNOR</td>\n",
       "      <td>9372932;14755292;15243141</td>\n",
       "      <td>SIGNOR:SIGNOR-C1;CORUM:4478;Compleat:HC1449;intact:EBI-6672597;PDB:6qms;PDB:4awl;PDB:6qmq;PDB:6qmp</td>\n",
       "    </tr>\n",
       "    <tr>\n",
       "      <th>1</th>\n",
       "      <td>mTORC2</td>\n",
       "      <td>P42345_P68104_P85299_Q6R327_Q8TB45_Q9BVC4</td>\n",
       "      <td>DEPTOR_EEF1A1_MLST8_MTOR_PRR5_RICTOR</td>\n",
       "      <td>0:0:0:0:0:0</td>\n",
       "      <td>SIGNOR</td>\n",
       "      <td>NaN</td>\n",
       "      <td>SIGNOR:SIGNOR-C2</td>\n",
       "    </tr>\n",
       "    <tr>\n",
       "      <th>2</th>\n",
       "      <td>mTORC1</td>\n",
       "      <td>P42345_Q8N122_Q8TB45_Q96B36_Q9BVC4</td>\n",
       "      <td>AKT1S1_DEPTOR_MLST8_MTOR_RPTOR</td>\n",
       "      <td>0:0:0:0:0</td>\n",
       "      <td>SIGNOR</td>\n",
       "      <td>NaN</td>\n",
       "      <td>SIGNOR:SIGNOR-C3</td>\n",
       "    </tr>\n",
       "    <tr>\n",
       "      <th>3</th>\n",
       "      <td>SCF-betaTRCP</td>\n",
       "      <td>P63208_Q13616_Q9Y297</td>\n",
       "      <td>BTRC_CUL1_SKP1</td>\n",
       "      <td>1:1:1</td>\n",
       "      <td>SPIKE;Compleat;CORUM;SIGNOR</td>\n",
       "      <td>9990852</td>\n",
       "      <td>SIGNOR:SIGNOR-C5;CORUM:227;Compleat:HC757</td>\n",
       "    </tr>\n",
       "    <tr>\n",
       "      <th>4</th>\n",
       "      <td>CBP/p300</td>\n",
       "      <td>Q09472_Q92793</td>\n",
       "      <td>CREBBP_EP300</td>\n",
       "      <td>0:0</td>\n",
       "      <td>SIGNOR</td>\n",
       "      <td>NaN</td>\n",
       "      <td>SIGNOR:SIGNOR-C6</td>\n",
       "    </tr>\n",
       "    <tr>\n",
       "      <th>5</th>\n",
       "      <td>P300/PCAF</td>\n",
       "      <td>Q09472_Q92793_Q92831</td>\n",
       "      <td>CREBBP_EP300_KAT2B</td>\n",
       "      <td>0:0:0</td>\n",
       "      <td>SIGNOR</td>\n",
       "      <td>NaN</td>\n",
       "      <td>SIGNOR:SIGNOR-C7</td>\n",
       "    </tr>\n",
       "    <tr>\n",
       "      <th>6</th>\n",
       "      <td>SMAD2/SMAD4</td>\n",
       "      <td>Q13485_Q15796</td>\n",
       "      <td>SMAD2_SMAD4</td>\n",
       "      <td>1:2</td>\n",
       "      <td>ComplexPortal;PDB;SIGNOR</td>\n",
       "      <td>12923550;4065410;8061611;16322555;14755292</td>\n",
       "      <td>SIGNOR:SIGNOR-C8;intact:EBI-9692430;reactome:R-HSA-206827;PDB:1u7v</td>\n",
       "    </tr>\n",
       "    <tr>\n",
       "      <th>7</th>\n",
       "      <td>SMAD3/SMAD4</td>\n",
       "      <td>P84022_Q13485</td>\n",
       "      <td>SMAD3_SMAD4</td>\n",
       "      <td>2:1</td>\n",
       "      <td>ComplexPortal;PDB;SIGNOR</td>\n",
       "      <td>12923550;4065410;8061611;16322555;14755292</td>\n",
       "      <td>SIGNOR:SIGNOR-C9;intact:EBI-9826300;PDB:1u7f;PDB:1U7F</td>\n",
       "    </tr>\n",
       "    <tr>\n",
       "      <th>8</th>\n",
       "      <td>SMAD4/JUN</td>\n",
       "      <td>P05412_Q13485</td>\n",
       "      <td>JUN_SMAD4</td>\n",
       "      <td>0:0</td>\n",
       "      <td>SIGNOR</td>\n",
       "      <td>NaN</td>\n",
       "      <td>SIGNOR:SIGNOR-C10</td>\n",
       "    </tr>\n",
       "    <tr>\n",
       "      <th>9</th>\n",
       "      <td>SMAD2/SMURF2</td>\n",
       "      <td>Q15796_Q9HAU4</td>\n",
       "      <td>SMAD2_SMURF2</td>\n",
       "      <td>1:1</td>\n",
       "      <td>Compleat;SIGNOR</td>\n",
       "      <td>11389444</td>\n",
       "      <td>SIGNOR:SIGNOR-C11;Compleat:HC501</td>\n",
       "    </tr>\n",
       "    <tr>\n",
       "      <th>10</th>\n",
       "      <td>SMAD7/HDAC1/E2F-1</td>\n",
       "      <td>O15105_Q01094_Q13547</td>\n",
       "      <td>E2F1_HDAC1_SMAD7</td>\n",
       "      <td>0:0:0</td>\n",
       "      <td>SIGNOR</td>\n",
       "      <td>NaN</td>\n",
       "      <td>SIGNOR:SIGNOR-C12</td>\n",
       "    </tr>\n",
       "    <tr>\n",
       "      <th>11</th>\n",
       "      <td>NfKb-p65/p50</td>\n",
       "      <td>P19838_Q04206</td>\n",
       "      <td>NFKB1_RELA</td>\n",
       "      <td>4:4</td>\n",
       "      <td>Compleat;CORUM;KEGG-MEDICUS;ComplexPortal;PDB;SIGNOR</td>\n",
       "      <td>14755292;30205516;17072323;9556555</td>\n",
       "      <td>SIGNOR:SIGNOR-C13;CORUM:5460;Compleat:HC1876;intact:EBI-25616226;PDB:3gut</td>\n",
       "    </tr>\n",
       "    <tr>\n",
       "      <th>12</th>\n",
       "      <td>IKK-complex</td>\n",
       "      <td>O14920_O15111_Q9Y6K9</td>\n",
       "      <td>CHUK_IKBKB_IKBKG</td>\n",
       "      <td>1:1:1</td>\n",
       "      <td>SPIKE;Compleat;CORUM;hu.MAP2;KEGG-MEDICUS;ComplexPortal;SIGNOR</td>\n",
       "      <td>10893415;14755292;24375677;9751060</td>\n",
       "      <td>SIGNOR:SIGNOR-C14;CORUM:2121;Compleat:HC1074;reactome:R-HSA-727820;reactome:R-HSA-202513;reactome:R-HSA-168113;reactome:R-HSA-202562;intact:EBI-9870239</td>\n",
       "    </tr>\n",
       "    <tr>\n",
       "      <th>13</th>\n",
       "      <td>AMPK</td>\n",
       "      <td>O43741_P54619_P54646_Q13131_Q9UGI9_Q9UGJ0_Q9Y478</td>\n",
       "      <td>PRKAA1_PRKAA2_PRKAB1_PRKAB2_PRKAG1_PRKAG2_PRKAG3</td>\n",
       "      <td>0:0:0:0:0:0:0</td>\n",
       "      <td>SPIKE;hu.MAP2;SIGNOR</td>\n",
       "      <td>NaN</td>\n",
       "      <td>SIGNOR:SIGNOR-C15</td>\n",
       "    </tr>\n",
       "    <tr>\n",
       "      <th>14</th>\n",
       "      <td>CyclinE/CDK2</td>\n",
       "      <td>O96020_P24941</td>\n",
       "      <td>CCNE2_CDK2</td>\n",
       "      <td>1:1</td>\n",
       "      <td>KEGG-MEDICUS;ComplexPortal;SIGNOR</td>\n",
       "      <td>14755292;15838514</td>\n",
       "      <td>SIGNOR:SIGNOR-C16;reactome:R-HSA-68368;reactome:R-HSA-68372;intact:EBI-768489</td>\n",
       "    </tr>\n",
       "    <tr>\n",
       "      <th>15</th>\n",
       "      <td>CyclinB/CDK1</td>\n",
       "      <td>P06493_P14635</td>\n",
       "      <td>CCNB1_CDK1</td>\n",
       "      <td>1:1</td>\n",
       "      <td>SPIKE;Compleat;CORUM;KEGG-MEDICUS;ComplexPortal;SIGNOR</td>\n",
       "      <td>17495531;14755292;8070405</td>\n",
       "      <td>SIGNOR:SIGNOR-C17;CORUM:5543;Compleat:HC968;reactome:R-HSA-170047;reactome:R-HSA-170048;reactome:R-HSA-170065;reactome:R-HSA-170127;reactome:R-HSA-170121;reactome:R-HSA-170081;reactome:R-HSA-6803876;reactome:R-HSA-170068;reactome:R-HSA-170056;reactome:R-HSA-170160;reactome:R-HSA-170073;reactome:R-HSA-75032;intact:EBI-767678;PDB:2JGZ</td>\n",
       "    </tr>\n",
       "    <tr>\n",
       "      <th>16</th>\n",
       "      <td>CyclinD/CDK4</td>\n",
       "      <td>P11802_P24385</td>\n",
       "      <td>CCND1_CDK4</td>\n",
       "      <td>1:1</td>\n",
       "      <td>Compleat;CORUM;KEGG-MEDICUS;ComplexPortal;PDB;SIGNOR</td>\n",
       "      <td>9447971;14755292;12588994;15735718</td>\n",
       "      <td>SIGNOR:SIGNOR-C18;CORUM:3084;Compleat:HC891;intact:EBI-767849;reactome:R-HSA-75812;reactome:R-HSA-68331;reactome:R-HSA-75814;PDB:2w96;PDB:2w9z;PDB:2w9f;PDB:2w99</td>\n",
       "    </tr>\n",
       "    <tr>\n",
       "      <th>17</th>\n",
       "      <td>HMT</td>\n",
       "      <td>O14686_P61964_Q9UBL3</td>\n",
       "      <td>ASH2L_KMT2D_WDR5</td>\n",
       "      <td>0:0:0</td>\n",
       "      <td>SIGNOR</td>\n",
       "      <td>NaN</td>\n",
       "      <td>SIGNOR:SIGNOR-C19</td>\n",
       "    </tr>\n",
       "    <tr>\n",
       "      <th>18</th>\n",
       "      <td>CDON/SPAG9</td>\n",
       "      <td>O60271_Q4KMG0</td>\n",
       "      <td>CDON_SPAG9</td>\n",
       "      <td>0:0</td>\n",
       "      <td>SIGNOR</td>\n",
       "      <td>NaN</td>\n",
       "      <td>SIGNOR:SIGNOR-C21</td>\n",
       "    </tr>\n",
       "    <tr>\n",
       "      <th>19</th>\n",
       "      <td>CDO/JLP/P38</td>\n",
       "      <td>O60271_Q4KMG0_Q9HCK4</td>\n",
       "      <td>CDON_ROBO2_SPAG9</td>\n",
       "      <td>0:0:0</td>\n",
       "      <td>SIGNOR</td>\n",
       "      <td>NaN</td>\n",
       "      <td>SIGNOR:SIGNOR-C22</td>\n",
       "    </tr>\n",
       "  </tbody>\n",
       "</table>\n",
       "</div>"
      ],
      "text/plain": [
       "                 name                                        components  \\\n",
       "0                 NFY                              P23511_P25208_Q13952   \n",
       "1              mTORC2         P42345_P68104_P85299_Q6R327_Q8TB45_Q9BVC4   \n",
       "2              mTORC1                P42345_Q8N122_Q8TB45_Q96B36_Q9BVC4   \n",
       "3        SCF-betaTRCP                              P63208_Q13616_Q9Y297   \n",
       "4            CBP/p300                                     Q09472_Q92793   \n",
       "5           P300/PCAF                              Q09472_Q92793_Q92831   \n",
       "6         SMAD2/SMAD4                                     Q13485_Q15796   \n",
       "7         SMAD3/SMAD4                                     P84022_Q13485   \n",
       "8           SMAD4/JUN                                     P05412_Q13485   \n",
       "9        SMAD2/SMURF2                                     Q15796_Q9HAU4   \n",
       "10  SMAD7/HDAC1/E2F-1                              O15105_Q01094_Q13547   \n",
       "11       NfKb-p65/p50                                     P19838_Q04206   \n",
       "12        IKK-complex                              O14920_O15111_Q9Y6K9   \n",
       "13               AMPK  O43741_P54619_P54646_Q13131_Q9UGI9_Q9UGJ0_Q9Y478   \n",
       "14       CyclinE/CDK2                                     O96020_P24941   \n",
       "15       CyclinB/CDK1                                     P06493_P14635   \n",
       "16       CyclinD/CDK4                                     P11802_P24385   \n",
       "17                HMT                              O14686_P61964_Q9UBL3   \n",
       "18         CDON/SPAG9                                     O60271_Q4KMG0   \n",
       "19        CDO/JLP/P38                              O60271_Q4KMG0_Q9HCK4   \n",
       "\n",
       "                              components_genesymbols  stoichiometry  \\\n",
       "0                                     NFYA_NFYB_NFYC          1:1:1   \n",
       "1               DEPTOR_EEF1A1_MLST8_MTOR_PRR5_RICTOR    0:0:0:0:0:0   \n",
       "2                     AKT1S1_DEPTOR_MLST8_MTOR_RPTOR      0:0:0:0:0   \n",
       "3                                     BTRC_CUL1_SKP1          1:1:1   \n",
       "4                                       CREBBP_EP300            0:0   \n",
       "5                                 CREBBP_EP300_KAT2B          0:0:0   \n",
       "6                                        SMAD2_SMAD4            1:2   \n",
       "7                                        SMAD3_SMAD4            2:1   \n",
       "8                                          JUN_SMAD4            0:0   \n",
       "9                                       SMAD2_SMURF2            1:1   \n",
       "10                                  E2F1_HDAC1_SMAD7          0:0:0   \n",
       "11                                        NFKB1_RELA            4:4   \n",
       "12                                  CHUK_IKBKB_IKBKG          1:1:1   \n",
       "13  PRKAA1_PRKAA2_PRKAB1_PRKAB2_PRKAG1_PRKAG2_PRKAG3  0:0:0:0:0:0:0   \n",
       "14                                        CCNE2_CDK2            1:1   \n",
       "15                                        CCNB1_CDK1            1:1   \n",
       "16                                        CCND1_CDK4            1:1   \n",
       "17                                  ASH2L_KMT2D_WDR5          0:0:0   \n",
       "18                                        CDON_SPAG9            0:0   \n",
       "19                                  CDON_ROBO2_SPAG9          0:0:0   \n",
       "\n",
       "                                                           sources  \\\n",
       "0     SPIKE;Compleat;CORUM;hu.MAP2;hu.MAP;ComplexPortal;PDB;SIGNOR   \n",
       "1                                                           SIGNOR   \n",
       "2                                                           SIGNOR   \n",
       "3                                      SPIKE;Compleat;CORUM;SIGNOR   \n",
       "4                                                           SIGNOR   \n",
       "5                                                           SIGNOR   \n",
       "6                                         ComplexPortal;PDB;SIGNOR   \n",
       "7                                         ComplexPortal;PDB;SIGNOR   \n",
       "8                                                           SIGNOR   \n",
       "9                                                  Compleat;SIGNOR   \n",
       "10                                                          SIGNOR   \n",
       "11            Compleat;CORUM;KEGG-MEDICUS;ComplexPortal;PDB;SIGNOR   \n",
       "12  SPIKE;Compleat;CORUM;hu.MAP2;KEGG-MEDICUS;ComplexPortal;SIGNOR   \n",
       "13                                            SPIKE;hu.MAP2;SIGNOR   \n",
       "14                               KEGG-MEDICUS;ComplexPortal;SIGNOR   \n",
       "15          SPIKE;Compleat;CORUM;KEGG-MEDICUS;ComplexPortal;SIGNOR   \n",
       "16            Compleat;CORUM;KEGG-MEDICUS;ComplexPortal;PDB;SIGNOR   \n",
       "17                                                          SIGNOR   \n",
       "18                                                          SIGNOR   \n",
       "19                                                          SIGNOR   \n",
       "\n",
       "                                    references  \\\n",
       "0                    9372932;14755292;15243141   \n",
       "1                                          NaN   \n",
       "2                                          NaN   \n",
       "3                                      9990852   \n",
       "4                                          NaN   \n",
       "5                                          NaN   \n",
       "6   12923550;4065410;8061611;16322555;14755292   \n",
       "7   12923550;4065410;8061611;16322555;14755292   \n",
       "8                                          NaN   \n",
       "9                                     11389444   \n",
       "10                                         NaN   \n",
       "11          14755292;30205516;17072323;9556555   \n",
       "12          10893415;14755292;24375677;9751060   \n",
       "13                                         NaN   \n",
       "14                           14755292;15838514   \n",
       "15                   17495531;14755292;8070405   \n",
       "16          9447971;14755292;12588994;15735718   \n",
       "17                                         NaN   \n",
       "18                                         NaN   \n",
       "19                                         NaN   \n",
       "\n",
       "                                                                                                                                                                                                                                                                                                                                       identifiers  \n",
       "0                                                                                                                                                                                                                                               SIGNOR:SIGNOR-C1;CORUM:4478;Compleat:HC1449;intact:EBI-6672597;PDB:6qms;PDB:4awl;PDB:6qmq;PDB:6qmp  \n",
       "1                                                                                                                                                                                                                                                                                                                                 SIGNOR:SIGNOR-C2  \n",
       "2                                                                                                                                                                                                                                                                                                                                 SIGNOR:SIGNOR-C3  \n",
       "3                                                                                                                                                                                                                                                                                                        SIGNOR:SIGNOR-C5;CORUM:227;Compleat:HC757  \n",
       "4                                                                                                                                                                                                                                                                                                                                 SIGNOR:SIGNOR-C6  \n",
       "5                                                                                                                                                                                                                                                                                                                                 SIGNOR:SIGNOR-C7  \n",
       "6                                                                                                                                                                                                                                                                               SIGNOR:SIGNOR-C8;intact:EBI-9692430;reactome:R-HSA-206827;PDB:1u7v  \n",
       "7                                                                                                                                                                                                                                                                                            SIGNOR:SIGNOR-C9;intact:EBI-9826300;PDB:1u7f;PDB:1U7F  \n",
       "8                                                                                                                                                                                                                                                                                                                                SIGNOR:SIGNOR-C10  \n",
       "9                                                                                                                                                                                                                                                                                                                 SIGNOR:SIGNOR-C11;Compleat:HC501  \n",
       "10                                                                                                                                                                                                                                                                                                                               SIGNOR:SIGNOR-C12  \n",
       "11                                                                                                                                                                                                                                                                       SIGNOR:SIGNOR-C13;CORUM:5460;Compleat:HC1876;intact:EBI-25616226;PDB:3gut  \n",
       "12                                                                                                                                                                                         SIGNOR:SIGNOR-C14;CORUM:2121;Compleat:HC1074;reactome:R-HSA-727820;reactome:R-HSA-202513;reactome:R-HSA-168113;reactome:R-HSA-202562;intact:EBI-9870239  \n",
       "13                                                                                                                                                                                                                                                                                                                               SIGNOR:SIGNOR-C15  \n",
       "14                                                                                                                                                                                                                                                                   SIGNOR:SIGNOR-C16;reactome:R-HSA-68368;reactome:R-HSA-68372;intact:EBI-768489  \n",
       "15  SIGNOR:SIGNOR-C17;CORUM:5543;Compleat:HC968;reactome:R-HSA-170047;reactome:R-HSA-170048;reactome:R-HSA-170065;reactome:R-HSA-170127;reactome:R-HSA-170121;reactome:R-HSA-170081;reactome:R-HSA-6803876;reactome:R-HSA-170068;reactome:R-HSA-170056;reactome:R-HSA-170160;reactome:R-HSA-170073;reactome:R-HSA-75032;intact:EBI-767678;PDB:2JGZ  \n",
       "16                                                                                                                                                                                SIGNOR:SIGNOR-C18;CORUM:3084;Compleat:HC891;intact:EBI-767849;reactome:R-HSA-75812;reactome:R-HSA-68331;reactome:R-HSA-75814;PDB:2w96;PDB:2w9z;PDB:2w9f;PDB:2w99  \n",
       "17                                                                                                                                                                                                                                                                                                                               SIGNOR:SIGNOR-C19  \n",
       "18                                                                                                                                                                                                                                                                                                                               SIGNOR:SIGNOR-C21  \n",
       "19                                                                                                                                                                                                                                                                                                                               SIGNOR:SIGNOR-C22  "
      ]
     },
     "execution_count": 10,
     "metadata": {},
     "output_type": "execute_result"
    }
   ],
   "source": [
    "complexes_df.head(20)"
   ]
  },
  {
   "cell_type": "code",
   "execution_count": 15,
   "metadata": {},
   "outputs": [
    {
     "data": {
      "text/html": [
       "<div>\n",
       "<style scoped>\n",
       "    .dataframe tbody tr th:only-of-type {\n",
       "        vertical-align: middle;\n",
       "    }\n",
       "\n",
       "    .dataframe tbody tr th {\n",
       "        vertical-align: top;\n",
       "    }\n",
       "\n",
       "    .dataframe thead th {\n",
       "        text-align: right;\n",
       "    }\n",
       "</style>\n",
       "<table border=\"1\" class=\"dataframe\">\n",
       "  <thead>\n",
       "    <tr style=\"text-align: right;\">\n",
       "      <th></th>\n",
       "      <th>name</th>\n",
       "      <th>components</th>\n",
       "      <th>components_genesymbols</th>\n",
       "      <th>stoichiometry</th>\n",
       "      <th>sources</th>\n",
       "      <th>references</th>\n",
       "      <th>identifiers</th>\n",
       "    </tr>\n",
       "  </thead>\n",
       "  <tbody>\n",
       "    <tr>\n",
       "      <th>21318</th>\n",
       "      <td>NaN</td>\n",
       "      <td>P04271_Q15109</td>\n",
       "      <td>AGER_S100B</td>\n",
       "      <td>4:1</td>\n",
       "      <td>PDB</td>\n",
       "      <td>NaN</td>\n",
       "      <td>PDB:5d7f;PDB:4xyn</td>\n",
       "    </tr>\n",
       "  </tbody>\n",
       "</table>\n",
       "</div>"
      ],
      "text/plain": [
       "      name     components components_genesymbols stoichiometry sources  \\\n",
       "21318  NaN  P04271_Q15109             AGER_S100B           4:1     PDB   \n",
       "\n",
       "      references        identifiers  \n",
       "21318        NaN  PDB:5d7f;PDB:4xyn  "
      ]
     },
     "execution_count": 15,
     "metadata": {},
     "output_type": "execute_result"
    }
   ],
   "source": [
    "complexes_df[complexes_df[\"components\"]==\"P04271_Q15109\"]"
   ]
  },
  {
   "cell_type": "code",
   "execution_count": 11,
   "metadata": {
    "scrolled": true
   },
   "outputs": [
    {
     "name": "stdout",
     "output_type": "stream",
     "text": [
      "<class 'pandas.core.frame.DataFrame'>\n",
      "RangeIndex: 35460 entries, 0 to 35459\n",
      "Data columns (total 7 columns):\n",
      " #   Column                  Non-Null Count  Dtype \n",
      "---  ------                  --------------  ----- \n",
      " 0   name                    10665 non-null  object\n",
      " 1   components              35459 non-null  object\n",
      " 2   components_genesymbols  35459 non-null  object\n",
      " 3   stoichiometry           35459 non-null  object\n",
      " 4   sources                 35460 non-null  object\n",
      " 5   references              5557 non-null   object\n",
      " 6   identifiers             24140 non-null  object\n",
      "dtypes: object(7)\n",
      "memory usage: 1.9+ MB\n"
     ]
    }
   ],
   "source": [
    "complexes_df.info()"
   ]
  },
  {
   "cell_type": "markdown",
   "metadata": {},
   "source": [
    "## Section 2. Metadata\n",
    "\n",
    "We are interested in having a table with the following information:\n",
    "\n",
    "\n",
    "- Column name.\n",
    "- Data Type.\n",
    "- A certain colum could contain null values.\n",
    "- Number of unique  values.\n",
    "\n",
    "That could be done using the next cell:"
   ]
  },
  {
   "cell_type": "markdown",
   "metadata": {},
   "source": [
    "### Section 2.1. Overview"
   ]
  },
  {
   "cell_type": "code",
   "execution_count": 13,
   "metadata": {},
   "outputs": [
    {
     "data": {
      "text/html": [
       "<div>\n",
       "<style scoped>\n",
       "    .dataframe tbody tr th:only-of-type {\n",
       "        vertical-align: middle;\n",
       "    }\n",
       "\n",
       "    .dataframe tbody tr th {\n",
       "        vertical-align: top;\n",
       "    }\n",
       "\n",
       "    .dataframe thead th {\n",
       "        text-align: right;\n",
       "    }\n",
       "</style>\n",
       "<table border=\"1\" class=\"dataframe\">\n",
       "  <thead>\n",
       "    <tr style=\"text-align: right;\">\n",
       "      <th></th>\n",
       "      <th>Column Name</th>\n",
       "      <th>Data Type</th>\n",
       "      <th>Nullable</th>\n",
       "      <th>Unique Values</th>\n",
       "    </tr>\n",
       "  </thead>\n",
       "  <tbody>\n",
       "    <tr>\n",
       "      <th>0</th>\n",
       "      <td>name</td>\n",
       "      <td>object</td>\n",
       "      <td>True</td>\n",
       "      <td>6061</td>\n",
       "    </tr>\n",
       "    <tr>\n",
       "      <th>1</th>\n",
       "      <td>components</td>\n",
       "      <td>object</td>\n",
       "      <td>True</td>\n",
       "      <td>35459</td>\n",
       "    </tr>\n",
       "    <tr>\n",
       "      <th>2</th>\n",
       "      <td>components_genesymbols</td>\n",
       "      <td>object</td>\n",
       "      <td>True</td>\n",
       "      <td>35282</td>\n",
       "    </tr>\n",
       "    <tr>\n",
       "      <th>3</th>\n",
       "      <td>stoichiometry</td>\n",
       "      <td>object</td>\n",
       "      <td>True</td>\n",
       "      <td>594</td>\n",
       "    </tr>\n",
       "    <tr>\n",
       "      <th>4</th>\n",
       "      <td>sources</td>\n",
       "      <td>object</td>\n",
       "      <td>False</td>\n",
       "      <td>300</td>\n",
       "    </tr>\n",
       "    <tr>\n",
       "      <th>5</th>\n",
       "      <td>references</td>\n",
       "      <td>object</td>\n",
       "      <td>True</td>\n",
       "      <td>3358</td>\n",
       "    </tr>\n",
       "    <tr>\n",
       "      <th>6</th>\n",
       "      <td>identifiers</td>\n",
       "      <td>object</td>\n",
       "      <td>True</td>\n",
       "      <td>19800</td>\n",
       "    </tr>\n",
       "  </tbody>\n",
       "</table>\n",
       "</div>"
      ],
      "text/plain": [
       "              Column Name Data Type  Nullable  Unique Values\n",
       "0                    name    object      True           6061\n",
       "1              components    object      True          35459\n",
       "2  components_genesymbols    object      True          35282\n",
       "3           stoichiometry    object      True            594\n",
       "4                 sources    object     False            300\n",
       "5              references    object      True           3358\n",
       "6             identifiers    object      True          19800"
      ]
     },
     "execution_count": 13,
     "metadata": {},
     "output_type": "execute_result"
    }
   ],
   "source": [
    "metadata = pd.DataFrame({\n",
    "    'Column Name': complexes_df.columns,\n",
    "    'Data Type': complexes_df.dtypes.values,\n",
    "    'Nullable': complexes_df.isnull().any().values,\n",
    "    'Unique Values': [complexes_df[col].nunique() for col in complexes_df.columns]\n",
    "})\n",
    "\n",
    "metadata"
   ]
  },
  {
   "cell_type": "markdown",
   "metadata": {},
   "source": [
    "### Section 2.2. Unique values per column"
   ]
  },
  {
   "cell_type": "markdown",
   "metadata": {},
   "source": [
    "To know all the unique values in a certain column, just type the column's name in the variable *field*:"
   ]
  },
  {
   "cell_type": "code",
   "execution_count": null,
   "metadata": {},
   "outputs": [
    {
     "name": "stdout",
     "output_type": "stream",
     "text": [
      "List of unique values in field: parent\n",
      "\t['transmembrane' 'transmembrane_predicted' 'peripheral' 'plasma_membrane'\n",
      " 'plasma_membrane_transmembrane' 'plasma_membrane_regulator'\n",
      " 'plasma_membrane_peripheral' 'secreted' 'cell_surface' 'ecm' 'ligand'\n",
      " 'receptor' 'secreted_enzyme' 'secreted_peptidase' 'extracellular'\n",
      " 'intracellular' 'receptor_regulator' 'secreted_receptor'\n",
      " 'sparc_ecm_regulator' 'ecm_regulator' 'ligand_regulator'\n",
      " 'cell_surface_ligand' 'cell_adhesion' 'matrix_adhesion' 'adhesion'\n",
      " 'matrix_adhesion_regulator' 'cell_surface_enzyme'\n",
      " 'cell_surface_peptidase' 'secreted_enyzme' 'extracellular_peptidase'\n",
      " 'secreted_peptidase_inhibitor' 'transporter' 'ion_channel'\n",
      " 'ion_channel_regulator' 'gap_junction' 'tight_junction'\n",
      " 'adherens_junction' 'desmosome' 'intracellular_intercellular_related']\n"
     ]
    }
   ],
   "source": [
    "field = \"parent\"\n",
    "\n",
    "print(\"List of unique values in field: {}\\n\\t{}\".format(field, complexes_df[field].unique()))"
   ]
  },
  {
   "cell_type": "markdown",
   "metadata": {},
   "source": [
    "## Section 3. Free Exploratory Analysis\n",
    "\n",
    "In this section you can explore the data as you want, it means you can filter, select columns, counting values, etc. Feel free to explore as much you want."
   ]
  },
  {
   "cell_type": "code",
   "execution_count": null,
   "metadata": {},
   "outputs": [],
   "source": []
  },
  {
   "cell_type": "markdown",
   "metadata": {},
   "source": [
    "### Counting Null values"
   ]
  },
  {
   "cell_type": "code",
   "execution_count": 16,
   "metadata": {},
   "outputs": [
    {
     "data": {
      "text/plain": [
       "1        NaN\n",
       "2        NaN\n",
       "4        NaN\n",
       "5        NaN\n",
       "8        NaN\n",
       "        ... \n",
       "35455    NaN\n",
       "35456    NaN\n",
       "35457    NaN\n",
       "35458    NaN\n",
       "35459    NaN\n",
       "Name: references, Length: 29903, dtype: object"
      ]
     },
     "execution_count": 16,
     "metadata": {},
     "output_type": "execute_result"
    }
   ],
   "source": [
    "complexes_df.references[complexes_df['references'].isnull()]"
   ]
  },
  {
   "cell_type": "markdown",
   "metadata": {},
   "source": [
    "### Counting Null "
   ]
  },
  {
   "cell_type": "code",
   "execution_count": 12,
   "metadata": {},
   "outputs": [
    {
     "data": {
      "text/plain": [
       "np.int64(32120)"
      ]
     },
     "execution_count": 12,
     "metadata": {},
     "output_type": "execute_result"
    }
   ],
   "source": [
    "num_nulls_in_references = intercell_df['references'].isnull().sum()\n",
    "num_nulls_in_references"
   ]
  },
  {
   "cell_type": "markdown",
   "metadata": {},
   "source": [
    "### Counting True values"
   ]
  },
  {
   "cell_type": "code",
   "execution_count": 13,
   "metadata": {},
   "outputs": [
    {
     "data": {
      "text/plain": [
       "np.int64(0)"
      ]
     },
     "execution_count": 13,
     "metadata": {},
     "output_type": "execute_result"
    }
   ],
   "source": [
    "num_True_in_references = (intercell_df.references==True).sum()\n",
    "num_True_in_references"
   ]
  },
  {
   "cell_type": "markdown",
   "metadata": {},
   "source": [
    "### Counting \"True\" values"
   ]
  },
  {
   "cell_type": "code",
   "execution_count": 14,
   "metadata": {},
   "outputs": [
    {
     "data": {
      "text/plain": [
       "np.int64(0)"
      ]
     },
     "execution_count": 14,
     "metadata": {},
     "output_type": "execute_result"
    }
   ],
   "source": [
    "num_true_in_references = (intercell_df.references==\"True\").sum()\n",
    "num_true_in_references"
   ]
  },
  {
   "cell_type": "markdown",
   "metadata": {},
   "source": [
    "### Counting 1 values"
   ]
  },
  {
   "cell_type": "code",
   "execution_count": 15,
   "metadata": {},
   "outputs": [
    {
     "data": {
      "text/plain": [
       "np.int64(0)"
      ]
     },
     "execution_count": 15,
     "metadata": {},
     "output_type": "execute_result"
    }
   ],
   "source": [
    "num_one_in_references = (intercell_df.references==\"1\").sum()\n",
    "num_one_in_references"
   ]
  },
  {
   "cell_type": "markdown",
   "metadata": {},
   "source": [
    "### Counting False values"
   ]
  },
  {
   "cell_type": "code",
   "execution_count": 16,
   "metadata": {},
   "outputs": [
    {
     "data": {
      "text/plain": [
       "np.int64(0)"
      ]
     },
     "execution_count": 16,
     "metadata": {},
     "output_type": "execute_result"
    }
   ],
   "source": [
    "num_False_in_references= (intercell_df.references==False).sum()\n",
    "num_False_in_references"
   ]
  },
  {
   "cell_type": "markdown",
   "metadata": {},
   "source": [
    "### Counting \"False\" values"
   ]
  },
  {
   "cell_type": "code",
   "execution_count": 17,
   "metadata": {},
   "outputs": [
    {
     "data": {
      "text/plain": [
       "np.int64(0)"
      ]
     },
     "execution_count": 17,
     "metadata": {},
     "output_type": "execute_result"
    }
   ],
   "source": [
    "num_false_in_references = (intercell_df.references==\"False\").sum()\n",
    "num_false_in_references"
   ]
  },
  {
   "cell_type": "markdown",
   "metadata": {},
   "source": [
    "### Filtering"
   ]
  },
  {
   "cell_type": "code",
   "execution_count": 18,
   "metadata": {},
   "outputs": [
    {
     "data": {
      "text/html": [
       "<div>\n",
       "<style scoped>\n",
       "    .dataframe tbody tr th:only-of-type {\n",
       "        vertical-align: middle;\n",
       "    }\n",
       "\n",
       "    .dataframe tbody tr th {\n",
       "        vertical-align: top;\n",
       "    }\n",
       "\n",
       "    .dataframe thead th {\n",
       "        text-align: right;\n",
       "    }\n",
       "</style>\n",
       "<table border=\"1\" class=\"dataframe\">\n",
       "  <thead>\n",
       "    <tr style=\"text-align: right;\">\n",
       "      <th></th>\n",
       "      <th>enzyme</th>\n",
       "      <th>enzyme_genesymbol</th>\n",
       "      <th>substrate</th>\n",
       "      <th>substrate_genesymbol</th>\n",
       "      <th>isoforms</th>\n",
       "      <th>residue_type</th>\n",
       "      <th>residue_offset</th>\n",
       "      <th>modification</th>\n",
       "      <th>sources</th>\n",
       "      <th>references</th>\n",
       "      <th>curation_effort</th>\n",
       "      <th>ncbi_tax_id</th>\n",
       "    </tr>\n",
       "  </thead>\n",
       "  <tbody>\n",
       "    <tr>\n",
       "      <th>65530</th>\n",
       "      <td>O88697</td>\n",
       "      <td>Stk16</td>\n",
       "      <td>Q9D0N7</td>\n",
       "      <td>Chaf1b</td>\n",
       "      <td>1</td>\n",
       "      <td>S</td>\n",
       "      <td>422</td>\n",
       "      <td>phosphorylation</td>\n",
       "      <td>PhosphoNetworks</td>\n",
       "      <td>NaN</td>\n",
       "      <td>0</td>\n",
       "      <td>10090</td>\n",
       "    </tr>\n",
       "    <tr>\n",
       "      <th>65531</th>\n",
       "      <td>O88697</td>\n",
       "      <td>Stk16</td>\n",
       "      <td>Q9D0N7</td>\n",
       "      <td>Chaf1b</td>\n",
       "      <td>1</td>\n",
       "      <td>S</td>\n",
       "      <td>458</td>\n",
       "      <td>phosphorylation</td>\n",
       "      <td>PhosphoNetworks</td>\n",
       "      <td>NaN</td>\n",
       "      <td>0</td>\n",
       "      <td>10090</td>\n",
       "    </tr>\n",
       "  </tbody>\n",
       "</table>\n",
       "</div>"
      ],
      "text/plain": [
       "       enzyme enzyme_genesymbol substrate substrate_genesymbol isoforms  \\\n",
       "65530  O88697             Stk16    Q9D0N7               Chaf1b        1   \n",
       "65531  O88697             Stk16    Q9D0N7               Chaf1b        1   \n",
       "\n",
       "      residue_type  residue_offset     modification          sources  \\\n",
       "65530            S             422  phosphorylation  PhosphoNetworks   \n",
       "65531            S             458  phosphorylation  PhosphoNetworks   \n",
       "\n",
       "      references  curation_effort  ncbi_tax_id  \n",
       "65530        NaN                0        10090  \n",
       "65531        NaN                0        10090  "
      ]
     },
     "execution_count": 18,
     "metadata": {},
     "output_type": "execute_result"
    }
   ],
   "source": [
    "filtered = intercell_df[(intercell_df[\"substrate\"]==\"Q9D0N7\")]\n",
    "filtered"
   ]
  },
  {
   "cell_type": "code",
   "execution_count": 19,
   "metadata": {},
   "outputs": [
    {
     "data": {
      "text/html": [
       "<div>\n",
       "<style scoped>\n",
       "    .dataframe tbody tr th:only-of-type {\n",
       "        vertical-align: middle;\n",
       "    }\n",
       "\n",
       "    .dataframe tbody tr th {\n",
       "        vertical-align: top;\n",
       "    }\n",
       "\n",
       "    .dataframe thead th {\n",
       "        text-align: right;\n",
       "    }\n",
       "</style>\n",
       "<table border=\"1\" class=\"dataframe\">\n",
       "  <thead>\n",
       "    <tr style=\"text-align: right;\">\n",
       "      <th></th>\n",
       "      <th>enzyme</th>\n",
       "      <th>enzyme_genesymbol</th>\n",
       "      <th>substrate</th>\n",
       "      <th>substrate_genesymbol</th>\n",
       "      <th>isoforms</th>\n",
       "      <th>residue_type</th>\n",
       "      <th>residue_offset</th>\n",
       "      <th>modification</th>\n",
       "      <th>sources</th>\n",
       "      <th>references</th>\n",
       "      <th>curation_effort</th>\n",
       "      <th>ncbi_tax_id</th>\n",
       "    </tr>\n",
       "  </thead>\n",
       "  <tbody>\n",
       "    <tr>\n",
       "      <th>69040</th>\n",
       "      <td>P02340</td>\n",
       "      <td>Tp53</td>\n",
       "      <td>Q04207</td>\n",
       "      <td>Rela</td>\n",
       "      <td>2</td>\n",
       "      <td>S</td>\n",
       "      <td>538</td>\n",
       "      <td>phosphorylation</td>\n",
       "      <td>ProtMapper;Sparser_ProtMapper</td>\n",
       "      <td>ProtMapper:18477470</td>\n",
       "      <td>1</td>\n",
       "      <td>10090</td>\n",
       "    </tr>\n",
       "    <tr>\n",
       "      <th>69128</th>\n",
       "      <td>P02340</td>\n",
       "      <td>Tp53</td>\n",
       "      <td>P39689</td>\n",
       "      <td>Cdkn1a</td>\n",
       "      <td>1</td>\n",
       "      <td>S</td>\n",
       "      <td>148</td>\n",
       "      <td>phosphorylation</td>\n",
       "      <td>ProtMapper;Sparser_ProtMapper</td>\n",
       "      <td>ProtMapper:12897801</td>\n",
       "      <td>1</td>\n",
       "      <td>10090</td>\n",
       "    </tr>\n",
       "    <tr>\n",
       "      <th>69715</th>\n",
       "      <td>P02340</td>\n",
       "      <td>Tp53</td>\n",
       "      <td>P02340</td>\n",
       "      <td>Tp53</td>\n",
       "      <td>1</td>\n",
       "      <td>S</td>\n",
       "      <td>37</td>\n",
       "      <td>phosphorylation</td>\n",
       "      <td>ProtMapper;Sparser_ProtMapper</td>\n",
       "      <td>ProtMapper:20354524</td>\n",
       "      <td>1</td>\n",
       "      <td>10090</td>\n",
       "    </tr>\n",
       "    <tr>\n",
       "      <th>69767</th>\n",
       "      <td>P02340</td>\n",
       "      <td>Tp53</td>\n",
       "      <td>Q9Z265</td>\n",
       "      <td>Chek2</td>\n",
       "      <td>1</td>\n",
       "      <td>T</td>\n",
       "      <td>68</td>\n",
       "      <td>phosphorylation</td>\n",
       "      <td>ProtMapper;REACH_ProtMapper</td>\n",
       "      <td>ProtMapper:24553354</td>\n",
       "      <td>1</td>\n",
       "      <td>10090</td>\n",
       "    </tr>\n",
       "    <tr>\n",
       "      <th>69997</th>\n",
       "      <td>P02340</td>\n",
       "      <td>Tp53</td>\n",
       "      <td>Q9DBR7</td>\n",
       "      <td>Ppp1r12a</td>\n",
       "      <td>1;2</td>\n",
       "      <td>T</td>\n",
       "      <td>698</td>\n",
       "      <td>phosphorylation</td>\n",
       "      <td>ProtMapper;REACH_ProtMapper</td>\n",
       "      <td>ProtMapper:24343302</td>\n",
       "      <td>1</td>\n",
       "      <td>10090</td>\n",
       "    </tr>\n",
       "    <tr>\n",
       "      <th>70021</th>\n",
       "      <td>P02340</td>\n",
       "      <td>Tp53</td>\n",
       "      <td>P38532</td>\n",
       "      <td>Hsf1</td>\n",
       "      <td>1;2</td>\n",
       "      <td>S</td>\n",
       "      <td>326</td>\n",
       "      <td>phosphorylation</td>\n",
       "      <td>ProtMapper;Sparser_ProtMapper</td>\n",
       "      <td>ProtMapper:24763051</td>\n",
       "      <td>1</td>\n",
       "      <td>10090</td>\n",
       "    </tr>\n",
       "    <tr>\n",
       "      <th>70187</th>\n",
       "      <td>P02340</td>\n",
       "      <td>Tp53</td>\n",
       "      <td>P27661</td>\n",
       "      <td>H2ax</td>\n",
       "      <td>1</td>\n",
       "      <td>S</td>\n",
       "      <td>140</td>\n",
       "      <td>phosphorylation</td>\n",
       "      <td>ProtMapper;REACH_ProtMapper</td>\n",
       "      <td>ProtMapper:24413150</td>\n",
       "      <td>1</td>\n",
       "      <td>10090</td>\n",
       "    </tr>\n",
       "    <tr>\n",
       "      <th>70303</th>\n",
       "      <td>P02340</td>\n",
       "      <td>Tp53</td>\n",
       "      <td>Q62193</td>\n",
       "      <td>Rpa2</td>\n",
       "      <td>1</td>\n",
       "      <td>S</td>\n",
       "      <td>33</td>\n",
       "      <td>phosphorylation</td>\n",
       "      <td>ProtMapper;REACH_ProtMapper</td>\n",
       "      <td>ProtMapper:29874588</td>\n",
       "      <td>1</td>\n",
       "      <td>10090</td>\n",
       "    </tr>\n",
       "    <tr>\n",
       "      <th>70677</th>\n",
       "      <td>P02340</td>\n",
       "      <td>Tp53</td>\n",
       "      <td>O35280</td>\n",
       "      <td>Chek1</td>\n",
       "      <td>1</td>\n",
       "      <td>S</td>\n",
       "      <td>317</td>\n",
       "      <td>phosphorylation</td>\n",
       "      <td>ProtMapper;REACH_ProtMapper</td>\n",
       "      <td>ProtMapper:29874588</td>\n",
       "      <td>1</td>\n",
       "      <td>10090</td>\n",
       "    </tr>\n",
       "    <tr>\n",
       "      <th>70678</th>\n",
       "      <td>P02340</td>\n",
       "      <td>Tp53</td>\n",
       "      <td>O35280</td>\n",
       "      <td>Chek1</td>\n",
       "      <td>1</td>\n",
       "      <td>S</td>\n",
       "      <td>345</td>\n",
       "      <td>phosphorylation</td>\n",
       "      <td>ProtMapper;REACH_ProtMapper</td>\n",
       "      <td>ProtMapper:20840867</td>\n",
       "      <td>1</td>\n",
       "      <td>10090</td>\n",
       "    </tr>\n",
       "    <tr>\n",
       "      <th>72208</th>\n",
       "      <td>P02340</td>\n",
       "      <td>Tp53</td>\n",
       "      <td>Q60751</td>\n",
       "      <td>Igf1r</td>\n",
       "      <td>1</td>\n",
       "      <td>Y</td>\n",
       "      <td>1163</td>\n",
       "      <td>phosphorylation</td>\n",
       "      <td>BEL-Large-Corpus_ProtMapper;ProtMapper</td>\n",
       "      <td>ProtMapper:19738076</td>\n",
       "      <td>1</td>\n",
       "      <td>10090</td>\n",
       "    </tr>\n",
       "    <tr>\n",
       "      <th>72543</th>\n",
       "      <td>P02340</td>\n",
       "      <td>Tp53</td>\n",
       "      <td>P52480</td>\n",
       "      <td>Pkm</td>\n",
       "      <td>1;2</td>\n",
       "      <td>Y</td>\n",
       "      <td>105</td>\n",
       "      <td>phosphorylation</td>\n",
       "      <td>ProtMapper;REACH_ProtMapper</td>\n",
       "      <td>ProtMapper:27385486</td>\n",
       "      <td>1</td>\n",
       "      <td>10090</td>\n",
       "    </tr>\n",
       "    <tr>\n",
       "      <th>72644</th>\n",
       "      <td>P02340</td>\n",
       "      <td>Tp53</td>\n",
       "      <td>Q9WVH4</td>\n",
       "      <td>Foxo3</td>\n",
       "      <td>1</td>\n",
       "      <td>S</td>\n",
       "      <td>320</td>\n",
       "      <td>phosphorylation</td>\n",
       "      <td>ProtMapper;RLIMS-P_ProtMapper</td>\n",
       "      <td>ProtMapper:24864229</td>\n",
       "      <td>1</td>\n",
       "      <td>10090</td>\n",
       "    </tr>\n",
       "    <tr>\n",
       "      <th>72961</th>\n",
       "      <td>P02340</td>\n",
       "      <td>Tp53</td>\n",
       "      <td>Q9QZR5</td>\n",
       "      <td>Hipk2</td>\n",
       "      <td>1;2</td>\n",
       "      <td>S</td>\n",
       "      <td>46</td>\n",
       "      <td>phosphorylation</td>\n",
       "      <td>ProtMapper;RLIMS-P_ProtMapper</td>\n",
       "      <td>ProtMapper:27901482</td>\n",
       "      <td>1</td>\n",
       "      <td>10090</td>\n",
       "    </tr>\n",
       "    <tr>\n",
       "      <th>73226</th>\n",
       "      <td>P02340</td>\n",
       "      <td>Tp53</td>\n",
       "      <td>Q05816</td>\n",
       "      <td>Fabp5</td>\n",
       "      <td>1</td>\n",
       "      <td>S</td>\n",
       "      <td>16</td>\n",
       "      <td>phosphorylation</td>\n",
       "      <td>ProtMapper;Sparser_ProtMapper</td>\n",
       "      <td>ProtMapper:27047747</td>\n",
       "      <td>1</td>\n",
       "      <td>10090</td>\n",
       "    </tr>\n",
       "  </tbody>\n",
       "</table>\n",
       "</div>"
      ],
      "text/plain": [
       "       enzyme enzyme_genesymbol substrate substrate_genesymbol isoforms  \\\n",
       "69040  P02340              Tp53    Q04207                 Rela        2   \n",
       "69128  P02340              Tp53    P39689               Cdkn1a        1   \n",
       "69715  P02340              Tp53    P02340                 Tp53        1   \n",
       "69767  P02340              Tp53    Q9Z265                Chek2        1   \n",
       "69997  P02340              Tp53    Q9DBR7             Ppp1r12a      1;2   \n",
       "70021  P02340              Tp53    P38532                 Hsf1      1;2   \n",
       "70187  P02340              Tp53    P27661                 H2ax        1   \n",
       "70303  P02340              Tp53    Q62193                 Rpa2        1   \n",
       "70677  P02340              Tp53    O35280                Chek1        1   \n",
       "70678  P02340              Tp53    O35280                Chek1        1   \n",
       "72208  P02340              Tp53    Q60751                Igf1r        1   \n",
       "72543  P02340              Tp53    P52480                  Pkm      1;2   \n",
       "72644  P02340              Tp53    Q9WVH4                Foxo3        1   \n",
       "72961  P02340              Tp53    Q9QZR5                Hipk2      1;2   \n",
       "73226  P02340              Tp53    Q05816                Fabp5        1   \n",
       "\n",
       "      residue_type  residue_offset     modification  \\\n",
       "69040            S             538  phosphorylation   \n",
       "69128            S             148  phosphorylation   \n",
       "69715            S              37  phosphorylation   \n",
       "69767            T              68  phosphorylation   \n",
       "69997            T             698  phosphorylation   \n",
       "70021            S             326  phosphorylation   \n",
       "70187            S             140  phosphorylation   \n",
       "70303            S              33  phosphorylation   \n",
       "70677            S             317  phosphorylation   \n",
       "70678            S             345  phosphorylation   \n",
       "72208            Y            1163  phosphorylation   \n",
       "72543            Y             105  phosphorylation   \n",
       "72644            S             320  phosphorylation   \n",
       "72961            S              46  phosphorylation   \n",
       "73226            S              16  phosphorylation   \n",
       "\n",
       "                                      sources           references  \\\n",
       "69040           ProtMapper;Sparser_ProtMapper  ProtMapper:18477470   \n",
       "69128           ProtMapper;Sparser_ProtMapper  ProtMapper:12897801   \n",
       "69715           ProtMapper;Sparser_ProtMapper  ProtMapper:20354524   \n",
       "69767             ProtMapper;REACH_ProtMapper  ProtMapper:24553354   \n",
       "69997             ProtMapper;REACH_ProtMapper  ProtMapper:24343302   \n",
       "70021           ProtMapper;Sparser_ProtMapper  ProtMapper:24763051   \n",
       "70187             ProtMapper;REACH_ProtMapper  ProtMapper:24413150   \n",
       "70303             ProtMapper;REACH_ProtMapper  ProtMapper:29874588   \n",
       "70677             ProtMapper;REACH_ProtMapper  ProtMapper:29874588   \n",
       "70678             ProtMapper;REACH_ProtMapper  ProtMapper:20840867   \n",
       "72208  BEL-Large-Corpus_ProtMapper;ProtMapper  ProtMapper:19738076   \n",
       "72543             ProtMapper;REACH_ProtMapper  ProtMapper:27385486   \n",
       "72644           ProtMapper;RLIMS-P_ProtMapper  ProtMapper:24864229   \n",
       "72961           ProtMapper;RLIMS-P_ProtMapper  ProtMapper:27901482   \n",
       "73226           ProtMapper;Sparser_ProtMapper  ProtMapper:27047747   \n",
       "\n",
       "       curation_effort  ncbi_tax_id  \n",
       "69040                1        10090  \n",
       "69128                1        10090  \n",
       "69715                1        10090  \n",
       "69767                1        10090  \n",
       "69997                1        10090  \n",
       "70021                1        10090  \n",
       "70187                1        10090  \n",
       "70303                1        10090  \n",
       "70677                1        10090  \n",
       "70678                1        10090  \n",
       "72208                1        10090  \n",
       "72543                1        10090  \n",
       "72644                1        10090  \n",
       "72961                1        10090  \n",
       "73226                1        10090  "
      ]
     },
     "execution_count": 19,
     "metadata": {},
     "output_type": "execute_result"
    }
   ],
   "source": [
    "filtered = intercell_df[(intercell_df[\"enzyme\"]==\"P02340\")]\n",
    "filtered"
   ]
  },
  {
   "cell_type": "code",
   "execution_count": 20,
   "metadata": {},
   "outputs": [
    {
     "data": {
      "text/html": [
       "<div>\n",
       "<style scoped>\n",
       "    .dataframe tbody tr th:only-of-type {\n",
       "        vertical-align: middle;\n",
       "    }\n",
       "\n",
       "    .dataframe tbody tr th {\n",
       "        vertical-align: top;\n",
       "    }\n",
       "\n",
       "    .dataframe thead th {\n",
       "        text-align: right;\n",
       "    }\n",
       "</style>\n",
       "<table border=\"1\" class=\"dataframe\">\n",
       "  <thead>\n",
       "    <tr style=\"text-align: right;\">\n",
       "      <th></th>\n",
       "      <th>enzyme</th>\n",
       "      <th>enzyme_genesymbol</th>\n",
       "      <th>substrate</th>\n",
       "      <th>substrate_genesymbol</th>\n",
       "      <th>isoforms</th>\n",
       "      <th>residue_type</th>\n",
       "      <th>residue_offset</th>\n",
       "      <th>modification</th>\n",
       "      <th>sources</th>\n",
       "      <th>references</th>\n",
       "      <th>curation_effort</th>\n",
       "      <th>ncbi_tax_id</th>\n",
       "    </tr>\n",
       "  </thead>\n",
       "  <tbody>\n",
       "    <tr>\n",
       "      <th>65530</th>\n",
       "      <td>O88697</td>\n",
       "      <td>Stk16</td>\n",
       "      <td>Q9D0N7</td>\n",
       "      <td>Chaf1b</td>\n",
       "      <td>1</td>\n",
       "      <td>S</td>\n",
       "      <td>422</td>\n",
       "      <td>phosphorylation</td>\n",
       "      <td>PhosphoNetworks</td>\n",
       "      <td>NaN</td>\n",
       "      <td>0</td>\n",
       "      <td>10090</td>\n",
       "    </tr>\n",
       "    <tr>\n",
       "      <th>65531</th>\n",
       "      <td>O88697</td>\n",
       "      <td>Stk16</td>\n",
       "      <td>Q9D0N7</td>\n",
       "      <td>Chaf1b</td>\n",
       "      <td>1</td>\n",
       "      <td>S</td>\n",
       "      <td>458</td>\n",
       "      <td>phosphorylation</td>\n",
       "      <td>PhosphoNetworks</td>\n",
       "      <td>NaN</td>\n",
       "      <td>0</td>\n",
       "      <td>10090</td>\n",
       "    </tr>\n",
       "  </tbody>\n",
       "</table>\n",
       "</div>"
      ],
      "text/plain": [
       "       enzyme enzyme_genesymbol substrate substrate_genesymbol isoforms  \\\n",
       "65530  O88697             Stk16    Q9D0N7               Chaf1b        1   \n",
       "65531  O88697             Stk16    Q9D0N7               Chaf1b        1   \n",
       "\n",
       "      residue_type  residue_offset     modification          sources  \\\n",
       "65530            S             422  phosphorylation  PhosphoNetworks   \n",
       "65531            S             458  phosphorylation  PhosphoNetworks   \n",
       "\n",
       "      references  curation_effort  ncbi_tax_id  \n",
       "65530        NaN                0        10090  \n",
       "65531        NaN                0        10090  "
      ]
     },
     "execution_count": 20,
     "metadata": {},
     "output_type": "execute_result"
    }
   ],
   "source": [
    "filtered = intercell_df[(intercell_df[\"substrate\"]==\"Q9D0N7\")]\n",
    "filtered"
   ]
  },
  {
   "cell_type": "code",
   "execution_count": 27,
   "metadata": {},
   "outputs": [
    {
     "data": {
      "text/plain": [
       "np.int64(93028)"
      ]
     },
     "execution_count": 27,
     "metadata": {},
     "output_type": "execute_result"
    }
   ],
   "source": [
    "count_enzymes = intercell_df[\"enzyme\"].count()\n",
    "count_enzymes"
   ]
  },
  {
   "cell_type": "code",
   "execution_count": null,
   "metadata": {},
   "outputs": [],
   "source": []
  },
  {
   "cell_type": "code",
   "execution_count": 26,
   "metadata": {},
   "outputs": [
    {
     "data": {
      "text/plain": [
       "np.int64(93028)"
      ]
     },
     "execution_count": 26,
     "metadata": {},
     "output_type": "execute_result"
    }
   ],
   "source": [
    "count_substrate = intercell_df[\"substrate\"].count()\n",
    "count_substrate"
   ]
  },
  {
   "cell_type": "code",
   "execution_count": 28,
   "metadata": {},
   "outputs": [
    {
     "data": {
      "text/plain": [
       "186056"
      ]
     },
     "execution_count": 28,
     "metadata": {},
     "output_type": "execute_result"
    }
   ],
   "source": [
    "93028*2"
   ]
  },
  {
   "cell_type": "code",
   "execution_count": 25,
   "metadata": {},
   "outputs": [
    {
     "data": {
      "text/plain": [
       "(93028, 12)"
      ]
     },
     "execution_count": 25,
     "metadata": {},
     "output_type": "execute_result"
    }
   ],
   "source": [
    "intercell_df.shape"
   ]
  },
  {
   "cell_type": "markdown",
   "metadata": {},
   "source": [
    "## Section 4. Load the dataset with predefined data types."
   ]
  },
  {
   "cell_type": "code",
   "execution_count": null,
   "metadata": {},
   "outputs": [],
   "source": []
  },
  {
   "cell_type": "code",
   "execution_count": null,
   "metadata": {},
   "outputs": [],
   "source": []
  },
  {
   "cell_type": "code",
   "execution_count": null,
   "metadata": {},
   "outputs": [],
   "source": []
  }
 ],
 "metadata": {
  "kernelspec": {
   "display_name": "omnipath-secondary-adapter-dvg7nDUJ-py3.12",
   "language": "python",
   "name": "python3"
  },
  "language_info": {
   "codemirror_mode": {
    "name": "ipython",
    "version": 3
   },
   "file_extension": ".py",
   "mimetype": "text/x-python",
   "name": "python",
   "nbconvert_exporter": "python",
   "pygments_lexer": "ipython3",
   "version": "3.12.8"
  }
 },
 "nbformat": 4,
 "nbformat_minor": 4
}
